{
 "cells": [
  {
   "cell_type": "markdown",
   "metadata": {
    "id": "QgumzOZ5wgec",
    "pycharm": {
     "name": "#%% md\n"
    }
   },
   "source": [
    "# Get started with Metrics Tracking"
   ]
  },
  {
   "cell_type": "markdown",
   "metadata": {
    "id": "6eM1BMvDwgee",
    "pycharm": {
     "name": "#%% md\n"
    }
   },
   "source": [
    "This notebook demonstrates how to use MLFlow to:\n",
    "- Log metrics, params, and artifacts to MLFlow.\n",
    "- Log, register, and load models using a local MLflow Tracking Server.\n",
    "- Interact with the MLflow Tracking Server using the MLflow fluent API.\n",
    "- Perform inference on Pandas DataFrames by loading models as generic Python Functions (pyfunc)."
   ]
  },
  {
   "cell_type": "code",
   "execution_count": 1,
   "metadata": {
    "execution": {
     "iopub.execute_input": "2024-10-30T14:01:55.631035Z",
     "iopub.status.busy": "2024-10-30T14:01:55.630675Z",
     "iopub.status.idle": "2024-10-30T14:01:56.844848Z",
     "shell.execute_reply": "2024-10-30T14:01:56.844466Z",
     "shell.execute_reply.started": "2024-10-30T14:01:55.631011Z"
    },
    "id": "rByuPhg7wgei",
    "pycharm": {
     "name": "#%%\n"
    }
   },
   "outputs": [],
   "source": [
    "%load_ext autoreload\n",
    "%autoreload 2\n",
    "%load_ext dotenv\n",
    "%dotenv\n",
    "    \n",
    "import joblib\n",
    "import mlflow\n",
    "from mlflow.models import infer_signature\n",
    "import mlflow.sklearn\n",
    "import pandas as pd\n",
    "from pathlib import Path\n",
    "from sklearn import ensemble, model_selection\n",
    "from sklearn.metrics import mean_squared_error, mean_absolute_error"
   ]
  },
  {
   "cell_type": "code",
   "execution_count": 5,
   "metadata": {
    "execution": {
     "iopub.execute_input": "2024-10-30T14:02:42.109482Z",
     "iopub.status.busy": "2024-10-30T14:02:42.108942Z",
     "iopub.status.idle": "2024-10-30T14:02:42.146957Z",
     "shell.execute_reply": "2024-10-30T14:02:42.146473Z",
     "shell.execute_reply.started": "2024-10-30T14:02:42.109453Z"
    }
   },
   "outputs": [
    {
     "name": "stdout",
     "output_type": "stream",
     "text": [
      "https://tracking.mlflow-e00pn4p3f6ns0rynwa.backbone-e00msp-e2e.msp.eu-north1.nebius.cloud\n"
     ]
    }
   ],
   "source": [
    "%%bash \n",
    "\n",
    "echo $MLFLOW_TRACKING_URI"
   ]
  },
  {
   "cell_type": "markdown",
   "metadata": {
    "editable": true,
    "slideshow": {
     "slide_type": ""
    },
    "tags": []
   },
   "source": [
    "# Train model and calculate metrics"
   ]
  },
  {
   "cell_type": "markdown",
   "metadata": {
    "id": "zw5Tap_Xwgej",
    "pycharm": {
     "name": "#%% md\n"
    }
   },
   "source": [
    "## Load Data"
   ]
  },
  {
   "cell_type": "markdown",
   "metadata": {
    "id": "VqGH1Mr6wgej",
    "pycharm": {
     "name": "#%% md\n"
    }
   },
   "source": [
    "More information about the dataset can be found in UCI machine learning repository: https://archive.ics.uci.edu/ml/datasets/bike+sharing+dataset\n",
    "\n",
    "Acknowledgement: Fanaee-T, Hadi, and Gama, Joao, 'Event labeling combining ensemble detectors and background knowledge', Progress in Artificial Intelligence (2013): pp. 1-15, Springer Berlin Heidelberg"
   ]
  },
  {
   "cell_type": "code",
   "execution_count": 21,
   "metadata": {
    "execution": {
     "iopub.execute_input": "2024-10-17T19:16:17.206725Z",
     "iopub.status.busy": "2024-10-17T19:16:17.206329Z",
     "iopub.status.idle": "2024-10-17T19:16:17.250569Z",
     "shell.execute_reply": "2024-10-17T19:16:17.250192Z",
     "shell.execute_reply.started": "2024-10-17T19:16:17.206697Z"
    },
    "id": "dKX2YV19wgek",
    "pycharm": {
     "name": "#%%\n"
    }
   },
   "outputs": [
    {
     "data": {
      "text/html": [
       "<div>\n",
       "<style scoped>\n",
       "    .dataframe tbody tr th:only-of-type {\n",
       "        vertical-align: middle;\n",
       "    }\n",
       "\n",
       "    .dataframe tbody tr th {\n",
       "        vertical-align: top;\n",
       "    }\n",
       "\n",
       "    .dataframe thead th {\n",
       "        text-align: right;\n",
       "    }\n",
       "</style>\n",
       "<table border=\"1\" class=\"dataframe\">\n",
       "  <thead>\n",
       "    <tr style=\"text-align: right;\">\n",
       "      <th></th>\n",
       "      <th>instant</th>\n",
       "      <th>dteday</th>\n",
       "      <th>season</th>\n",
       "      <th>yr</th>\n",
       "      <th>mnth</th>\n",
       "      <th>hr</th>\n",
       "      <th>holiday</th>\n",
       "      <th>weekday</th>\n",
       "      <th>workingday</th>\n",
       "      <th>weathersit</th>\n",
       "      <th>temp</th>\n",
       "      <th>atemp</th>\n",
       "      <th>hum</th>\n",
       "      <th>windspeed</th>\n",
       "      <th>casual</th>\n",
       "      <th>registered</th>\n",
       "      <th>cnt</th>\n",
       "    </tr>\n",
       "  </thead>\n",
       "  <tbody>\n",
       "    <tr>\n",
       "      <th>0</th>\n",
       "      <td>1</td>\n",
       "      <td>2011-01-01</td>\n",
       "      <td>1</td>\n",
       "      <td>0</td>\n",
       "      <td>1</td>\n",
       "      <td>0</td>\n",
       "      <td>0</td>\n",
       "      <td>6</td>\n",
       "      <td>0</td>\n",
       "      <td>1</td>\n",
       "      <td>0.24</td>\n",
       "      <td>0.2879</td>\n",
       "      <td>0.81</td>\n",
       "      <td>0.0</td>\n",
       "      <td>3</td>\n",
       "      <td>13</td>\n",
       "      <td>16</td>\n",
       "    </tr>\n",
       "    <tr>\n",
       "      <th>1</th>\n",
       "      <td>2</td>\n",
       "      <td>2011-01-01</td>\n",
       "      <td>1</td>\n",
       "      <td>0</td>\n",
       "      <td>1</td>\n",
       "      <td>1</td>\n",
       "      <td>0</td>\n",
       "      <td>6</td>\n",
       "      <td>0</td>\n",
       "      <td>1</td>\n",
       "      <td>0.22</td>\n",
       "      <td>0.2727</td>\n",
       "      <td>0.80</td>\n",
       "      <td>0.0</td>\n",
       "      <td>8</td>\n",
       "      <td>32</td>\n",
       "      <td>40</td>\n",
       "    </tr>\n",
       "    <tr>\n",
       "      <th>2</th>\n",
       "      <td>3</td>\n",
       "      <td>2011-01-01</td>\n",
       "      <td>1</td>\n",
       "      <td>0</td>\n",
       "      <td>1</td>\n",
       "      <td>2</td>\n",
       "      <td>0</td>\n",
       "      <td>6</td>\n",
       "      <td>0</td>\n",
       "      <td>1</td>\n",
       "      <td>0.22</td>\n",
       "      <td>0.2727</td>\n",
       "      <td>0.80</td>\n",
       "      <td>0.0</td>\n",
       "      <td>5</td>\n",
       "      <td>27</td>\n",
       "      <td>32</td>\n",
       "    </tr>\n",
       "    <tr>\n",
       "      <th>3</th>\n",
       "      <td>4</td>\n",
       "      <td>2011-01-01</td>\n",
       "      <td>1</td>\n",
       "      <td>0</td>\n",
       "      <td>1</td>\n",
       "      <td>3</td>\n",
       "      <td>0</td>\n",
       "      <td>6</td>\n",
       "      <td>0</td>\n",
       "      <td>1</td>\n",
       "      <td>0.24</td>\n",
       "      <td>0.2879</td>\n",
       "      <td>0.75</td>\n",
       "      <td>0.0</td>\n",
       "      <td>3</td>\n",
       "      <td>10</td>\n",
       "      <td>13</td>\n",
       "    </tr>\n",
       "    <tr>\n",
       "      <th>4</th>\n",
       "      <td>5</td>\n",
       "      <td>2011-01-01</td>\n",
       "      <td>1</td>\n",
       "      <td>0</td>\n",
       "      <td>1</td>\n",
       "      <td>4</td>\n",
       "      <td>0</td>\n",
       "      <td>6</td>\n",
       "      <td>0</td>\n",
       "      <td>1</td>\n",
       "      <td>0.24</td>\n",
       "      <td>0.2879</td>\n",
       "      <td>0.75</td>\n",
       "      <td>0.0</td>\n",
       "      <td>0</td>\n",
       "      <td>1</td>\n",
       "      <td>1</td>\n",
       "    </tr>\n",
       "  </tbody>\n",
       "</table>\n",
       "</div>"
      ],
      "text/plain": [
       "   instant      dteday  season  yr  mnth  hr  holiday  weekday  workingday  \\\n",
       "0        1  2011-01-01       1   0     1   0        0        6           0   \n",
       "1        2  2011-01-01       1   0     1   1        0        6           0   \n",
       "2        3  2011-01-01       1   0     1   2        0        6           0   \n",
       "3        4  2011-01-01       1   0     1   3        0        6           0   \n",
       "4        5  2011-01-01       1   0     1   4        0        6           0   \n",
       "\n",
       "   weathersit  temp   atemp   hum  windspeed  casual  registered  cnt  \n",
       "0           1  0.24  0.2879  0.81        0.0       3          13   16  \n",
       "1           1  0.22  0.2727  0.80        0.0       8          32   40  \n",
       "2           1  0.22  0.2727  0.80        0.0       5          27   32  \n",
       "3           1  0.24  0.2879  0.75        0.0       3          10   13  \n",
       "4           1  0.24  0.2879  0.75        0.0       0           1    1  "
      ]
     },
     "execution_count": 21,
     "metadata": {},
     "output_type": "execute_result"
    }
   ],
   "source": [
    "# Download original dataset with: python src/load_data.py \n",
    "\n",
    "raw_data = pd.read_csv(\"../data/raw_data.csv\")\n",
    "raw_data.head()"
   ]
  },
  {
   "cell_type": "markdown",
   "metadata": {},
   "source": [
    "## Prepare data"
   ]
  },
  {
   "cell_type": "code",
   "execution_count": 22,
   "metadata": {
    "execution": {
     "iopub.execute_input": "2024-10-17T19:16:18.159783Z",
     "iopub.status.busy": "2024-10-17T19:16:18.159262Z",
     "iopub.status.idle": "2024-10-17T19:16:18.184454Z",
     "shell.execute_reply": "2024-10-17T19:16:18.183804Z",
     "shell.execute_reply.started": "2024-10-17T19:16:18.159752Z"
    },
    "id": "_i8edS6Ewgem",
    "pycharm": {
     "name": "#%%\n"
    }
   },
   "outputs": [],
   "source": [
    "target = 'cnt'\n",
    "prediction = 'prediction'\n",
    "numerical_features = ['temp', 'atemp', 'hum', 'windspeed', 'mnth', 'hr', 'weekday']\n",
    "categorical_features = ['season', 'holiday', 'workingday', ]"
   ]
  },
  {
   "cell_type": "code",
   "execution_count": 23,
   "metadata": {
    "execution": {
     "iopub.execute_input": "2024-10-17T19:16:18.498104Z",
     "iopub.status.busy": "2024-10-17T19:16:18.497549Z",
     "iopub.status.idle": "2024-10-17T19:16:18.528466Z",
     "shell.execute_reply": "2024-10-17T19:16:18.528078Z",
     "shell.execute_reply.started": "2024-10-17T19:16:18.498073Z"
    },
    "id": "dqiRpf2Swgem",
    "pycharm": {
     "name": "#%%\n"
    }
   },
   "outputs": [
    {
     "name": "stdout",
     "output_type": "stream",
     "text": [
      "(415, 10)\n",
      "(179, 10)\n"
     ]
    }
   ],
   "source": [
    "sample_data = raw_data.set_index('dteday').loc['2011-01-01 00:00:00':'2011-01-28 23:00:00'].reset_index()\n",
    "\n",
    "X_train, X_test, y_train, y_test = model_selection.train_test_split(\n",
    "    sample_data[numerical_features + categorical_features],\n",
    "    sample_data[target],\n",
    "    test_size=0.3\n",
    ")\n",
    "\n",
    "print(X_train.shape)\n",
    "print(X_test.shape)"
   ]
  },
  {
   "cell_type": "markdown",
   "metadata": {},
   "source": [
    "## Log Dataset with `log_inputs` API "
   ]
  },
  {
   "cell_type": "code",
   "execution_count": 24,
   "metadata": {
    "execution": {
     "iopub.execute_input": "2024-10-17T19:16:20.155503Z",
     "iopub.status.busy": "2024-10-17T19:16:20.154891Z",
     "iopub.status.idle": "2024-10-17T19:16:20.182622Z",
     "shell.execute_reply": "2024-10-17T19:16:20.181926Z",
     "shell.execute_reply.started": "2024-10-17T19:16:20.155468Z"
    }
   },
   "outputs": [],
   "source": [
    "from mlflow.data.pandas_dataset import PandasDataset"
   ]
  },
  {
   "cell_type": "code",
   "execution_count": 29,
   "metadata": {
    "execution": {
     "iopub.execute_input": "2024-10-17T19:17:09.002308Z",
     "iopub.status.busy": "2024-10-17T19:17:09.001723Z",
     "iopub.status.idle": "2024-10-17T19:17:12.629303Z",
     "shell.execute_reply": "2024-10-17T19:17:12.629036Z",
     "shell.execute_reply.started": "2024-10-17T19:17:09.002272Z"
    },
    "scrolled": true
   },
   "outputs": [
    {
     "name": "stderr",
     "output_type": "stream",
     "text": [
      "/Users/mikhailrozhkov/.pyenv/versions/3.11.6/lib/python3.11/site-packages/mlflow/types/utils.py:407: UserWarning: Hint: Inferred schema contains integer column(s). Integer columns in Python cannot represent missing values. If your input data contains missing values at inference time, it will be encoded as floats and will cause a schema enforcement error. The best way to avoid this problem is to infer the model schema based on a realistic data sample (training dataset) that includes missing values. Alternatively, you can declare integer columns as doubles (float64) whenever these columns may have missing values. See `Handling Integers With Missing Values <https://www.mlflow.org/docs/latest/models.html#handling-integers-with-missing-values>`_ for more details.\n",
      "  warnings.warn(\n",
      "2024/10/17 21:17:12 INFO mlflow.tracking._tracking_service.client: 🏃 View run exultant-gnu-577 at: http://localhost:5001/#/experiments/0/runs/4b7a3e6454974a48872a3b8904f23421.\n",
      "2024/10/17 21:17:12 INFO mlflow.tracking._tracking_service.client: 🧪 View experiment at: http://localhost:5001/#/experiments/0.\n"
     ]
    },
    {
     "name": "stdout",
     "output_type": "stream",
     "text": [
      "Dataset name: bike-sharing-dataset\n",
      "Dataset digest: 1d75aeb9\n",
      "Dataset profile: {\"num_rows\": 17379, \"num_elements\": 295443}\n",
      "Dataset schema: {\"mlflow_colspec\": [{\"type\": \"long\", \"name\": \"instant\", \"required\": true}, {\"type\": \"string\", \"name\": \"dteday\", \"required\": true}, {\"type\": \"long\", \"name\": \"season\", \"required\": true}, {\"type\": \"long\", \"name\": \"yr\", \"required\": true}, {\"type\": \"long\", \"name\": \"mnth\", \"required\": true}, {\"type\": \"long\", \"name\": \"hr\", \"required\": true}, {\"type\": \"long\", \"name\": \"holiday\", \"required\": true}, {\"type\": \"long\", \"name\": \"weekday\", \"required\": true}, {\"type\": \"long\", \"name\": \"workingday\", \"required\": true}, {\"type\": \"long\", \"name\": \"weathersit\", \"required\": true}, {\"type\": \"double\", \"name\": \"temp\", \"required\": true}, {\"type\": \"double\", \"name\": \"atemp\", \"required\": true}, {\"type\": \"double\", \"name\": \"hum\", \"required\": true}, {\"type\": \"double\", \"name\": \"windspeed\", \"required\": true}, {\"type\": \"long\", \"name\": \"casual\", \"required\": true}, {\"type\": \"long\", \"name\": \"registered\", \"required\": true}, {\"type\": \"long\", \"name\": \"cnt\", \"required\": true}]}\n"
     ]
    }
   ],
   "source": [
    "# Create an instance of a PandasDataset\n",
    "dataset = mlflow.data.from_pandas(\n",
    "    raw_data, name=\"bike-sharing-dataset\", targets=\"cnt\"\n",
    ")\n",
    "\n",
    "# Log the Dataset to an MLflow run by using the `log_input` API\n",
    "with mlflow.start_run() as run:\n",
    "    mlflow.log_input(dataset, context=\"training\")\n",
    "\n",
    "# Retrieve the run information\n",
    "logged_run = mlflow.get_run(run.info.run_id)\n",
    "\n",
    "# Retrieve the Dataset object\n",
    "logged_dataset = logged_run.inputs.dataset_inputs[0].dataset\n",
    "\n",
    "# View some of the recorded Dataset information\n",
    "print(f\"Dataset name: {logged_dataset.name}\")\n",
    "print(f\"Dataset digest: {logged_dataset.digest}\")\n",
    "print(f\"Dataset profile: {logged_dataset.profile}\")\n",
    "print(f\"Dataset schema: {logged_dataset.schema}\")"
   ]
  },
  {
   "cell_type": "code",
   "execution_count": 31,
   "metadata": {
    "execution": {
     "iopub.execute_input": "2024-10-18T09:08:23.980943Z",
     "iopub.status.busy": "2024-10-18T09:08:23.980422Z",
     "iopub.status.idle": "2024-10-18T09:08:24.010514Z",
     "shell.execute_reply": "2024-10-18T09:08:24.009881Z",
     "shell.execute_reply.started": "2024-10-18T09:08:23.980910Z"
    }
   },
   "outputs": [
    {
     "data": {
      "text/plain": [
       "<Dataset: digest='1d75aeb9', name='bike-sharing-dataset', profile='{\"num_rows\": 17379, \"num_elements\": 295443}', schema=('{\"mlflow_colspec\": [{\"type\": \"long\", \"name\": \"instant\", \"required\": true}, '\n",
       " '{\"type\": \"string\", \"name\": \"dteday\", \"required\": true}, {\"type\": \"long\", '\n",
       " '\"name\": \"season\", \"required\": true}, {\"type\": \"long\", \"name\": \"yr\", '\n",
       " '\"required\": true}, {\"type\": \"long\", \"name\": \"mnth\", \"required\": true}, '\n",
       " '{\"type\": \"long\", \"name\": \"hr\", \"required\": true}, {\"type\": \"long\", \"name\": '\n",
       " '\"holiday\", \"required\": true}, {\"type\": \"long\", \"name\": \"weekday\", '\n",
       " '\"required\": true}, {\"type\": \"long\", \"name\": \"workingday\", \"required\": true}, '\n",
       " '{\"type\": \"long\", \"name\": \"weathersit\", \"required\": true}, {\"type\": \"double\", '\n",
       " '\"name\": \"temp\", \"required\": true}, {\"type\": \"double\", \"name\": \"atemp\", '\n",
       " '\"required\": true}, {\"type\": \"double\", \"name\": \"hum\", \"required\": true}, '\n",
       " '{\"type\": \"double\", \"name\": \"windspeed\", \"required\": true}, {\"type\": \"long\", '\n",
       " '\"name\": \"casual\", \"required\": true}, {\"type\": \"long\", \"name\": \"registered\", '\n",
       " '\"required\": true}, {\"type\": \"long\", \"name\": \"cnt\", \"required\": true}]}'), source=('{\"tags\": {\"mlflow.user\": \"mikhailrozhkov\", \"mlflow.source.name\": '\n",
       " '\"/Users/mikhailrozhkov/.pyenv/versions/3.11.6/lib/python3.11/site-packages/ipykernel_launcher.py\", '\n",
       " '\"mlflow.source.type\": \"LOCAL\"}}'), source_type='code'>"
      ]
     },
     "execution_count": 31,
     "metadata": {},
     "output_type": "execute_result"
    }
   ],
   "source": [
    "logged_dataset"
   ]
  },
  {
   "cell_type": "code",
   "execution_count": 30,
   "metadata": {
    "execution": {
     "iopub.execute_input": "2024-10-17T19:17:17.776552Z",
     "iopub.status.busy": "2024-10-17T19:17:17.775987Z",
     "iopub.status.idle": "2024-10-17T19:17:17.810275Z",
     "shell.execute_reply": "2024-10-17T19:17:17.809581Z",
     "shell.execute_reply.started": "2024-10-17T19:17:17.776516Z"
    }
   },
   "outputs": [
    {
     "ename": "NotImplementedError",
     "evalue": "",
     "output_type": "error",
     "traceback": [
      "\u001b[0;31m---------------------------------------------------------------------------\u001b[0m",
      "\u001b[0;31mNotImplementedError\u001b[0m                       Traceback (most recent call last)",
      "Cell \u001b[0;32mIn[30], line 4\u001b[0m\n\u001b[1;32m      1\u001b[0m \u001b[38;5;66;03m# Loading the dataset's source\u001b[39;00m\n\u001b[1;32m      2\u001b[0m dataset_source \u001b[38;5;241m=\u001b[39m mlflow\u001b[38;5;241m.\u001b[39mdata\u001b[38;5;241m.\u001b[39mget_source(logged_dataset)\n\u001b[0;32m----> 4\u001b[0m local_dataset \u001b[38;5;241m=\u001b[39m \u001b[43mdataset_source\u001b[49m\u001b[38;5;241;43m.\u001b[39;49m\u001b[43mload\u001b[49m\u001b[43m(\u001b[49m\u001b[43m)\u001b[49m\n\u001b[1;32m      6\u001b[0m \u001b[38;5;28mprint\u001b[39m(\u001b[38;5;124mf\u001b[39m\u001b[38;5;124m\"\u001b[39m\u001b[38;5;124mThe local file where the data has been downloaded to: \u001b[39m\u001b[38;5;132;01m{\u001b[39;00mlocal_dataset\u001b[38;5;132;01m}\u001b[39;00m\u001b[38;5;124m\"\u001b[39m)\n\u001b[1;32m      8\u001b[0m \u001b[38;5;66;03m# Load the data again\u001b[39;00m\n",
      "File \u001b[0;32m~/.pyenv/versions/3.11.6/lib/python3.11/site-packages/mlflow/data/code_dataset_source.py:21\u001b[0m, in \u001b[0;36mCodeDatasetSource.load\u001b[0;34m(self, **kwargs)\u001b[0m\n\u001b[1;32m     17\u001b[0m \u001b[38;5;28;01mdef\u001b[39;00m \u001b[38;5;21mload\u001b[39m(\u001b[38;5;28mself\u001b[39m, \u001b[38;5;241m*\u001b[39m\u001b[38;5;241m*\u001b[39mkwargs):\n\u001b[1;32m     18\u001b[0m \u001b[38;5;250m    \u001b[39m\u001b[38;5;124;03m\"\"\"\u001b[39;00m\n\u001b[1;32m     19\u001b[0m \u001b[38;5;124;03m    Load is not implemented for Code Dataset Source.\u001b[39;00m\n\u001b[1;32m     20\u001b[0m \u001b[38;5;124;03m    \"\"\"\u001b[39;00m\n\u001b[0;32m---> 21\u001b[0m     \u001b[38;5;28;01mraise\u001b[39;00m \u001b[38;5;167;01mNotImplementedError\u001b[39;00m\n",
      "\u001b[0;31mNotImplementedError\u001b[0m: "
     ]
    }
   ],
   "source": [
    " # Loading the dataset's source\n",
    "dataset_source = mlflow.data.get_source(logged_dataset)\n",
    "\n",
    "local_dataset = dataset_source.load()\n",
    "\n",
    "print(f\"The local file where the data has been downloaded to: {local_dataset}\")\n",
    "\n",
    "# Load the data again\n",
    "loaded_data = pd.read_csv(local_dataset, delimiter=\";\")"
   ]
  },
  {
   "cell_type": "markdown",
   "metadata": {
    "execution": {
     "iopub.execute_input": "2024-10-17T19:09:25.852719Z",
     "iopub.status.busy": "2024-10-17T19:09:25.852233Z",
     "iopub.status.idle": "2024-10-17T19:09:25.877193Z",
     "shell.execute_reply": "2024-10-17T19:09:25.876777Z",
     "shell.execute_reply.started": "2024-10-17T19:09:25.852689Z"
    }
   },
   "source": [
    "### Create dataset from URL "
   ]
  },
  {
   "cell_type": "code",
   "execution_count": 32,
   "metadata": {
    "execution": {
     "iopub.execute_input": "2024-10-18T09:08:56.797368Z",
     "iopub.status.busy": "2024-10-18T09:08:56.796865Z",
     "iopub.status.idle": "2024-10-18T09:08:57.227345Z",
     "shell.execute_reply": "2024-10-18T09:08:57.227079Z",
     "shell.execute_reply.started": "2024-10-18T09:08:56.797338Z"
    }
   },
   "outputs": [
    {
     "name": "stderr",
     "output_type": "stream",
     "text": [
      "/Users/mikhailrozhkov/.pyenv/versions/3.11.6/lib/python3.11/site-packages/mlflow/data/dataset_source_registry.py:149: UserWarning: Failed to determine whether UCVolumeDatasetSource can resolve source information for 'https://raw.githubusercontent.com/mlflow/mlflow/master/tests/datasets/winequality-white.csv'. Exception: \n",
      "  return _dataset_source_registry.resolve(\n",
      "/Users/mikhailrozhkov/.pyenv/versions/3.11.6/lib/python3.11/site-packages/mlflow/types/utils.py:407: UserWarning: Hint: Inferred schema contains integer column(s). Integer columns in Python cannot represent missing values. If your input data contains missing values at inference time, it will be encoded as floats and will cause a schema enforcement error. The best way to avoid this problem is to infer the model schema based on a realistic data sample (training dataset) that includes missing values. Alternatively, you can declare integer columns as doubles (float64) whenever these columns may have missing values. See `Handling Integers With Missing Values <https://www.mlflow.org/docs/latest/models.html#handling-integers-with-missing-values>`_ for more details.\n",
      "  warnings.warn(\n",
      "2024/10/18 11:08:57 INFO mlflow.tracking._tracking_service.client: 🏃 View run nimble-roo-980 at: http://localhost:5001/#/experiments/0/runs/206b17cbf5ab4edeb41de30066815216.\n",
      "2024/10/18 11:08:57 INFO mlflow.tracking._tracking_service.client: 🧪 View experiment at: http://localhost:5001/#/experiments/0.\n"
     ]
    },
    {
     "name": "stdout",
     "output_type": "stream",
     "text": [
      "Dataset name: wine quality - white\n",
      "Dataset digest: 2a1e42c4\n",
      "Dataset profile: {\"num_rows\": 4898, \"num_elements\": 58776}\n",
      "Dataset schema: {\"mlflow_colspec\": [{\"type\": \"double\", \"name\": \"fixed acidity\", \"required\": true}, {\"type\": \"double\", \"name\": \"volatile acidity\", \"required\": true}, {\"type\": \"double\", \"name\": \"citric acid\", \"required\": true}, {\"type\": \"double\", \"name\": \"residual sugar\", \"required\": true}, {\"type\": \"double\", \"name\": \"chlorides\", \"required\": true}, {\"type\": \"double\", \"name\": \"free sulfur dioxide\", \"required\": true}, {\"type\": \"double\", \"name\": \"total sulfur dioxide\", \"required\": true}, {\"type\": \"double\", \"name\": \"density\", \"required\": true}, {\"type\": \"double\", \"name\": \"pH\", \"required\": true}, {\"type\": \"double\", \"name\": \"sulphates\", \"required\": true}, {\"type\": \"double\", \"name\": \"alcohol\", \"required\": true}, {\"type\": \"long\", \"name\": \"quality\", \"required\": true}]}\n"
     ]
    }
   ],
   "source": [
    "import mlflow\n",
    "import pandas as pd\n",
    "from mlflow.data.pandas_dataset import PandasDataset\n",
    "\n",
    "\n",
    "dataset_source_url = \"https://raw.githubusercontent.com/mlflow/mlflow/master/tests/datasets/winequality-white.csv\"\n",
    "raw_data = pd.read_csv(dataset_source_url, delimiter=\";\")\n",
    "\n",
    "# Create an instance of a PandasDataset\n",
    "dataset = mlflow.data.from_pandas(\n",
    "    raw_data, source=dataset_source_url, name=\"wine quality - white\", targets=\"quality\"\n",
    ")\n",
    "\n",
    "# Log the Dataset to an MLflow run by using the `log_input` API\n",
    "with mlflow.start_run() as run:\n",
    "    mlflow.log_input(dataset, context=\"training\")\n",
    "\n",
    "# Retrieve the run information\n",
    "logged_run = mlflow.get_run(run.info.run_id)\n",
    "\n",
    "# Retrieve the Dataset object\n",
    "logged_dataset = logged_run.inputs.dataset_inputs[0].dataset\n",
    "\n",
    "# View some of the recorded Dataset information\n",
    "print(f\"Dataset name: {logged_dataset.name}\")\n",
    "print(f\"Dataset digest: {logged_dataset.digest}\")\n",
    "print(f\"Dataset profile: {logged_dataset.profile}\")\n",
    "print(f\"Dataset schema: {logged_dataset.schema}\")\n"
   ]
  },
  {
   "cell_type": "code",
   "execution_count": 37,
   "metadata": {
    "execution": {
     "iopub.execute_input": "2024-10-18T09:10:13.655491Z",
     "iopub.status.busy": "2024-10-18T09:10:13.654973Z",
     "iopub.status.idle": "2024-10-18T09:10:13.684165Z",
     "shell.execute_reply": "2024-10-18T09:10:13.683690Z",
     "shell.execute_reply.started": "2024-10-18T09:10:13.655455Z"
    }
   },
   "outputs": [
    {
     "data": {
      "text/plain": [
       "<Dataset: digest='2a1e42c4', name='wine quality - white', profile='{\"num_rows\": 4898, \"num_elements\": 58776}', schema=('{\"mlflow_colspec\": [{\"type\": \"double\", \"name\": \"fixed acidity\", \"required\": '\n",
       " 'true}, {\"type\": \"double\", \"name\": \"volatile acidity\", \"required\": true}, '\n",
       " '{\"type\": \"double\", \"name\": \"citric acid\", \"required\": true}, {\"type\": '\n",
       " '\"double\", \"name\": \"residual sugar\", \"required\": true}, {\"type\": \"double\", '\n",
       " '\"name\": \"chlorides\", \"required\": true}, {\"type\": \"double\", \"name\": \"free '\n",
       " 'sulfur dioxide\", \"required\": true}, {\"type\": \"double\", \"name\": \"total sulfur '\n",
       " 'dioxide\", \"required\": true}, {\"type\": \"double\", \"name\": \"density\", '\n",
       " '\"required\": true}, {\"type\": \"double\", \"name\": \"pH\", \"required\": true}, '\n",
       " '{\"type\": \"double\", \"name\": \"sulphates\", \"required\": true}, {\"type\": '\n",
       " '\"double\", \"name\": \"alcohol\", \"required\": true}, {\"type\": \"long\", \"name\": '\n",
       " '\"quality\", \"required\": true}]}'), source=('{\"url\": '\n",
       " '\"https://raw.githubusercontent.com/mlflow/mlflow/master/tests/datasets/winequality-white.csv\"}'), source_type='http'>"
      ]
     },
     "execution_count": 37,
     "metadata": {},
     "output_type": "execute_result"
    }
   ],
   "source": [
    "logged_dataset"
   ]
  },
  {
   "cell_type": "code",
   "execution_count": 38,
   "metadata": {
    "execution": {
     "iopub.execute_input": "2024-10-18T09:12:37.655968Z",
     "iopub.status.busy": "2024-10-18T09:12:37.655428Z",
     "iopub.status.idle": "2024-10-18T09:12:37.741280Z",
     "shell.execute_reply": "2024-10-18T09:12:37.740775Z",
     "shell.execute_reply.started": "2024-10-18T09:12:37.655936Z"
    }
   },
   "outputs": [
    {
     "name": "stdout",
     "output_type": "stream",
     "text": [
      "The local file where the data has been downloaded to: /var/folders/28/ly259mjn413_8g33c4n20tvc0000gn/T/tmpbsd1bfro/winequality-white.csv\n"
     ]
    },
    {
     "data": {
      "text/html": [
       "<div>\n",
       "<style scoped>\n",
       "    .dataframe tbody tr th:only-of-type {\n",
       "        vertical-align: middle;\n",
       "    }\n",
       "\n",
       "    .dataframe tbody tr th {\n",
       "        vertical-align: top;\n",
       "    }\n",
       "\n",
       "    .dataframe thead th {\n",
       "        text-align: right;\n",
       "    }\n",
       "</style>\n",
       "<table border=\"1\" class=\"dataframe\">\n",
       "  <thead>\n",
       "    <tr style=\"text-align: right;\">\n",
       "      <th></th>\n",
       "      <th>fixed acidity</th>\n",
       "      <th>volatile acidity</th>\n",
       "      <th>citric acid</th>\n",
       "      <th>residual sugar</th>\n",
       "      <th>chlorides</th>\n",
       "      <th>free sulfur dioxide</th>\n",
       "      <th>total sulfur dioxide</th>\n",
       "      <th>density</th>\n",
       "      <th>pH</th>\n",
       "      <th>sulphates</th>\n",
       "      <th>alcohol</th>\n",
       "      <th>quality</th>\n",
       "    </tr>\n",
       "  </thead>\n",
       "  <tbody>\n",
       "    <tr>\n",
       "      <th>0</th>\n",
       "      <td>7.0</td>\n",
       "      <td>0.27</td>\n",
       "      <td>0.36</td>\n",
       "      <td>20.7</td>\n",
       "      <td>0.045</td>\n",
       "      <td>45.0</td>\n",
       "      <td>170.0</td>\n",
       "      <td>1.0010</td>\n",
       "      <td>3.00</td>\n",
       "      <td>0.45</td>\n",
       "      <td>8.8</td>\n",
       "      <td>6</td>\n",
       "    </tr>\n",
       "    <tr>\n",
       "      <th>1</th>\n",
       "      <td>6.3</td>\n",
       "      <td>0.30</td>\n",
       "      <td>0.34</td>\n",
       "      <td>1.6</td>\n",
       "      <td>0.049</td>\n",
       "      <td>14.0</td>\n",
       "      <td>132.0</td>\n",
       "      <td>0.9940</td>\n",
       "      <td>3.30</td>\n",
       "      <td>0.49</td>\n",
       "      <td>9.5</td>\n",
       "      <td>6</td>\n",
       "    </tr>\n",
       "    <tr>\n",
       "      <th>2</th>\n",
       "      <td>8.1</td>\n",
       "      <td>0.28</td>\n",
       "      <td>0.40</td>\n",
       "      <td>6.9</td>\n",
       "      <td>0.050</td>\n",
       "      <td>30.0</td>\n",
       "      <td>97.0</td>\n",
       "      <td>0.9951</td>\n",
       "      <td>3.26</td>\n",
       "      <td>0.44</td>\n",
       "      <td>10.1</td>\n",
       "      <td>6</td>\n",
       "    </tr>\n",
       "  </tbody>\n",
       "</table>\n",
       "</div>"
      ],
      "text/plain": [
       "   fixed acidity  volatile acidity  citric acid  residual sugar  chlorides  \\\n",
       "0            7.0              0.27         0.36            20.7      0.045   \n",
       "1            6.3              0.30         0.34             1.6      0.049   \n",
       "2            8.1              0.28         0.40             6.9      0.050   \n",
       "\n",
       "   free sulfur dioxide  total sulfur dioxide  density    pH  sulphates  \\\n",
       "0                 45.0                 170.0   1.0010  3.00       0.45   \n",
       "1                 14.0                 132.0   0.9940  3.30       0.49   \n",
       "2                 30.0                  97.0   0.9951  3.26       0.44   \n",
       "\n",
       "   alcohol  quality  \n",
       "0      8.8        6  \n",
       "1      9.5        6  \n",
       "2     10.1        6  "
      ]
     },
     "execution_count": 38,
     "metadata": {},
     "output_type": "execute_result"
    }
   ],
   "source": [
    " # Loading the dataset's source\n",
    "dataset_source = mlflow.data.get_source(logged_dataset)\n",
    "\n",
    "local_dataset = dataset_source.load()\n",
    "\n",
    "print(f\"The local file where the data has been downloaded to: {local_dataset}\")\n",
    "\n",
    "# Load the data again\n",
    "loaded_data = pd.read_csv(local_dataset, delimiter=\";\")\n",
    "loaded_data.head(3)"
   ]
  },
  {
   "cell_type": "markdown",
   "metadata": {
    "id": "dhZOCJZ1wgel",
    "pycharm": {
     "name": "#%% md\n"
    }
   },
   "source": [
    "## Train a  Model"
   ]
  },
  {
   "cell_type": "code",
   "execution_count": 40,
   "metadata": {
    "execution": {
     "iopub.execute_input": "2024-10-18T09:16:13.767044Z",
     "iopub.status.busy": "2024-10-18T09:16:13.766664Z",
     "iopub.status.idle": "2024-10-18T09:16:13.892789Z",
     "shell.execute_reply": "2024-10-18T09:16:13.892426Z",
     "shell.execute_reply.started": "2024-10-18T09:16:13.767018Z"
    }
   },
   "outputs": [
    {
     "data": {
      "text/plain": [
       "['../models/model.joblib']"
      ]
     },
     "execution_count": 40,
     "metadata": {},
     "output_type": "execute_result"
    }
   ],
   "source": [
    "model = ensemble.RandomForestRegressor(random_state = 0, n_estimators = 50)\n",
    "model.fit(X_train, y_train) \n",
    "\n",
    "model_path = Path('../models/model.joblib')\n",
    "joblib.dump(model, model_path)"
   ]
  },
  {
   "cell_type": "code",
   "execution_count": 41,
   "metadata": {
    "execution": {
     "iopub.execute_input": "2024-10-18T09:16:14.052805Z",
     "iopub.status.busy": "2024-10-18T09:16:14.052552Z",
     "iopub.status.idle": "2024-10-18T09:16:14.078273Z",
     "shell.execute_reply": "2024-10-18T09:16:14.077550Z",
     "shell.execute_reply.started": "2024-10-18T09:16:14.052774Z"
    }
   },
   "outputs": [
    {
     "data": {
      "text/html": [
       "<style>#sk-container-id-1 {\n",
       "  /* Definition of color scheme common for light and dark mode */\n",
       "  --sklearn-color-text: black;\n",
       "  --sklearn-color-line: gray;\n",
       "  /* Definition of color scheme for unfitted estimators */\n",
       "  --sklearn-color-unfitted-level-0: #fff5e6;\n",
       "  --sklearn-color-unfitted-level-1: #f6e4d2;\n",
       "  --sklearn-color-unfitted-level-2: #ffe0b3;\n",
       "  --sklearn-color-unfitted-level-3: chocolate;\n",
       "  /* Definition of color scheme for fitted estimators */\n",
       "  --sklearn-color-fitted-level-0: #f0f8ff;\n",
       "  --sklearn-color-fitted-level-1: #d4ebff;\n",
       "  --sklearn-color-fitted-level-2: #b3dbfd;\n",
       "  --sklearn-color-fitted-level-3: cornflowerblue;\n",
       "\n",
       "  /* Specific color for light theme */\n",
       "  --sklearn-color-text-on-default-background: var(--sg-text-color, var(--theme-code-foreground, var(--jp-content-font-color1, black)));\n",
       "  --sklearn-color-background: var(--sg-background-color, var(--theme-background, var(--jp-layout-color0, white)));\n",
       "  --sklearn-color-border-box: var(--sg-text-color, var(--theme-code-foreground, var(--jp-content-font-color1, black)));\n",
       "  --sklearn-color-icon: #696969;\n",
       "\n",
       "  @media (prefers-color-scheme: dark) {\n",
       "    /* Redefinition of color scheme for dark theme */\n",
       "    --sklearn-color-text-on-default-background: var(--sg-text-color, var(--theme-code-foreground, var(--jp-content-font-color1, white)));\n",
       "    --sklearn-color-background: var(--sg-background-color, var(--theme-background, var(--jp-layout-color0, #111)));\n",
       "    --sklearn-color-border-box: var(--sg-text-color, var(--theme-code-foreground, var(--jp-content-font-color1, white)));\n",
       "    --sklearn-color-icon: #878787;\n",
       "  }\n",
       "}\n",
       "\n",
       "#sk-container-id-1 {\n",
       "  color: var(--sklearn-color-text);\n",
       "}\n",
       "\n",
       "#sk-container-id-1 pre {\n",
       "  padding: 0;\n",
       "}\n",
       "\n",
       "#sk-container-id-1 input.sk-hidden--visually {\n",
       "  border: 0;\n",
       "  clip: rect(1px 1px 1px 1px);\n",
       "  clip: rect(1px, 1px, 1px, 1px);\n",
       "  height: 1px;\n",
       "  margin: -1px;\n",
       "  overflow: hidden;\n",
       "  padding: 0;\n",
       "  position: absolute;\n",
       "  width: 1px;\n",
       "}\n",
       "\n",
       "#sk-container-id-1 div.sk-dashed-wrapped {\n",
       "  border: 1px dashed var(--sklearn-color-line);\n",
       "  margin: 0 0.4em 0.5em 0.4em;\n",
       "  box-sizing: border-box;\n",
       "  padding-bottom: 0.4em;\n",
       "  background-color: var(--sklearn-color-background);\n",
       "}\n",
       "\n",
       "#sk-container-id-1 div.sk-container {\n",
       "  /* jupyter's `normalize.less` sets `[hidden] { display: none; }`\n",
       "     but bootstrap.min.css set `[hidden] { display: none !important; }`\n",
       "     so we also need the `!important` here to be able to override the\n",
       "     default hidden behavior on the sphinx rendered scikit-learn.org.\n",
       "     See: https://github.com/scikit-learn/scikit-learn/issues/21755 */\n",
       "  display: inline-block !important;\n",
       "  position: relative;\n",
       "}\n",
       "\n",
       "#sk-container-id-1 div.sk-text-repr-fallback {\n",
       "  display: none;\n",
       "}\n",
       "\n",
       "div.sk-parallel-item,\n",
       "div.sk-serial,\n",
       "div.sk-item {\n",
       "  /* draw centered vertical line to link estimators */\n",
       "  background-image: linear-gradient(var(--sklearn-color-text-on-default-background), var(--sklearn-color-text-on-default-background));\n",
       "  background-size: 2px 100%;\n",
       "  background-repeat: no-repeat;\n",
       "  background-position: center center;\n",
       "}\n",
       "\n",
       "/* Parallel-specific style estimator block */\n",
       "\n",
       "#sk-container-id-1 div.sk-parallel-item::after {\n",
       "  content: \"\";\n",
       "  width: 100%;\n",
       "  border-bottom: 2px solid var(--sklearn-color-text-on-default-background);\n",
       "  flex-grow: 1;\n",
       "}\n",
       "\n",
       "#sk-container-id-1 div.sk-parallel {\n",
       "  display: flex;\n",
       "  align-items: stretch;\n",
       "  justify-content: center;\n",
       "  background-color: var(--sklearn-color-background);\n",
       "  position: relative;\n",
       "}\n",
       "\n",
       "#sk-container-id-1 div.sk-parallel-item {\n",
       "  display: flex;\n",
       "  flex-direction: column;\n",
       "}\n",
       "\n",
       "#sk-container-id-1 div.sk-parallel-item:first-child::after {\n",
       "  align-self: flex-end;\n",
       "  width: 50%;\n",
       "}\n",
       "\n",
       "#sk-container-id-1 div.sk-parallel-item:last-child::after {\n",
       "  align-self: flex-start;\n",
       "  width: 50%;\n",
       "}\n",
       "\n",
       "#sk-container-id-1 div.sk-parallel-item:only-child::after {\n",
       "  width: 0;\n",
       "}\n",
       "\n",
       "/* Serial-specific style estimator block */\n",
       "\n",
       "#sk-container-id-1 div.sk-serial {\n",
       "  display: flex;\n",
       "  flex-direction: column;\n",
       "  align-items: center;\n",
       "  background-color: var(--sklearn-color-background);\n",
       "  padding-right: 1em;\n",
       "  padding-left: 1em;\n",
       "}\n",
       "\n",
       "\n",
       "/* Toggleable style: style used for estimator/Pipeline/ColumnTransformer box that is\n",
       "clickable and can be expanded/collapsed.\n",
       "- Pipeline and ColumnTransformer use this feature and define the default style\n",
       "- Estimators will overwrite some part of the style using the `sk-estimator` class\n",
       "*/\n",
       "\n",
       "/* Pipeline and ColumnTransformer style (default) */\n",
       "\n",
       "#sk-container-id-1 div.sk-toggleable {\n",
       "  /* Default theme specific background. It is overwritten whether we have a\n",
       "  specific estimator or a Pipeline/ColumnTransformer */\n",
       "  background-color: var(--sklearn-color-background);\n",
       "}\n",
       "\n",
       "/* Toggleable label */\n",
       "#sk-container-id-1 label.sk-toggleable__label {\n",
       "  cursor: pointer;\n",
       "  display: block;\n",
       "  width: 100%;\n",
       "  margin-bottom: 0;\n",
       "  padding: 0.5em;\n",
       "  box-sizing: border-box;\n",
       "  text-align: center;\n",
       "}\n",
       "\n",
       "#sk-container-id-1 label.sk-toggleable__label-arrow:before {\n",
       "  /* Arrow on the left of the label */\n",
       "  content: \"▸\";\n",
       "  float: left;\n",
       "  margin-right: 0.25em;\n",
       "  color: var(--sklearn-color-icon);\n",
       "}\n",
       "\n",
       "#sk-container-id-1 label.sk-toggleable__label-arrow:hover:before {\n",
       "  color: var(--sklearn-color-text);\n",
       "}\n",
       "\n",
       "/* Toggleable content - dropdown */\n",
       "\n",
       "#sk-container-id-1 div.sk-toggleable__content {\n",
       "  max-height: 0;\n",
       "  max-width: 0;\n",
       "  overflow: hidden;\n",
       "  text-align: left;\n",
       "  /* unfitted */\n",
       "  background-color: var(--sklearn-color-unfitted-level-0);\n",
       "}\n",
       "\n",
       "#sk-container-id-1 div.sk-toggleable__content.fitted {\n",
       "  /* fitted */\n",
       "  background-color: var(--sklearn-color-fitted-level-0);\n",
       "}\n",
       "\n",
       "#sk-container-id-1 div.sk-toggleable__content pre {\n",
       "  margin: 0.2em;\n",
       "  border-radius: 0.25em;\n",
       "  color: var(--sklearn-color-text);\n",
       "  /* unfitted */\n",
       "  background-color: var(--sklearn-color-unfitted-level-0);\n",
       "}\n",
       "\n",
       "#sk-container-id-1 div.sk-toggleable__content.fitted pre {\n",
       "  /* unfitted */\n",
       "  background-color: var(--sklearn-color-fitted-level-0);\n",
       "}\n",
       "\n",
       "#sk-container-id-1 input.sk-toggleable__control:checked~div.sk-toggleable__content {\n",
       "  /* Expand drop-down */\n",
       "  max-height: 200px;\n",
       "  max-width: 100%;\n",
       "  overflow: auto;\n",
       "}\n",
       "\n",
       "#sk-container-id-1 input.sk-toggleable__control:checked~label.sk-toggleable__label-arrow:before {\n",
       "  content: \"▾\";\n",
       "}\n",
       "\n",
       "/* Pipeline/ColumnTransformer-specific style */\n",
       "\n",
       "#sk-container-id-1 div.sk-label input.sk-toggleable__control:checked~label.sk-toggleable__label {\n",
       "  color: var(--sklearn-color-text);\n",
       "  background-color: var(--sklearn-color-unfitted-level-2);\n",
       "}\n",
       "\n",
       "#sk-container-id-1 div.sk-label.fitted input.sk-toggleable__control:checked~label.sk-toggleable__label {\n",
       "  background-color: var(--sklearn-color-fitted-level-2);\n",
       "}\n",
       "\n",
       "/* Estimator-specific style */\n",
       "\n",
       "/* Colorize estimator box */\n",
       "#sk-container-id-1 div.sk-estimator input.sk-toggleable__control:checked~label.sk-toggleable__label {\n",
       "  /* unfitted */\n",
       "  background-color: var(--sklearn-color-unfitted-level-2);\n",
       "}\n",
       "\n",
       "#sk-container-id-1 div.sk-estimator.fitted input.sk-toggleable__control:checked~label.sk-toggleable__label {\n",
       "  /* fitted */\n",
       "  background-color: var(--sklearn-color-fitted-level-2);\n",
       "}\n",
       "\n",
       "#sk-container-id-1 div.sk-label label.sk-toggleable__label,\n",
       "#sk-container-id-1 div.sk-label label {\n",
       "  /* The background is the default theme color */\n",
       "  color: var(--sklearn-color-text-on-default-background);\n",
       "}\n",
       "\n",
       "/* On hover, darken the color of the background */\n",
       "#sk-container-id-1 div.sk-label:hover label.sk-toggleable__label {\n",
       "  color: var(--sklearn-color-text);\n",
       "  background-color: var(--sklearn-color-unfitted-level-2);\n",
       "}\n",
       "\n",
       "/* Label box, darken color on hover, fitted */\n",
       "#sk-container-id-1 div.sk-label.fitted:hover label.sk-toggleable__label.fitted {\n",
       "  color: var(--sklearn-color-text);\n",
       "  background-color: var(--sklearn-color-fitted-level-2);\n",
       "}\n",
       "\n",
       "/* Estimator label */\n",
       "\n",
       "#sk-container-id-1 div.sk-label label {\n",
       "  font-family: monospace;\n",
       "  font-weight: bold;\n",
       "  display: inline-block;\n",
       "  line-height: 1.2em;\n",
       "}\n",
       "\n",
       "#sk-container-id-1 div.sk-label-container {\n",
       "  text-align: center;\n",
       "}\n",
       "\n",
       "/* Estimator-specific */\n",
       "#sk-container-id-1 div.sk-estimator {\n",
       "  font-family: monospace;\n",
       "  border: 1px dotted var(--sklearn-color-border-box);\n",
       "  border-radius: 0.25em;\n",
       "  box-sizing: border-box;\n",
       "  margin-bottom: 0.5em;\n",
       "  /* unfitted */\n",
       "  background-color: var(--sklearn-color-unfitted-level-0);\n",
       "}\n",
       "\n",
       "#sk-container-id-1 div.sk-estimator.fitted {\n",
       "  /* fitted */\n",
       "  background-color: var(--sklearn-color-fitted-level-0);\n",
       "}\n",
       "\n",
       "/* on hover */\n",
       "#sk-container-id-1 div.sk-estimator:hover {\n",
       "  /* unfitted */\n",
       "  background-color: var(--sklearn-color-unfitted-level-2);\n",
       "}\n",
       "\n",
       "#sk-container-id-1 div.sk-estimator.fitted:hover {\n",
       "  /* fitted */\n",
       "  background-color: var(--sklearn-color-fitted-level-2);\n",
       "}\n",
       "\n",
       "/* Specification for estimator info (e.g. \"i\" and \"?\") */\n",
       "\n",
       "/* Common style for \"i\" and \"?\" */\n",
       "\n",
       ".sk-estimator-doc-link,\n",
       "a:link.sk-estimator-doc-link,\n",
       "a:visited.sk-estimator-doc-link {\n",
       "  float: right;\n",
       "  font-size: smaller;\n",
       "  line-height: 1em;\n",
       "  font-family: monospace;\n",
       "  background-color: var(--sklearn-color-background);\n",
       "  border-radius: 1em;\n",
       "  height: 1em;\n",
       "  width: 1em;\n",
       "  text-decoration: none !important;\n",
       "  margin-left: 1ex;\n",
       "  /* unfitted */\n",
       "  border: var(--sklearn-color-unfitted-level-1) 1pt solid;\n",
       "  color: var(--sklearn-color-unfitted-level-1);\n",
       "}\n",
       "\n",
       ".sk-estimator-doc-link.fitted,\n",
       "a:link.sk-estimator-doc-link.fitted,\n",
       "a:visited.sk-estimator-doc-link.fitted {\n",
       "  /* fitted */\n",
       "  border: var(--sklearn-color-fitted-level-1) 1pt solid;\n",
       "  color: var(--sklearn-color-fitted-level-1);\n",
       "}\n",
       "\n",
       "/* On hover */\n",
       "div.sk-estimator:hover .sk-estimator-doc-link:hover,\n",
       ".sk-estimator-doc-link:hover,\n",
       "div.sk-label-container:hover .sk-estimator-doc-link:hover,\n",
       ".sk-estimator-doc-link:hover {\n",
       "  /* unfitted */\n",
       "  background-color: var(--sklearn-color-unfitted-level-3);\n",
       "  color: var(--sklearn-color-background);\n",
       "  text-decoration: none;\n",
       "}\n",
       "\n",
       "div.sk-estimator.fitted:hover .sk-estimator-doc-link.fitted:hover,\n",
       ".sk-estimator-doc-link.fitted:hover,\n",
       "div.sk-label-container:hover .sk-estimator-doc-link.fitted:hover,\n",
       ".sk-estimator-doc-link.fitted:hover {\n",
       "  /* fitted */\n",
       "  background-color: var(--sklearn-color-fitted-level-3);\n",
       "  color: var(--sklearn-color-background);\n",
       "  text-decoration: none;\n",
       "}\n",
       "\n",
       "/* Span, style for the box shown on hovering the info icon */\n",
       ".sk-estimator-doc-link span {\n",
       "  display: none;\n",
       "  z-index: 9999;\n",
       "  position: relative;\n",
       "  font-weight: normal;\n",
       "  right: .2ex;\n",
       "  padding: .5ex;\n",
       "  margin: .5ex;\n",
       "  width: min-content;\n",
       "  min-width: 20ex;\n",
       "  max-width: 50ex;\n",
       "  color: var(--sklearn-color-text);\n",
       "  box-shadow: 2pt 2pt 4pt #999;\n",
       "  /* unfitted */\n",
       "  background: var(--sklearn-color-unfitted-level-0);\n",
       "  border: .5pt solid var(--sklearn-color-unfitted-level-3);\n",
       "}\n",
       "\n",
       ".sk-estimator-doc-link.fitted span {\n",
       "  /* fitted */\n",
       "  background: var(--sklearn-color-fitted-level-0);\n",
       "  border: var(--sklearn-color-fitted-level-3);\n",
       "}\n",
       "\n",
       ".sk-estimator-doc-link:hover span {\n",
       "  display: block;\n",
       "}\n",
       "\n",
       "/* \"?\"-specific style due to the `<a>` HTML tag */\n",
       "\n",
       "#sk-container-id-1 a.estimator_doc_link {\n",
       "  float: right;\n",
       "  font-size: 1rem;\n",
       "  line-height: 1em;\n",
       "  font-family: monospace;\n",
       "  background-color: var(--sklearn-color-background);\n",
       "  border-radius: 1rem;\n",
       "  height: 1rem;\n",
       "  width: 1rem;\n",
       "  text-decoration: none;\n",
       "  /* unfitted */\n",
       "  color: var(--sklearn-color-unfitted-level-1);\n",
       "  border: var(--sklearn-color-unfitted-level-1) 1pt solid;\n",
       "}\n",
       "\n",
       "#sk-container-id-1 a.estimator_doc_link.fitted {\n",
       "  /* fitted */\n",
       "  border: var(--sklearn-color-fitted-level-1) 1pt solid;\n",
       "  color: var(--sklearn-color-fitted-level-1);\n",
       "}\n",
       "\n",
       "/* On hover */\n",
       "#sk-container-id-1 a.estimator_doc_link:hover {\n",
       "  /* unfitted */\n",
       "  background-color: var(--sklearn-color-unfitted-level-3);\n",
       "  color: var(--sklearn-color-background);\n",
       "  text-decoration: none;\n",
       "}\n",
       "\n",
       "#sk-container-id-1 a.estimator_doc_link.fitted:hover {\n",
       "  /* fitted */\n",
       "  background-color: var(--sklearn-color-fitted-level-3);\n",
       "}\n",
       "</style><div id=\"sk-container-id-1\" class=\"sk-top-container\"><div class=\"sk-text-repr-fallback\"><pre>RandomForestRegressor(n_estimators=50, random_state=0)</pre><b>In a Jupyter environment, please rerun this cell to show the HTML representation or trust the notebook. <br />On GitHub, the HTML representation is unable to render, please try loading this page with nbviewer.org.</b></div><div class=\"sk-container\" hidden><div class=\"sk-item\"><div class=\"sk-estimator fitted sk-toggleable\"><input class=\"sk-toggleable__control sk-hidden--visually\" id=\"sk-estimator-id-1\" type=\"checkbox\" checked><label for=\"sk-estimator-id-1\" class=\"sk-toggleable__label fitted sk-toggleable__label-arrow fitted\">&nbsp;&nbsp;RandomForestRegressor<a class=\"sk-estimator-doc-link fitted\" rel=\"noreferrer\" target=\"_blank\" href=\"https://scikit-learn.org/1.5/modules/generated/sklearn.ensemble.RandomForestRegressor.html\">?<span>Documentation for RandomForestRegressor</span></a><span class=\"sk-estimator-doc-link fitted\">i<span>Fitted</span></span></label><div class=\"sk-toggleable__content fitted\"><pre>RandomForestRegressor(n_estimators=50, random_state=0)</pre></div> </div></div></div></div>"
      ],
      "text/plain": [
       "RandomForestRegressor(n_estimators=50, random_state=0)"
      ]
     },
     "execution_count": 41,
     "metadata": {},
     "output_type": "execute_result"
    }
   ],
   "source": [
    "model"
   ]
  },
  {
   "cell_type": "markdown",
   "metadata": {},
   "source": [
    "## Calculate Metrics"
   ]
  },
  {
   "cell_type": "code",
   "execution_count": 42,
   "metadata": {
    "execution": {
     "iopub.execute_input": "2024-10-18T09:16:14.569513Z",
     "iopub.status.busy": "2024-10-18T09:16:14.568960Z",
     "iopub.status.idle": "2024-10-18T09:16:14.597677Z",
     "shell.execute_reply": "2024-10-18T09:16:14.597317Z",
     "shell.execute_reply.started": "2024-10-18T09:16:14.569476Z"
    }
   },
   "outputs": [
    {
     "name": "stdout",
     "output_type": "stream",
     "text": [
      "610.6395955307263 16.00659217877095\n"
     ]
    }
   ],
   "source": [
    "from sklearn.metrics import mean_squared_error, mean_absolute_error\n",
    "\n",
    "preds = model.predict(X_test)\n",
    "\n",
    "me = mean_squared_error(y_test, preds)\n",
    "mae = mean_absolute_error(y_test, preds)\n",
    "\n",
    "print(me, mae)"
   ]
  },
  {
   "cell_type": "markdown",
   "metadata": {},
   "source": [
    "# Autologging"
   ]
  },
  {
   "cell_type": "markdown",
   "metadata": {},
   "source": [
    "## Set up MLFlow"
   ]
  },
  {
   "cell_type": "code",
   "execution_count": 45,
   "metadata": {
    "execution": {
     "iopub.execute_input": "2024-10-18T09:17:25.782485Z",
     "iopub.status.busy": "2024-10-18T09:17:25.780581Z",
     "iopub.status.idle": "2024-10-18T09:17:25.811943Z",
     "shell.execute_reply": "2024-10-18T09:17:25.811394Z",
     "shell.execute_reply.started": "2024-10-18T09:17:25.782427Z"
    }
   },
   "outputs": [],
   "source": [
    "MLFLOW_TRACKING_URI = \"http://localhost:5001\"\n",
    "\n",
    "mlflow.set_tracking_uri(MLFLOW_TRACKING_URI)"
   ]
  },
  {
   "cell_type": "markdown",
   "metadata": {},
   "source": [
    "## Autologging \n",
    "\n",
    "- https://mlflow.org/docs/latest/tracking/autolog.html"
   ]
  },
  {
   "cell_type": "code",
   "execution_count": 47,
   "metadata": {
    "execution": {
     "iopub.execute_input": "2024-10-18T10:11:21.169027Z",
     "iopub.status.busy": "2024-10-18T10:11:21.168498Z",
     "iopub.status.idle": "2024-10-18T10:11:25.261132Z",
     "shell.execute_reply": "2024-10-18T10:11:25.260849Z",
     "shell.execute_reply.started": "2024-10-18T10:11:21.168996Z"
    }
   },
   "outputs": [
    {
     "name": "stderr",
     "output_type": "stream",
     "text": [
      "2024/10/18 12:11:23 INFO mlflow.tracking.fluent: Autologging successfully enabled for sklearn.\n",
      "2024/10/18 12:11:23 WARNING mlflow.system_metrics.system_metrics_monitor: Skip logging GPU metrics because creating `GPUMonitor` failed with error: Failed to initialize NVML, skip logging GPU metrics: NVML Shared Library Not Found.\n",
      "2024/10/18 12:11:23 INFO mlflow.system_metrics.system_metrics_monitor: Started monitoring system metrics.\n",
      "2024/10/18 12:11:23 WARNING mlflow.utils.autologging_utils: MLflow autologging encountered a warning: \"/Users/mikhailrozhkov/.pyenv/versions/3.11.6/lib/python3.11/site-packages/mlflow/types/utils.py:407: UserWarning: Hint: Inferred schema contains integer column(s). Integer columns in Python cannot represent missing values. If your input data contains missing values at inference time, it will be encoded as floats and will cause a schema enforcement error. The best way to avoid this problem is to infer the model schema based on a realistic data sample (training dataset) that includes missing values. Alternatively, you can declare integer columns as doubles (float64) whenever these columns may have missing values. See `Handling Integers With Missing Values <https://www.mlflow.org/docs/latest/models.html#handling-integers-with-missing-values>`_ for more details.\"\n",
      "2024/10/18 12:11:23 WARNING mlflow.utils.autologging_utils: MLflow autologging encountered a warning: \"/Users/mikhailrozhkov/.pyenv/versions/3.11.6/lib/python3.11/site-packages/mlflow/types/utils.py:407: UserWarning: Hint: Inferred schema contains integer column(s). Integer columns in Python cannot represent missing values. If your input data contains missing values at inference time, it will be encoded as floats and will cause a schema enforcement error. The best way to avoid this problem is to infer the model schema based on a realistic data sample (training dataset) that includes missing values. Alternatively, you can declare integer columns as doubles (float64) whenever these columns may have missing values. See `Handling Integers With Missing Values <https://www.mlflow.org/docs/latest/models.html#handling-integers-with-missing-values>`_ for more details.\"\n",
      "2024/10/18 12:11:25 INFO mlflow.tracking._tracking_service.client: 🏃 View run puzzled-gull-452 at: http://localhost:5001/#/experiments/0/runs/bedc09d6cc32499cacbfdefef5e5dcaf.\n",
      "2024/10/18 12:11:25 INFO mlflow.tracking._tracking_service.client: 🧪 View experiment at: http://localhost:5001/#/experiments/0.\n",
      "2024/10/18 12:11:25 INFO mlflow.system_metrics.system_metrics_monitor: Stopping system metrics monitoring...\n",
      "2024/10/18 12:11:25 INFO mlflow.system_metrics.system_metrics_monitor: Successfully terminated system metrics monitoring!\n"
     ]
    }
   ],
   "source": [
    "mlflow.autolog()\n",
    "\n",
    "with mlflow.start_run():\n",
    "\n",
    "    model = ensemble.RandomForestRegressor(random_state = 0, n_estimators = 50)\n",
    "    model.fit(X_train, y_train) "
   ]
  },
  {
   "cell_type": "code",
   "execution_count": 49,
   "metadata": {
    "execution": {
     "iopub.execute_input": "2024-10-18T10:24:04.732698Z",
     "iopub.status.busy": "2024-10-18T10:24:04.732309Z",
     "iopub.status.idle": "2024-10-18T10:24:04.762511Z",
     "shell.execute_reply": "2024-10-18T10:24:04.762196Z",
     "shell.execute_reply.started": "2024-10-18T10:24:04.732672Z"
    }
   },
   "outputs": [
    {
     "name": "stdout",
     "output_type": "stream",
     "text": [
      "<Run: data=<RunData: metrics={'training_mean_absolute_error': 4.8026506024096385,\n",
      " 'training_mean_squared_error': 59.29453975903615,\n",
      " 'training_r2_score': 0.972273516570996,\n",
      " 'training_root_mean_squared_error': 7.700294783905104,\n",
      " 'training_score': 0.972273516570996}, params={'bootstrap': 'True',\n",
      " 'ccp_alpha': '0.0',\n",
      " 'criterion': 'squared_error',\n",
      " 'max_depth': 'None',\n",
      " 'max_features': '1.0',\n",
      " 'max_leaf_nodes': 'None',\n",
      " 'max_samples': 'None',\n",
      " 'min_impurity_decrease': '0.0',\n",
      " 'min_samples_leaf': '1',\n",
      " 'min_samples_split': '2',\n",
      " 'min_weight_fraction_leaf': '0.0',\n",
      " 'monotonic_cst': 'None',\n",
      " 'n_estimators': '50',\n",
      " 'n_jobs': 'None',\n",
      " 'oob_score': 'False',\n",
      " 'random_state': '0',\n",
      " 'verbose': '0',\n",
      " 'warm_start': 'False'}, tags={'estimator_class': 'sklearn.ensemble._forest.RandomForestRegressor',\n",
      " 'estimator_name': 'RandomForestRegressor',\n",
      " 'mlflow.log-model.history': '[{\"run_id\": \"bedc09d6cc32499cacbfdefef5e5dcaf\", '\n",
      "                             '\"artifact_path\": \"model\", \"utc_time_created\": '\n",
      "                             '\"2024-10-18 10:11:24.000046\", \"model_uuid\": '\n",
      "                             '\"61bd48b93a3142358ed0a48bffea6e7c\", \"flavors\": '\n",
      "                             '{\"python_function\": {\"model_path\": \"model.pkl\", '\n",
      "                             '\"predict_fn\": \"predict\", \"loader_module\": '\n",
      "                             '\"mlflow.sklearn\", \"python_version\": \"3.11.6\", '\n",
      "                             '\"env\": {\"conda\": \"conda.yaml\", \"virtualenv\": '\n",
      "                             '\"python_env.yaml\"}}, \"sklearn\": '\n",
      "                             '{\"pickled_model\": \"model.pkl\", '\n",
      "                             '\"sklearn_version\": \"1.5.2\", '\n",
      "                             '\"serialization_format\": \"cloudpickle\", \"code\": '\n",
      "                             'null}}}]',\n",
      " 'mlflow.runName': 'puzzled-gull-452',\n",
      " 'mlflow.source.name': '/Users/mikhailrozhkov/.pyenv/versions/3.11.6/lib/python3.11/site-packages/ipykernel_launcher.py',\n",
      " 'mlflow.source.type': 'LOCAL',\n",
      " 'mlflow.user': 'mikhailrozhkov'}>, info=<RunInfo: artifact_uri='mlflow-artifacts:/0/bedc09d6cc32499cacbfdefef5e5dcaf/artifacts', end_time=1729246285243, experiment_id='0', lifecycle_stage='active', run_id='bedc09d6cc32499cacbfdefef5e5dcaf', run_name='puzzled-gull-452', run_uuid='bedc09d6cc32499cacbfdefef5e5dcaf', start_time=1729246283912, status='FINISHED', user_id='mikhailrozhkov'>, inputs=<RunInputs: dataset_inputs=[<DatasetInput: dataset=<Dataset: digest='495bc863', name='dataset', profile='{\"num_rows\": 415, \"num_elements\": 4150}', schema=('{\"mlflow_colspec\": [{\"type\": \"double\", \"name\": \"temp\", \"required\": true}, '\n",
      " '{\"type\": \"double\", \"name\": \"atemp\", \"required\": true}, {\"type\": \"double\", '\n",
      " '\"name\": \"hum\", \"required\": true}, {\"type\": \"double\", \"name\": \"windspeed\", '\n",
      " '\"required\": true}, {\"type\": \"long\", \"name\": \"mnth\", \"required\": true}, '\n",
      " '{\"type\": \"long\", \"name\": \"hr\", \"required\": true}, {\"type\": \"long\", \"name\": '\n",
      " '\"weekday\", \"required\": true}, {\"type\": \"long\", \"name\": \"season\", \"required\": '\n",
      " 'true}, {\"type\": \"long\", \"name\": \"holiday\", \"required\": true}, {\"type\": '\n",
      " '\"long\", \"name\": \"workingday\", \"required\": true}]}'), source=('{\"tags\": {\"mlflow.user\": \"mikhailrozhkov\", \"mlflow.source.name\": '\n",
      " '\"/Users/mikhailrozhkov/.pyenv/versions/3.11.6/lib/python3.11/site-packages/ipykernel_launcher.py\", '\n",
      " '\"mlflow.source.type\": \"LOCAL\"}}'), source_type='code'>, tags=[<InputTag: key='mlflow.data.context', value='train'>]>]>>\n"
     ]
    }
   ],
   "source": [
    "# Get MLflow Run instance from autologged results\n",
    "\n",
    "\n",
    "autolog_run = mlflow.last_active_run()\n",
    "print(autolog_run)"
   ]
  },
  {
   "cell_type": "markdown",
   "metadata": {},
   "source": [
    "# Hyperparameters Tuning\n",
    "\n",
    "- https://mlflow.org/docs/latest/getting-started/quickstart-2/index.html"
   ]
  },
  {
   "cell_type": "code",
   "execution_count": 54,
   "metadata": {
    "execution": {
     "iopub.execute_input": "2024-10-18T15:08:42.926936Z",
     "iopub.status.busy": "2024-10-18T15:08:42.925798Z",
     "iopub.status.idle": "2024-10-18T15:09:04.093791Z",
     "shell.execute_reply": "2024-10-18T15:09:04.093348Z",
     "shell.execute_reply.started": "2024-10-18T15:08:42.926881Z"
    },
    "scrolled": true
   },
   "outputs": [
    {
     "name": "stdout",
     "output_type": "stream",
     "text": [
      "Requirement already satisfied: keras in /Users/mikhailrozhkov/.pyenv/versions/3.11.6/lib/python3.11/site-packages (3.6.0)\n",
      "Requirement already satisfied: hyperopt in /Users/mikhailrozhkov/.pyenv/versions/3.11.6/lib/python3.11/site-packages (0.2.7)\n",
      "Collecting tensorflow\n",
      "  Downloading tensorflow-2.17.0-cp311-cp311-macosx_12_0_arm64.whl.metadata (4.1 kB)\n",
      "Requirement already satisfied: absl-py in /Users/mikhailrozhkov/.pyenv/versions/3.11.6/lib/python3.11/site-packages (from keras) (2.1.0)\n",
      "Requirement already satisfied: numpy in /Users/mikhailrozhkov/.pyenv/versions/3.11.6/lib/python3.11/site-packages (from keras) (1.26.4)\n",
      "Requirement already satisfied: rich in /Users/mikhailrozhkov/.pyenv/versions/3.11.6/lib/python3.11/site-packages (from keras) (13.7.0)\n",
      "Requirement already satisfied: namex in /Users/mikhailrozhkov/.pyenv/versions/3.11.6/lib/python3.11/site-packages (from keras) (0.0.8)\n",
      "Requirement already satisfied: h5py in /Users/mikhailrozhkov/.pyenv/versions/3.11.6/lib/python3.11/site-packages (from keras) (3.10.0)\n",
      "Requirement already satisfied: optree in /Users/mikhailrozhkov/.pyenv/versions/3.11.6/lib/python3.11/site-packages (from keras) (0.13.0)\n",
      "Requirement already satisfied: ml-dtypes in /Users/mikhailrozhkov/.pyenv/versions/3.11.6/lib/python3.11/site-packages (from keras) (0.5.0)\n",
      "Requirement already satisfied: packaging in /Users/mikhailrozhkov/.local/lib/python3.11/site-packages (from keras) (23.2)\n",
      "Requirement already satisfied: scipy in /Users/mikhailrozhkov/.pyenv/versions/3.11.6/lib/python3.11/site-packages (from hyperopt) (1.11.4)\n",
      "Requirement already satisfied: six in /Users/mikhailrozhkov/.local/lib/python3.11/site-packages (from hyperopt) (1.16.0)\n",
      "Requirement already satisfied: networkx>=2.2 in /Users/mikhailrozhkov/.pyenv/versions/3.11.6/lib/python3.11/site-packages (from hyperopt) (3.2.1)\n",
      "Requirement already satisfied: future in /Users/mikhailrozhkov/.pyenv/versions/3.11.6/lib/python3.11/site-packages (from hyperopt) (1.0.0)\n",
      "Requirement already satisfied: tqdm in /Users/mikhailrozhkov/.pyenv/versions/3.11.6/lib/python3.11/site-packages (from hyperopt) (4.66.5)\n",
      "Requirement already satisfied: cloudpickle in /Users/mikhailrozhkov/.pyenv/versions/3.11.6/lib/python3.11/site-packages (from hyperopt) (3.0.0)\n",
      "Requirement already satisfied: py4j in /Users/mikhailrozhkov/.pyenv/versions/3.11.6/lib/python3.11/site-packages (from hyperopt) (0.10.9.7)\n",
      "Collecting astunparse>=1.6.0 (from tensorflow)\n",
      "  Downloading astunparse-1.6.3-py2.py3-none-any.whl.metadata (4.4 kB)\n",
      "Requirement already satisfied: flatbuffers>=24.3.25 in /Users/mikhailrozhkov/.pyenv/versions/3.11.6/lib/python3.11/site-packages (from tensorflow) (24.3.25)\n",
      "Collecting gast!=0.5.0,!=0.5.1,!=0.5.2,>=0.2.1 (from tensorflow)\n",
      "  Downloading gast-0.6.0-py3-none-any.whl.metadata (1.3 kB)\n",
      "Collecting google-pasta>=0.1.1 (from tensorflow)\n",
      "  Downloading google_pasta-0.2.0-py3-none-any.whl.metadata (814 bytes)\n",
      "Collecting libclang>=13.0.0 (from tensorflow)\n",
      "  Downloading libclang-18.1.1-1-py2.py3-none-macosx_11_0_arm64.whl.metadata (5.2 kB)\n",
      "Collecting ml-dtypes (from keras)\n",
      "  Downloading ml_dtypes-0.4.1-cp311-cp311-macosx_10_9_universal2.whl.metadata (20 kB)\n",
      "Collecting opt-einsum>=2.3.2 (from tensorflow)\n",
      "  Downloading opt_einsum-3.4.0-py3-none-any.whl.metadata (6.3 kB)\n",
      "Requirement already satisfied: protobuf!=4.21.0,!=4.21.1,!=4.21.2,!=4.21.3,!=4.21.4,!=4.21.5,<5.0.0dev,>=3.20.3 in /Users/mikhailrozhkov/.pyenv/versions/3.11.6/lib/python3.11/site-packages (from tensorflow) (4.25.1)\n",
      "Requirement already satisfied: requests<3,>=2.21.0 in /Users/mikhailrozhkov/.pyenv/versions/3.11.6/lib/python3.11/site-packages (from tensorflow) (2.32.3)\n",
      "Requirement already satisfied: setuptools in /Users/mikhailrozhkov/.pyenv/versions/3.11.6/lib/python3.11/site-packages (from tensorflow) (75.2.0)\n",
      "Requirement already satisfied: termcolor>=1.1.0 in /Users/mikhailrozhkov/.pyenv/versions/3.11.6/lib/python3.11/site-packages (from tensorflow) (2.4.0)\n",
      "Requirement already satisfied: typing-extensions>=3.6.6 in /Users/mikhailrozhkov/.pyenv/versions/3.11.6/lib/python3.11/site-packages (from tensorflow) (4.12.2)\n",
      "Requirement already satisfied: wrapt>=1.11.0 in /Users/mikhailrozhkov/.pyenv/versions/3.11.6/lib/python3.11/site-packages (from tensorflow) (1.16.0)\n",
      "Requirement already satisfied: grpcio<2.0,>=1.24.3 in /Users/mikhailrozhkov/.pyenv/versions/3.11.6/lib/python3.11/site-packages (from tensorflow) (1.65.1)\n",
      "Collecting tensorboard<2.18,>=2.17 (from tensorflow)\n",
      "  Downloading tensorboard-2.17.1-py3-none-any.whl.metadata (1.6 kB)\n",
      "Collecting tensorflow-io-gcs-filesystem>=0.23.1 (from tensorflow)\n",
      "  Downloading tensorflow_io_gcs_filesystem-0.37.1-cp311-cp311-macosx_12_0_arm64.whl.metadata (14 kB)\n",
      "Requirement already satisfied: wheel<1.0,>=0.23.0 in /Users/mikhailrozhkov/.pyenv/versions/3.11.6/lib/python3.11/site-packages (from astunparse>=1.6.0->tensorflow) (0.44.0)\n",
      "Requirement already satisfied: charset-normalizer<4,>=2 in /Users/mikhailrozhkov/.local/lib/python3.11/site-packages (from requests<3,>=2.21.0->tensorflow) (3.3.2)\n",
      "Requirement already satisfied: idna<4,>=2.5 in /Users/mikhailrozhkov/.local/lib/python3.11/site-packages (from requests<3,>=2.21.0->tensorflow) (3.4)\n",
      "Requirement already satisfied: urllib3<3,>=1.21.1 in /Users/mikhailrozhkov/.local/lib/python3.11/site-packages (from requests<3,>=2.21.0->tensorflow) (2.0.7)\n",
      "Requirement already satisfied: certifi>=2017.4.17 in /Users/mikhailrozhkov/.local/lib/python3.11/site-packages (from requests<3,>=2.21.0->tensorflow) (2023.7.22)\n",
      "Requirement already satisfied: markdown>=2.6.8 in /Users/mikhailrozhkov/.pyenv/versions/3.11.6/lib/python3.11/site-packages (from tensorboard<2.18,>=2.17->tensorflow) (3.7)\n",
      "Collecting tensorboard-data-server<0.8.0,>=0.7.0 (from tensorboard<2.18,>=2.17->tensorflow)\n",
      "  Downloading tensorboard_data_server-0.7.2-py3-none-any.whl.metadata (1.1 kB)\n",
      "Requirement already satisfied: werkzeug>=1.0.1 in /Users/mikhailrozhkov/.local/lib/python3.11/site-packages (from tensorboard<2.18,>=2.17->tensorflow) (2.3.8)\n",
      "Requirement already satisfied: markdown-it-py>=2.2.0 in /Users/mikhailrozhkov/.pyenv/versions/3.11.6/lib/python3.11/site-packages (from rich->keras) (3.0.0)\n",
      "Requirement already satisfied: pygments<3.0.0,>=2.13.0 in /Users/mikhailrozhkov/.pyenv/versions/3.11.6/lib/python3.11/site-packages (from rich->keras) (2.17.2)\n",
      "Requirement already satisfied: mdurl~=0.1 in /Users/mikhailrozhkov/.pyenv/versions/3.11.6/lib/python3.11/site-packages (from markdown-it-py>=2.2.0->rich->keras) (0.1.2)\n",
      "Requirement already satisfied: MarkupSafe>=2.1.1 in /Users/mikhailrozhkov/.local/lib/python3.11/site-packages (from werkzeug>=1.0.1->tensorboard<2.18,>=2.17->tensorflow) (2.1.3)\n",
      "Downloading tensorflow-2.17.0-cp311-cp311-macosx_12_0_arm64.whl (236.2 MB)\n",
      "\u001b[2K   \u001b[38;2;114;156;31m━━━━━━━━━━━━━━━━━━━━━━━━━━━━━━━━━━━━━━━━\u001b[0m \u001b[32m236.2/236.2 MB\u001b[0m \u001b[31m21.2 MB/s\u001b[0m eta \u001b[36m0:00:00\u001b[0mm eta \u001b[36m0:00:01\u001b[0m0:01\u001b[0m:01\u001b[0m\n",
      "\u001b[?25hDownloading astunparse-1.6.3-py2.py3-none-any.whl (12 kB)\n",
      "Downloading gast-0.6.0-py3-none-any.whl (21 kB)\n",
      "Downloading google_pasta-0.2.0-py3-none-any.whl (57 kB)\n",
      "Downloading libclang-18.1.1-1-py2.py3-none-macosx_11_0_arm64.whl (25.8 MB)\n",
      "\u001b[2K   \u001b[38;2;114;156;31m━━━━━━━━━━━━━━━━━━━━━━━━━━━━━━━━━━━━━━━━\u001b[0m \u001b[32m25.8/25.8 MB\u001b[0m \u001b[31m21.7 MB/s\u001b[0m eta \u001b[36m0:00:00\u001b[0m31m22.4 MB/s\u001b[0m eta \u001b[36m0:00:01\u001b[0m\n",
      "\u001b[?25hDownloading ml_dtypes-0.4.1-cp311-cp311-macosx_10_9_universal2.whl (397 kB)\n",
      "Downloading opt_einsum-3.4.0-py3-none-any.whl (71 kB)\n",
      "Downloading tensorboard-2.17.1-py3-none-any.whl (5.5 MB)\n",
      "\u001b[2K   \u001b[38;2;114;156;31m━━━━━━━━━━━━━━━━━━━━━━━━━━━━━━━━━━━━━━━━\u001b[0m \u001b[32m5.5/5.5 MB\u001b[0m \u001b[31m19.8 MB/s\u001b[0m eta \u001b[36m0:00:00\u001b[0m MB/s\u001b[0m eta \u001b[36m0:00:01\u001b[0m\n",
      "\u001b[?25hDownloading tensorflow_io_gcs_filesystem-0.37.1-cp311-cp311-macosx_12_0_arm64.whl (3.5 MB)\n",
      "\u001b[2K   \u001b[38;2;114;156;31m━━━━━━━━━━━━━━━━━━━━━━━━━━━━━━━━━━━━━━━━\u001b[0m \u001b[32m3.5/3.5 MB\u001b[0m \u001b[31m19.9 MB/s\u001b[0m eta \u001b[36m0:00:00\u001b[0m\n",
      "\u001b[?25hDownloading tensorboard_data_server-0.7.2-py3-none-any.whl (2.4 kB)\n",
      "Installing collected packages: libclang, tensorflow-io-gcs-filesystem, tensorboard-data-server, opt-einsum, ml-dtypes, google-pasta, gast, astunparse, tensorboard, tensorflow\n",
      "  Attempting uninstall: ml-dtypes\n",
      "    Found existing installation: ml_dtypes 0.5.0\n",
      "    Uninstalling ml_dtypes-0.5.0:\n",
      "      Successfully uninstalled ml_dtypes-0.5.0\n",
      "Successfully installed astunparse-1.6.3 gast-0.6.0 google-pasta-0.2.0 libclang-18.1.1 ml-dtypes-0.4.1 opt-einsum-3.4.0 tensorboard-2.17.1 tensorboard-data-server-0.7.2 tensorflow-2.17.0 tensorflow-io-gcs-filesystem-0.37.1\n"
     ]
    }
   ],
   "source": [
    "!pip install keras hyperopt tensorflow"
   ]
  },
  {
   "cell_type": "code",
   "execution_count": 55,
   "metadata": {
    "execution": {
     "iopub.execute_input": "2024-10-18T15:09:04.094845Z",
     "iopub.status.busy": "2024-10-18T15:09:04.094739Z",
     "iopub.status.idle": "2024-10-18T15:09:24.396921Z",
     "shell.execute_reply": "2024-10-18T15:09:24.396541Z",
     "shell.execute_reply.started": "2024-10-18T15:09:04.094833Z"
    },
    "scrolled": true
   },
   "outputs": [
    {
     "name": "stderr",
     "output_type": "stream",
     "text": [
      "2024/10/18 17:09:23 WARNING mlflow.tracking.fluent: Exception raised while enabling autologging for tensorflow: cannot import name 'cast' from partially initialized module 'keras.src.backend' (most likely due to a circular import) (/Users/mikhailrozhkov/.pyenv/versions/3.11.6/lib/python3.11/site-packages/keras/src/backend/__init__.py)\n",
      "2024/10/18 17:09:24 WARNING mlflow.utils.autologging_utils: MLflow keras autologging is known to be compatible with 3.0.2 <= keras <= 3.5.0, but the installed version is 3.6.0. If you encounter errors during autologging, try upgrading / downgrading keras to a compatible version, or try upgrading MLflow.\n",
      "2024/10/18 17:09:24 INFO mlflow.tracking.fluent: Autologging successfully enabled for keras.\n"
     ]
    }
   ],
   "source": [
    "import keras\n",
    "import numpy as np\n",
    "import pandas as pd\n",
    "from hyperopt import STATUS_OK, Trials, fmin, hp, tpe\n",
    "from sklearn.metrics import mean_squared_error\n",
    "from sklearn.model_selection import train_test_split\n",
    "\n",
    "import mlflow\n",
    "from mlflow.models import infer_signature"
   ]
  },
  {
   "cell_type": "code",
   "execution_count": 56,
   "metadata": {
    "execution": {
     "iopub.execute_input": "2024-10-18T15:09:24.397647Z",
     "iopub.status.busy": "2024-10-18T15:09:24.397558Z",
     "iopub.status.idle": "2024-10-18T15:09:24.802756Z",
     "shell.execute_reply": "2024-10-18T15:09:24.802151Z",
     "shell.execute_reply.started": "2024-10-18T15:09:24.397639Z"
    }
   },
   "outputs": [],
   "source": [
    "# Load dataset\n",
    "data = pd.read_csv(\n",
    "    \"https://raw.githubusercontent.com/mlflow/mlflow/master/tests/datasets/winequality-white.csv\",\n",
    "    sep=\";\",\n",
    ")\n",
    "\n",
    "# Split the data into training, validation, and test sets\n",
    "train, test = train_test_split(data, test_size=0.25, random_state=42)\n",
    "train_x = train.drop([\"quality\"], axis=1).values\n",
    "train_y = train[[\"quality\"]].values.ravel()\n",
    "test_x = test.drop([\"quality\"], axis=1).values\n",
    "test_y = test[[\"quality\"]].values.ravel()\n",
    "train_x, valid_x, train_y, valid_y = train_test_split(\n",
    "    train_x, train_y, test_size=0.2, random_state=42\n",
    ")\n",
    "signature = infer_signature(train_x, train_y)\n"
   ]
  },
  {
   "cell_type": "code",
   "execution_count": 57,
   "metadata": {
    "execution": {
     "iopub.execute_input": "2024-10-18T15:10:34.927959Z",
     "iopub.status.busy": "2024-10-18T15:10:34.927409Z",
     "iopub.status.idle": "2024-10-18T15:10:34.971502Z",
     "shell.execute_reply": "2024-10-18T15:10:34.971077Z",
     "shell.execute_reply.started": "2024-10-18T15:10:34.927928Z"
    }
   },
   "outputs": [],
   "source": [
    "def train_model(params, epochs, train_x, train_y, valid_x, valid_y, test_x, test_y):\n",
    "    # Define model architecture\n",
    "    mean = np.mean(train_x, axis=0)\n",
    "    var = np.var(train_x, axis=0)\n",
    "    model = keras.Sequential(\n",
    "        [\n",
    "            keras.Input([train_x.shape[1]]),\n",
    "            keras.layers.Normalization(mean=mean, variance=var),\n",
    "            keras.layers.Dense(64, activation=\"relu\"),\n",
    "            keras.layers.Dense(1),\n",
    "        ]\n",
    "    )\n",
    "\n",
    "    # Compile model\n",
    "    model.compile(\n",
    "        optimizer=keras.optimizers.SGD(\n",
    "            learning_rate=params[\"lr\"], momentum=params[\"momentum\"]\n",
    "        ),\n",
    "        loss=\"mean_squared_error\",\n",
    "        metrics=[keras.metrics.RootMeanSquaredError()],\n",
    "    )\n",
    "\n",
    "    # Train model with MLflow tracking\n",
    "    with mlflow.start_run(nested=True):\n",
    "        model.fit(\n",
    "            train_x,\n",
    "            train_y,\n",
    "            validation_data=(valid_x, valid_y),\n",
    "            epochs=epochs,\n",
    "            batch_size=64,\n",
    "        )\n",
    "        # Evaluate the model\n",
    "        eval_result = model.evaluate(valid_x, valid_y, batch_size=64)\n",
    "        eval_rmse = eval_result[1]\n",
    "\n",
    "        # Log parameters and results\n",
    "        mlflow.log_params(params)\n",
    "        mlflow.log_metric(\"eval_rmse\", eval_rmse)\n",
    "\n",
    "        # Log model\n",
    "        mlflow.tensorflow.log_model(model, \"model\", signature=signature)\n",
    "\n",
    "        return {\"loss\": eval_rmse, \"status\": STATUS_OK, \"model\": model}\n"
   ]
  },
  {
   "cell_type": "code",
   "execution_count": 61,
   "metadata": {
    "execution": {
     "iopub.execute_input": "2024-10-18T15:12:48.440897Z",
     "iopub.status.busy": "2024-10-18T15:12:48.440435Z",
     "iopub.status.idle": "2024-10-18T15:12:48.488181Z",
     "shell.execute_reply": "2024-10-18T15:12:48.487731Z",
     "shell.execute_reply.started": "2024-10-18T15:12:48.440870Z"
    }
   },
   "outputs": [],
   "source": [
    "def objective(params):\n",
    "    # MLflow will track the parameters and results for each run\n",
    "    result = train_model(\n",
    "        params,\n",
    "        epochs=3,\n",
    "        train_x=train_x,\n",
    "        train_y=train_y,\n",
    "        valid_x=valid_x,\n",
    "        valid_y=valid_y,\n",
    "        test_x=test_x,\n",
    "        test_y=test_y,\n",
    "    )\n",
    "    return result\n",
    "\n",
    "space = {\n",
    "    \"lr\": hp.loguniform(\"lr\", np.log(1e-5), np.log(1e-1)),\n",
    "    \"momentum\": hp.uniform(\"momentum\", 0.0, 1.0),\n",
    "}"
   ]
  },
  {
   "cell_type": "code",
   "execution_count": 62,
   "metadata": {
    "execution": {
     "iopub.execute_input": "2024-10-18T15:12:48.900797Z",
     "iopub.status.busy": "2024-10-18T15:12:48.900163Z",
     "iopub.status.idle": "2024-10-18T15:13:44.006764Z",
     "shell.execute_reply": "2024-10-18T15:13:44.006469Z",
     "shell.execute_reply.started": "2024-10-18T15:12:48.900751Z"
    },
    "scrolled": true
   },
   "outputs": [
    {
     "name": "stderr",
     "output_type": "stream",
     "text": [
      "2024/10/18 17:12:48 WARNING mlflow.system_metrics.system_metrics_monitor: Skip logging GPU metrics because creating `GPUMonitor` failed with error: Failed to initialize NVML, skip logging GPU metrics: NVML Shared Library Not Found.\n",
      "2024/10/18 17:12:48 INFO mlflow.system_metrics.system_metrics_monitor: Started monitoring system metrics.\n"
     ]
    },
    {
     "name": "stdout",
     "output_type": "stream",
     "text": [
      "  0%|                                                                                                                                         | 0/8 [00:00<?, ?trial/s, best loss=?]"
     ]
    },
    {
     "name": "stderr",
     "output_type": "stream",
     "text": [
      "2024/10/18 17:12:49 WARNING mlflow.system_metrics.system_metrics_monitor: Skip logging GPU metrics because creating `GPUMonitor` failed with error: Failed to initialize NVML, skip logging GPU metrics: NVML Shared Library Not Found.\n",
      "\n",
      "2024/10/18 17:12:49 INFO mlflow.system_metrics.system_metrics_monitor: Started monitoring system metrics.\n",
      "\n"
     ]
    },
    {
     "data": {
      "text/html": [
       "<pre style=\"white-space:pre;overflow-x:auto;line-height:normal;font-family:Menlo,'DejaVu Sans Mono',consolas,'Courier New',monospace\"></pre>\n"
      ],
      "text/plain": []
     },
     "metadata": {},
     "output_type": "display_data"
    },
    {
     "name": "stdout",
     "output_type": "stream",
     "text": [
      "Epoch 1/3                                                                                                                                                                           \n",
      "\n",
      "\u001b[1m 1/46\u001b[0m \u001b[37m━━━━━━━━━━━━━━━━━━━━\u001b[0m \u001b[1m7s\u001b[0m 177ms/step - loss: 37.2229 - root_mean_squared_error: 6.1011                                                                 \n",
      "\u001b[1m46/46\u001b[0m \u001b[32m━━━━━━━━━━━━━━━━━━━━\u001b[0m\u001b[37m\u001b[0m \u001b[1m0s\u001b[0m 2ms/step - loss: 34.4049 - root_mean_squared_error: 5.8650 - val_loss: 32.7360 - val_root_mean_squared_error: 5.7215\n",
      "\n",
      "Epoch 2/3                                                                                                                                                                           \n",
      "\n",
      "\u001b[1m 1/46\u001b[0m \u001b[37m━━━━━━━━━━━━━━━━━━━━\u001b[0m \u001b[1m0s\u001b[0m 10ms/step - loss: 31.6046 - root_mean_squared_error: 5.6218                                                                  \n",
      "\u001b[1m46/46\u001b[0m \u001b[32m━━━━━━━━━━━━━━━━━━━━\u001b[0m\u001b[37m\u001b[0m \u001b[1m0s\u001b[0m 664us/step - loss: 32.0812 - root_mean_squared_error: 5.6640 - val_loss: 31.0345 - val_root_mean_squared_error: 5.5709\n",
      "\n",
      "Epoch 3/3                                                                                                                                                                           \n",
      "\n",
      "\u001b[1m 1/46\u001b[0m \u001b[37m━━━━━━━━━━━━━━━━━━━━\u001b[0m \u001b[1m0s\u001b[0m 10ms/step - loss: 30.1391 - root_mean_squared_error: 5.4899                                                                  \n",
      "\u001b[1m46/46\u001b[0m \u001b[32m━━━━━━━━━━━━━━━━━━━━\u001b[0m\u001b[37m\u001b[0m \u001b[1m0s\u001b[0m 610us/step - loss: 30.8843 - root_mean_squared_error: 5.5572 - val_loss: 29.4254 - val_root_mean_squared_error: 5.4245\n",
      "\n",
      "\u001b[1m 2/12\u001b[0m \u001b[32m━━━\u001b[0m\u001b[37m━━━━━━━━━━━━━━━━━\u001b[0m \u001b[1m0s\u001b[0m 258us/step - loss: 30.0382 - root_mean_squared_error: 5.4807                                                        \n",
      "\u001b[1m 1/12\u001b[0m \u001b[32m━\u001b[0m\u001b[37m━━━━━━━━━━━━━━━━━━━\u001b[0m \u001b[1m0s\u001b[0m 9ms/step - loss: 30.2533 - root_mean_squared_error: 5.4807                                                          \n",
      "\u001b[1m 3/12\u001b[0m \u001b[32m━━━━━\u001b[0m\u001b[37m━━━━━━━━━━━━━━━\u001b[0m \u001b[1m0s\u001b[0m 512us/step - loss: 29.7520 - root_mean_squared_error: 5.4535                                                        \n",
      "\u001b[1m 5/12\u001b[0m \u001b[32m━━━━━━━━\u001b[0m\u001b[37m━━━━━━━━━━━━\u001b[0m \u001b[1m0s\u001b[0m 611us/step - loss: 29.7105 - root_mean_squared_error: 5.4506                                                        \n",
      "\u001b[1m 6/12\u001b[0m \u001b[32m━━━━━━━━━━\u001b[0m\u001b[37m━━━━━━━━━━\u001b[0m \u001b[1m0s\u001b[0m 684us/step - loss: 29.6557 - root_mean_squared_error: 5.4456                                                        \n",
      "\u001b[1m 4/12\u001b[0m \u001b[32m━━━━━━\u001b[0m\u001b[37m━━━━━━━━━━━━━━\u001b[0m \u001b[1m0s\u001b[0m 565us/step - loss: 29.7422 - root_mean_squared_error: 5.4506                                                        \n",
      "\u001b[1m 7/12\u001b[0m \u001b[32m━━━━━━━━━━━\u001b[0m\u001b[37m━━━━━━━━━\u001b[0m \u001b[1m0s\u001b[0m 677us/step - loss: 29.5738 - root_mean_squared_error: 5.4319                                                        \n",
      "\u001b[1m 9/12\u001b[0m \u001b[32m━━━━━━━━━━━━━━━\u001b[0m\u001b[37m━━━━━\u001b[0m \u001b[1m0s\u001b[0m 645us/step - loss: 29.4544 - root_mean_squared_error: 5.4250                                                        \n",
      "\u001b[1m 8/12\u001b[0m \u001b[32m━━━━━━━━━━━━━\u001b[0m\u001b[37m━━━━━━━\u001b[0m \u001b[1m0s\u001b[0m 653us/step - loss: 29.5072 - root_mean_squared_error: 5.4250                                                        \n",
      "\u001b[1m10/12\u001b[0m \u001b[32m━━━━━━━━━━━━━━━━\u001b[0m\u001b[37m━━━━\u001b[0m \u001b[1m0s\u001b[0m 638us/step - loss: 29.4321 - root_mean_squared_error: 5.4250                                                        \n",
      "\u001b[1m11/12\u001b[0m \u001b[32m━━━━━━━━━━━━━━━━━━\u001b[0m\u001b[37m━━\u001b[0m \u001b[1m0s\u001b[0m 684us/step - loss: 29.4159 - root_mean_squared_error: 5.4235                                                        \n",
      "\u001b[1m12/12\u001b[0m \u001b[32m━━━━━━━━━━━━━━━━━━━━\u001b[0m\u001b[37m\u001b[0m \u001b[1m0s\u001b[0m 692us/step - loss: 29.4167 - root_mean_squared_error: 5.4236                                                        \n",
      "\u001b[1m12/12\u001b[0m \u001b[32m━━━━━━━━━━━━━━━━━━━━\u001b[0m\u001b[37m\u001b[0m \u001b[1m0s\u001b[0m 2ms/step - loss: 29.4173 - root_mean_squared_error: 5.4237                                                         \n",
      "\n",
      "  0%|                                                                                                                                         | 0/8 [00:03<?, ?trial/s, best loss=?]"
     ]
    },
    {
     "name": "stderr",
     "output_type": "stream",
     "text": [
      "2024/10/18 17:12:55 INFO mlflow.tracking._tracking_service.client: 🏃 View run indecisive-seal-857 at: http://localhost:5001/#/experiments/937421358963430873/runs/297d53cea6114989be252f10cb3e1b9c.\n",
      "\n",
      "2024/10/18 17:12:55 INFO mlflow.tracking._tracking_service.client: 🧪 View experiment at: http://localhost:5001/#/experiments/937421358963430873.\n",
      "\n",
      "2024/10/18 17:12:55 INFO mlflow.system_metrics.system_metrics_monitor: Stopping system metrics monitoring...\n",
      "\n",
      "2024/10/18 17:12:55 INFO mlflow.system_metrics.system_metrics_monitor: Successfully terminated system metrics monitoring!\n",
      "\n"
     ]
    },
    {
     "name": "stdout",
     "output_type": "stream",
     "text": [
      " 12%|██████████████                                                                                                  | 1/8 [00:06<00:46,  6.65s/trial, best loss: 5.424516201019287]"
     ]
    },
    {
     "name": "stderr",
     "output_type": "stream",
     "text": [
      "2024/10/18 17:12:55 WARNING mlflow.system_metrics.system_metrics_monitor: Skip logging GPU metrics because creating `GPUMonitor` failed with error: Failed to initialize NVML, skip logging GPU metrics: NVML Shared Library Not Found.\n",
      "\n",
      "2024/10/18 17:12:55 INFO mlflow.system_metrics.system_metrics_monitor: Started monitoring system metrics.\n",
      "\n"
     ]
    },
    {
     "data": {
      "text/html": [
       "<pre style=\"white-space:pre;overflow-x:auto;line-height:normal;font-family:Menlo,'DejaVu Sans Mono',consolas,'Courier New',monospace\"></pre>\n"
      ],
      "text/plain": []
     },
     "metadata": {},
     "output_type": "display_data"
    },
    {
     "name": "stdout",
     "output_type": "stream",
     "text": [
      "Epoch 1/3                                                                                                                                                                           \n",
      "\n",
      "\u001b[1m 1/46\u001b[0m \u001b[37m━━━━━━━━━━━━━━━━━━━━\u001b[0m \u001b[1m7s\u001b[0m 177ms/step - loss: 36.4995 - root_mean_squared_error: 6.0415                                                                 \n",
      "\u001b[1m46/46\u001b[0m \u001b[32m━━━━━━━━━━━━━━━━━━━━\u001b[0m\u001b[37m\u001b[0m \u001b[1m0s\u001b[0m 2ms/step - loss: 7.3575 - root_mean_squared_error: 2.5213 - val_loss: 0.8807 - val_root_mean_squared_error: 0.9385 \n",
      "\n",
      "Epoch 2/3                                                                                                                                                                           \n",
      "\n",
      "\u001b[1m 1/46\u001b[0m \u001b[37m━━━━━━━━━━━━━━━━━━━━\u001b[0m \u001b[1m0s\u001b[0m 10ms/step - loss: 0.8318 - root_mean_squared_error: 0.9120                                                                   \n",
      "\u001b[1m46/46\u001b[0m \u001b[32m━━━━━━━━━━━━━━━━━━━━\u001b[0m\u001b[37m\u001b[0m \u001b[1m0s\u001b[0m 643us/step - loss: 0.7307 - root_mean_squared_error: 0.8546 - val_loss: 0.6237 - val_root_mean_squared_error: 0.7897\n",
      "\n",
      "Epoch 3/3                                                                                                                                                                           \n",
      "\n",
      "\u001b[1m 1/46\u001b[0m \u001b[37m━━━━━━━━━━━━━━━━━━━━\u001b[0m \u001b[1m0s\u001b[0m 11ms/step - loss: 0.4568 - root_mean_squared_error: 0.6758                                                                   \n",
      "\u001b[1m46/46\u001b[0m \u001b[32m━━━━━━━━━━━━━━━━━━━━\u001b[0m\u001b[37m\u001b[0m \u001b[1m0s\u001b[0m 572us/step - loss: 0.5794 - root_mean_squared_error: 0.7611 - val_loss: 0.5625 - val_root_mean_squared_error: 0.7500\n",
      "\n",
      "\u001b[1m 1/12\u001b[0m \u001b[32m━\u001b[0m\u001b[37m━━━━━━━━━━━━━━━━━━━\u001b[0m \u001b[1m0s\u001b[0m 8ms/step - loss: 0.4887 - root_mean_squared_error: 0.6991                                                           \n",
      "\u001b[1m 2/12\u001b[0m \u001b[32m━━━\u001b[0m\u001b[37m━━━━━━━━━━━━━━━━━\u001b[0m \u001b[1m0s\u001b[0m 621us/step - loss: 0.4792 - root_mean_squared_error: 0.6922                                                         \n",
      "\u001b[1m 3/12\u001b[0m \u001b[32m━━━━━\u001b[0m\u001b[37m━━━━━━━━━━━━━━━\u001b[0m \u001b[1m0s\u001b[0m 852us/step - loss: 0.5034 - root_mean_squared_error: 0.7091                                                         \n",
      "\u001b[1m 4/12\u001b[0m \u001b[32m━━━━━━\u001b[0m\u001b[37m━━━━━━━━━━━━━━\u001b[0m \u001b[1m0s\u001b[0m 913us/step - loss: 0.5098 - root_mean_squared_error: 0.7137                                                         \n",
      "\u001b[1m 5/12\u001b[0m \u001b[32m━━━━━━━━\u001b[0m\u001b[37m━━━━━━━━━━━━\u001b[0m \u001b[1m0s\u001b[0m 927us/step - loss: 0.5139 - root_mean_squared_error: 0.7193                                                         \n",
      "\u001b[1m 6/12\u001b[0m \u001b[32m━━━━━━━━━━\u001b[0m\u001b[37m━━━━━━━━━━\u001b[0m \u001b[1m0s\u001b[0m 797us/step - loss: 0.5178 - root_mean_squared_error: 0.7193                                                         \n",
      "\u001b[1m 7/12\u001b[0m \u001b[32m━━━━━━━━━━━\u001b[0m\u001b[37m━━━━━━━━━\u001b[0m \u001b[1m0s\u001b[0m 829us/step - loss: 0.5219 - root_mean_squared_error: 0.7222                                                         \n",
      "\u001b[1m 8/12\u001b[0m \u001b[32m━━━━━━━━━━━━━\u001b[0m\u001b[37m━━━━━━━\u001b[0m \u001b[1m0s\u001b[0m 820us/step - loss: 0.5285 - root_mean_squared_error: 0.7266                                                         \n",
      "\u001b[1m 9/12\u001b[0m \u001b[32m━━━━━━━━━━━━━━━\u001b[0m\u001b[37m━━━━━\u001b[0m \u001b[1m0s\u001b[0m 831us/step - loss: 0.5341 - root_mean_squared_error: 0.7304                                                         \n",
      "\u001b[1m12/12\u001b[0m \u001b[32m━━━━━━━━━━━━━━━━━━━━\u001b[0m\u001b[37m\u001b[0m \u001b[1m0s\u001b[0m 1ms/step - loss: 0.5442 - root_mean_squared_error: 0.7374                                                           \n",
      "\n",
      " 12%|██████████████                                                                                                  | 1/8 [00:09<00:46,  6.65s/trial, best loss: 5.424516201019287]"
     ]
    },
    {
     "name": "stderr",
     "output_type": "stream",
     "text": [
      "2024/10/18 17:13:02 INFO mlflow.tracking._tracking_service.client: 🏃 View run respected-shrike-276 at: http://localhost:5001/#/experiments/937421358963430873/runs/ec173abe7467458a881436c7704d8991.\n",
      "\n",
      "2024/10/18 17:13:02 INFO mlflow.tracking._tracking_service.client: 🧪 View experiment at: http://localhost:5001/#/experiments/937421358963430873.\n",
      "\n",
      "2024/10/18 17:13:02 INFO mlflow.system_metrics.system_metrics_monitor: Stopping system metrics monitoring...\n",
      "\n",
      "2024/10/18 17:13:02 INFO mlflow.system_metrics.system_metrics_monitor: Successfully terminated system metrics monitoring!\n",
      "\n"
     ]
    },
    {
     "name": "stdout",
     "output_type": "stream",
     "text": [
      " 25%|███████████████████████████▊                                                                                   | 2/8 [00:13<00:39,  6.55s/trial, best loss: 0.7499967813491821]"
     ]
    },
    {
     "name": "stderr",
     "output_type": "stream",
     "text": [
      "2024/10/18 17:13:02 WARNING mlflow.system_metrics.system_metrics_monitor: Skip logging GPU metrics because creating `GPUMonitor` failed with error: Failed to initialize NVML, skip logging GPU metrics: NVML Shared Library Not Found.\n",
      "\n",
      "2024/10/18 17:13:02 INFO mlflow.system_metrics.system_metrics_monitor: Started monitoring system metrics.\n",
      "\n"
     ]
    },
    {
     "data": {
      "text/html": [
       "<pre style=\"white-space:pre;overflow-x:auto;line-height:normal;font-family:Menlo,'DejaVu Sans Mono',consolas,'Courier New',monospace\"></pre>\n"
      ],
      "text/plain": []
     },
     "metadata": {},
     "output_type": "display_data"
    },
    {
     "name": "stdout",
     "output_type": "stream",
     "text": [
      "Epoch 1/3                                                                                                                                                                           \n",
      "\n",
      "\u001b[1m 1/46\u001b[0m \u001b[37m━━━━━━━━━━━━━━━━━━━━\u001b[0m \u001b[1m8s\u001b[0m 180ms/step - loss: 32.0141 - root_mean_squared_error: 5.6581                                                                 \n",
      "\u001b[1m46/46\u001b[0m \u001b[32m━━━━━━━━━━━━━━━━━━━━\u001b[0m\u001b[37m\u001b[0m \u001b[1m0s\u001b[0m 2ms/step - loss: 6.3325 - root_mean_squared_error: 2.3583 - val_loss: 1.0508 - val_root_mean_squared_error: 1.0251 \n",
      "\n",
      "Epoch 2/3                                                                                                                                                                           \n",
      "\n",
      "\u001b[1m 1/46\u001b[0m \u001b[37m━━━━━━━━━━━━━━━━━━━━\u001b[0m \u001b[1m0s\u001b[0m 10ms/step - loss: 1.3882 - root_mean_squared_error: 1.1782                                                                   \n",
      "\u001b[1m46/46\u001b[0m \u001b[32m━━━━━━━━━━━━━━━━━━━━\u001b[0m\u001b[37m\u001b[0m \u001b[1m0s\u001b[0m 688us/step - loss: 0.9115 - root_mean_squared_error: 0.9530 - val_loss: 0.6761 - val_root_mean_squared_error: 0.8222\n",
      "\n",
      "Epoch 3/3                                                                                                                                                                           \n",
      "\n",
      "\u001b[1m 1/46\u001b[0m \u001b[37m━━━━━━━━━━━━━━━━━━━━\u001b[0m \u001b[1m0s\u001b[0m 10ms/step - loss: 0.5691 - root_mean_squared_error: 0.7544                                                                   \n",
      "\u001b[1m46/46\u001b[0m \u001b[32m━━━━━━━━━━━━━━━━━━━━\u001b[0m\u001b[37m\u001b[0m \u001b[1m0s\u001b[0m 590us/step - loss: 0.6205 - root_mean_squared_error: 0.7875 - val_loss: 0.6085 - val_root_mean_squared_error: 0.7801\n",
      "\n",
      "\u001b[1m 1/12\u001b[0m \u001b[32m━\u001b[0m\u001b[37m━━━━━━━━━━━━━━━━━━━\u001b[0m \u001b[1m0s\u001b[0m 9ms/step - loss: 0.4867 - root_mean_squared_error: 0.6976                                                           \n",
      "\u001b[1m 2/12\u001b[0m \u001b[32m━━━\u001b[0m\u001b[37m━━━━━━━━━━━━━━━━━\u001b[0m \u001b[1m0s\u001b[0m 882us/step - loss: 0.4806 - root_mean_squared_error: 0.6932                                                         \n",
      "\u001b[1m 4/12\u001b[0m \u001b[32m━━━━━━\u001b[0m\u001b[37m━━━━━━━━━━━━━━\u001b[0m \u001b[1m0s\u001b[0m 896us/step - loss: 0.5120 - root_mean_squared_error: 0.7152                                                         \n",
      "\u001b[1m 3/12\u001b[0m \u001b[32m━━━━━\u001b[0m\u001b[37m━━━━━━━━━━━━━━━\u001b[0m \u001b[1m0s\u001b[0m 1ms/step - loss: 0.5013 - root_mean_squared_error: 0.7152                                                           \n",
      "\u001b[1m 7/12\u001b[0m \u001b[32m━━━━━━━━━━━\u001b[0m\u001b[37m━━━━━━━━━\u001b[0m \u001b[1m0s\u001b[0m 873us/step - loss: 0.5370 - root_mean_squared_error: 0.7323                                                         \n",
      "\u001b[1m 6/12\u001b[0m \u001b[32m━━━━━━━━━━\u001b[0m\u001b[37m━━━━━━━━━━\u001b[0m \u001b[1m0s\u001b[0m 873us/step - loss: 0.5286 - root_mean_squared_error: 0.7323                                                         \n",
      "\u001b[1m 5/12\u001b[0m \u001b[32m━━━━━━━━\u001b[0m\u001b[37m━━━━━━━━━━━━\u001b[0m \u001b[1m0s\u001b[0m 913us/step - loss: 0.5208 - root_mean_squared_error: 0.7266                                                         \n",
      "\u001b[1m 8/12\u001b[0m \u001b[32m━━━━━━━━━━━━━\u001b[0m\u001b[37m━━━━━━━\u001b[0m \u001b[1m0s\u001b[0m 860us/step - loss: 0.5480 - root_mean_squared_error: 0.7460                                                         \n",
      "\u001b[1m12/12\u001b[0m \u001b[32m━━━━━━━━━━━━━━━━━━━━\u001b[0m\u001b[37m\u001b[0m \u001b[1m0s\u001b[0m 1ms/step - loss: 0.5757 - root_mean_squared_error: 0.7580                                                           \n",
      "\n",
      " 25%|███████████████████████████▊                                                                                   | 2/8 [00:16<00:39,  6.55s/trial, best loss: 0.7499967813491821]"
     ]
    },
    {
     "name": "stderr",
     "output_type": "stream",
     "text": [
      "2024/10/18 17:13:08 INFO mlflow.tracking._tracking_service.client: 🏃 View run enchanting-wren-384 at: http://localhost:5001/#/experiments/937421358963430873/runs/61b2cd70fbc7476996a80859a3a11bf2.\n",
      "\n",
      "2024/10/18 17:13:08 INFO mlflow.tracking._tracking_service.client: 🧪 View experiment at: http://localhost:5001/#/experiments/937421358963430873.\n",
      "\n",
      "2024/10/18 17:13:08 INFO mlflow.system_metrics.system_metrics_monitor: Stopping system metrics monitoring...\n",
      "\n",
      "2024/10/18 17:13:08 INFO mlflow.system_metrics.system_metrics_monitor: Successfully terminated system metrics monitoring!\n",
      "\n"
     ]
    },
    {
     "name": "stdout",
     "output_type": "stream",
     "text": [
      " 38%|█████████████████████████████████████████▋                                                                     | 3/8 [00:19<00:32,  6.53s/trial, best loss: 0.7499967813491821]"
     ]
    },
    {
     "name": "stderr",
     "output_type": "stream",
     "text": [
      "2024/10/18 17:13:08 WARNING mlflow.system_metrics.system_metrics_monitor: Skip logging GPU metrics because creating `GPUMonitor` failed with error: Failed to initialize NVML, skip logging GPU metrics: NVML Shared Library Not Found.\n",
      "\n",
      "2024/10/18 17:13:08 INFO mlflow.system_metrics.system_metrics_monitor: Started monitoring system metrics.\n",
      "\n"
     ]
    },
    {
     "data": {
      "text/html": [
       "<pre style=\"white-space:pre;overflow-x:auto;line-height:normal;font-family:Menlo,'DejaVu Sans Mono',consolas,'Courier New',monospace\"></pre>\n"
      ],
      "text/plain": []
     },
     "metadata": {},
     "output_type": "display_data"
    },
    {
     "name": "stdout",
     "output_type": "stream",
     "text": [
      "Epoch 1/3                                                                                                                                                                           \n",
      "\n",
      "\u001b[1m 1/46\u001b[0m \u001b[37m━━━━━━━━━━━━━━━━━━━━\u001b[0m \u001b[1m7s\u001b[0m 171ms/step - loss: 25.9915 - root_mean_squared_error: 5.0982                                                                 \n",
      "\u001b[1m46/46\u001b[0m \u001b[32m━━━━━━━━━━━━━━━━━━━━\u001b[0m\u001b[37m\u001b[0m \u001b[1m0s\u001b[0m 2ms/step - loss: 22.2508 - root_mean_squared_error: 4.7094 - val_loss: 10.8699 - val_root_mean_squared_error: 3.2970\n",
      "\n",
      "Epoch 2/3                                                                                                                                                                           \n",
      "\n",
      "\u001b[1m 1/46\u001b[0m \u001b[37m━━━━━━━━━━━━━━━━━━━━\u001b[0m \u001b[1m0s\u001b[0m 11ms/step - loss: 9.9564 - root_mean_squared_error: 3.1554                                                                   \n",
      "\u001b[1m46/46\u001b[0m \u001b[32m━━━━━━━━━━━━━━━━━━━━\u001b[0m\u001b[37m\u001b[0m \u001b[1m0s\u001b[0m 672us/step - loss: 8.7790 - root_mean_squared_error: 2.9586 - val_loss: 4.6609 - val_root_mean_squared_error: 2.1589\n",
      "\n",
      "Epoch 3/3                                                                                                                                                                           \n",
      "\n",
      "\u001b[1m 1/46\u001b[0m \u001b[37m━━━━━━━━━━━━━━━━━━━━\u001b[0m \u001b[1m0s\u001b[0m 10ms/step - loss: 5.8902 - root_mean_squared_error: 2.4270                                                                   \n",
      "\u001b[1m46/46\u001b[0m \u001b[32m━━━━━━━━━━━━━━━━━━━━\u001b[0m\u001b[37m\u001b[0m \u001b[1m0s\u001b[0m 639us/step - loss: 4.2654 - root_mean_squared_error: 2.0613 - val_loss: 2.9422 - val_root_mean_squared_error: 1.7153\n",
      "\n",
      "\u001b[1m 1/12\u001b[0m \u001b[32m━\u001b[0m\u001b[37m━━━━━━━━━━━━━━━━━━━\u001b[0m \u001b[1m0s\u001b[0m 9ms/step - loss: 2.6617 - root_mean_squared_error: 1.6315                                                           \n",
      "\u001b[1m 2/12\u001b[0m \u001b[32m━━━\u001b[0m\u001b[37m━━━━━━━━━━━━━━━━━\u001b[0m \u001b[1m0s\u001b[0m 623us/step - loss: 2.6256 - root_mean_squared_error: 1.6203                                                         \n",
      "\u001b[1m 3/12\u001b[0m \u001b[32m━━━━━\u001b[0m\u001b[37m━━━━━━━━━━━━━━━\u001b[0m \u001b[1m0s\u001b[0m 812us/step - loss: 2.7489 - root_mean_squared_error: 1.6731                                                         \n",
      "\u001b[1m 4/12\u001b[0m \u001b[32m━━━━━━\u001b[0m\u001b[37m━━━━━━━━━━━━━━\u001b[0m \u001b[1m0s\u001b[0m 840us/step - loss: 2.8020 - root_mean_squared_error: 1.6805                                                         \n",
      "\u001b[1m 6/12\u001b[0m \u001b[32m━━━━━━━━━━\u001b[0m\u001b[37m━━━━━━━━━━\u001b[0m \u001b[1m0s\u001b[0m 839us/step - loss: 2.8260 - root_mean_squared_error: 1.6805                                                         \n",
      "\u001b[1m 7/12\u001b[0m \u001b[32m━━━━━━━━━━━\u001b[0m\u001b[37m━━━━━━━━━\u001b[0m \u001b[1m0s\u001b[0m 836us/step - loss: 2.8310 - root_mean_squared_error: 1.6857                                                         \n",
      "\u001b[1m 5/12\u001b[0m \u001b[32m━━━━━━━━\u001b[0m\u001b[37m━━━━━━━━━━━━\u001b[0m \u001b[1m0s\u001b[0m 917us/step - loss: 2.8151 - root_mean_squared_error: 1.6820                                                         \n",
      "\u001b[1m 8/12\u001b[0m \u001b[32m━━━━━━━━━━━━━\u001b[0m\u001b[37m━━━━━━━\u001b[0m \u001b[1m0s\u001b[0m 845us/step - loss: 2.8431 - root_mean_squared_error: 1.6879                                                         \n",
      "\u001b[1m10/12\u001b[0m \u001b[32m━━━━━━━━━━━━━━━━\u001b[0m\u001b[37m━━━━\u001b[0m \u001b[1m0s\u001b[0m 806us/step - loss: 2.8607 - root_mean_squared_error: 1.6909                                                         \n",
      "\u001b[1m 9/12\u001b[0m \u001b[32m━━━━━━━━━━━━━━━\u001b[0m\u001b[37m━━━━━\u001b[0m \u001b[1m0s\u001b[0m 817us/step - loss: 2.8505 - root_mean_squared_error: 1.6909                                                         \n",
      "\u001b[1m12/12\u001b[0m \u001b[32m━━━━━━━━━━━━━━━━━━━━\u001b[0m\u001b[37m\u001b[0m \u001b[1m0s\u001b[0m 770us/step - loss: 2.8731 - root_mean_squared_error: 1.6946                                                         \n",
      "\u001b[1m11/12\u001b[0m \u001b[32m━━━━━━━━━━━━━━━━━━\u001b[0m\u001b[37m━━\u001b[0m \u001b[1m0s\u001b[0m 814us/step - loss: 2.8668 - root_mean_squared_error: 1.6946                                                         \n",
      "\u001b[1m12/12\u001b[0m \u001b[32m━━━━━━━━━━━━━━━━━━━━\u001b[0m\u001b[37m\u001b[0m \u001b[1m0s\u001b[0m 2ms/step - loss: 2.8784 - root_mean_squared_error: 1.6962                                                           \n",
      "\n",
      " 38%|█████████████████████████████████████████▋                                                                     | 3/8 [00:22<00:32,  6.53s/trial, best loss: 0.7499967813491821]"
     ]
    },
    {
     "name": "stderr",
     "output_type": "stream",
     "text": [
      "2024/10/18 17:13:15 INFO mlflow.tracking._tracking_service.client: 🏃 View run adaptable-ray-921 at: http://localhost:5001/#/experiments/937421358963430873/runs/717b0c8bfdd5412fb45670e7aa0de53e.\n",
      "\n",
      "2024/10/18 17:13:15 INFO mlflow.tracking._tracking_service.client: 🧪 View experiment at: http://localhost:5001/#/experiments/937421358963430873.\n",
      "\n",
      "2024/10/18 17:13:15 INFO mlflow.system_metrics.system_metrics_monitor: Stopping system metrics monitoring...\n",
      "\n",
      "2024/10/18 17:13:15 INFO mlflow.system_metrics.system_metrics_monitor: Successfully terminated system metrics monitoring!\n",
      "\n"
     ]
    },
    {
     "name": "stdout",
     "output_type": "stream",
     "text": [
      " 50%|███████████████████████████████████████████████████████▌                                                       | 4/8 [00:26<00:26,  6.51s/trial, best loss: 0.7499967813491821]"
     ]
    },
    {
     "name": "stderr",
     "output_type": "stream",
     "text": [
      "2024/10/18 17:13:15 WARNING mlflow.system_metrics.system_metrics_monitor: Skip logging GPU metrics because creating `GPUMonitor` failed with error: Failed to initialize NVML, skip logging GPU metrics: NVML Shared Library Not Found.\n",
      "\n",
      "2024/10/18 17:13:15 INFO mlflow.system_metrics.system_metrics_monitor: Started monitoring system metrics.\n",
      "\n"
     ]
    },
    {
     "data": {
      "text/html": [
       "<pre style=\"white-space:pre;overflow-x:auto;line-height:normal;font-family:Menlo,'DejaVu Sans Mono',consolas,'Courier New',monospace\"></pre>\n"
      ],
      "text/plain": []
     },
     "metadata": {},
     "output_type": "display_data"
    },
    {
     "name": "stdout",
     "output_type": "stream",
     "text": [
      "Epoch 1/3                                                                                                                                                                           \n",
      "\n",
      "\u001b[1m 1/46\u001b[0m \u001b[37m━━━━━━━━━━━━━━━━━━━━\u001b[0m \u001b[1m8s\u001b[0m 182ms/step - loss: 40.0374 - root_mean_squared_error: 6.3275                                                                 \n",
      "\u001b[1m46/46\u001b[0m \u001b[32m━━━━━━━━━━━━━━━━━━━━\u001b[0m\u001b[37m\u001b[0m \u001b[1m0s\u001b[0m 2ms/step - loss: 6.2991 - root_mean_squared_error: 2.3107 - val_loss: 0.7334 - val_root_mean_squared_error: 0.8564 \n",
      "\n",
      "Epoch 2/3                                                                                                                                                                           \n",
      "\n",
      "\u001b[1m 1/46\u001b[0m \u001b[37m━━━━━━━━━━━━━━━━━━━━\u001b[0m \u001b[1m0s\u001b[0m 10ms/step - loss: 0.6525 - root_mean_squared_error: 0.8078                                                                   \n",
      "\u001b[1m46/46\u001b[0m \u001b[32m━━━━━━━━━━━━━━━━━━━━\u001b[0m\u001b[37m\u001b[0m \u001b[1m0s\u001b[0m 689us/step - loss: 0.6868 - root_mean_squared_error: 0.8285 - val_loss: 0.6322 - val_root_mean_squared_error: 0.7951\n",
      "\n",
      "Epoch 3/3                                                                                                                                                                           \n",
      "\n",
      "\u001b[1m 1/46\u001b[0m \u001b[37m━━━━━━━━━━━━━━━━━━━━\u001b[0m \u001b[1m0s\u001b[0m 11ms/step - loss: 0.4259 - root_mean_squared_error: 0.6526                                                                   \n",
      "\u001b[1m46/46\u001b[0m \u001b[32m━━━━━━━━━━━━━━━━━━━━\u001b[0m\u001b[37m\u001b[0m \u001b[1m0s\u001b[0m 591us/step - loss: 0.6181 - root_mean_squared_error: 0.7856 - val_loss: 0.5391 - val_root_mean_squared_error: 0.7342\n",
      "\n",
      "\u001b[1m 1/12\u001b[0m \u001b[32m━\u001b[0m\u001b[37m━━━━━━━━━━━━━━━━━━━\u001b[0m \u001b[1m0s\u001b[0m 9ms/step - loss: 0.4914 - root_mean_squared_error: 0.7010                                                           \n",
      "\u001b[1m 2/12\u001b[0m \u001b[32m━━━\u001b[0m\u001b[37m━━━━━━━━━━━━━━━━━\u001b[0m \u001b[1m0s\u001b[0m 615us/step - loss: 0.4754 - root_mean_squared_error: 0.6894                                                         \n",
      "\u001b[1m 3/12\u001b[0m \u001b[32m━━━━━\u001b[0m\u001b[37m━━━━━━━━━━━━━━━\u001b[0m \u001b[1m0s\u001b[0m 847us/step - loss: 0.4963 - root_mean_squared_error: 0.7041                                                         \n",
      "\u001b[1m 4/12\u001b[0m \u001b[32m━━━━━━\u001b[0m\u001b[37m━━━━━━━━━━━━━━\u001b[0m \u001b[1m0s\u001b[0m 760us/step - loss: 0.4979 - root_mean_squared_error: 0.7054                                                         \n",
      "\u001b[1m 5/12\u001b[0m \u001b[32m━━━━━━━━\u001b[0m\u001b[37m━━━━━━━━━━━━\u001b[0m \u001b[1m0s\u001b[0m 733us/step - loss: 0.5024 - root_mean_squared_error: 0.7085                                                         \n",
      "\u001b[1m 6/12\u001b[0m \u001b[32m━━━━━━━━━━\u001b[0m\u001b[37m━━━━━━━━━━\u001b[0m \u001b[1m0s\u001b[0m 756us/step - loss: 0.5050 - root_mean_squared_error: 0.7104                                                         \n",
      "\u001b[1m 7/12\u001b[0m \u001b[32m━━━━━━━━━━━\u001b[0m\u001b[37m━━━━━━━━━\u001b[0m \u001b[1m0s\u001b[0m 745us/step - loss: 0.5074 - root_mean_squared_error: 0.7153                                                         \n",
      "\u001b[1m 8/12\u001b[0m \u001b[32m━━━━━━━━━━━━━\u001b[0m\u001b[37m━━━━━━━\u001b[0m \u001b[1m0s\u001b[0m 727us/step - loss: 0.5120 - root_mean_squared_error: 0.7153                                                         \n",
      "\u001b[1m 9/12\u001b[0m \u001b[32m━━━━━━━━━━━━━━━\u001b[0m\u001b[37m━━━━━\u001b[0m \u001b[1m0s\u001b[0m 754us/step - loss: 0.5163 - root_mean_squared_error: 0.7209                                                         \n",
      "\u001b[1m11/12\u001b[0m \u001b[32m━━━━━━━━━━━━━━━━━━\u001b[0m\u001b[37m━━\u001b[0m \u001b[1m0s\u001b[0m 753us/step - loss: 0.5217 - root_mean_squared_error: 0.7220                                                         \n",
      "\u001b[1m10/12\u001b[0m \u001b[32m━━━━━━━━━━━━━━━━\u001b[0m\u001b[37m━━━━\u001b[0m \u001b[1m0s\u001b[0m 743us/step - loss: 0.5201 - root_mean_squared_error: 0.7220                                                         \n",
      "\u001b[1m12/12\u001b[0m \u001b[32m━━━━━━━━━━━━━━━━━━━━\u001b[0m\u001b[37m\u001b[0m \u001b[1m0s\u001b[0m 2ms/step - loss: 0.5244 - root_mean_squared_error: 0.7239                                                           \n",
      "\n",
      " 50%|███████████████████████████████████████████████████████▌                                                       | 4/8 [00:29<00:26,  6.51s/trial, best loss: 0.7499967813491821]"
     ]
    },
    {
     "name": "stderr",
     "output_type": "stream",
     "text": [
      "2024/10/18 17:13:21 INFO mlflow.tracking._tracking_service.client: 🏃 View run fearless-squid-703 at: http://localhost:5001/#/experiments/937421358963430873/runs/1a646dd0df794cf18a039be14f8cd53a.\n",
      "\n",
      "2024/10/18 17:13:21 INFO mlflow.tracking._tracking_service.client: 🧪 View experiment at: http://localhost:5001/#/experiments/937421358963430873.\n",
      "\n",
      "2024/10/18 17:13:21 INFO mlflow.system_metrics.system_metrics_monitor: Stopping system metrics monitoring...\n",
      "\n",
      "2024/10/18 17:13:21 INFO mlflow.system_metrics.system_metrics_monitor: Successfully terminated system metrics monitoring!\n",
      "\n"
     ]
    },
    {
     "name": "stdout",
     "output_type": "stream",
     "text": [
      " 62%|█████████████████████████████████████████████████████████████████████▍                                         | 5/8 [00:32<00:19,  6.51s/trial, best loss: 0.7342399954795837]"
     ]
    },
    {
     "name": "stderr",
     "output_type": "stream",
     "text": [
      "2024/10/18 17:13:21 WARNING mlflow.system_metrics.system_metrics_monitor: Skip logging GPU metrics because creating `GPUMonitor` failed with error: Failed to initialize NVML, skip logging GPU metrics: NVML Shared Library Not Found.\n",
      "\n",
      "2024/10/18 17:13:21 INFO mlflow.system_metrics.system_metrics_monitor: Started monitoring system metrics.\n",
      "\n"
     ]
    },
    {
     "data": {
      "text/html": [
       "<pre style=\"white-space:pre;overflow-x:auto;line-height:normal;font-family:Menlo,'DejaVu Sans Mono',consolas,'Courier New',monospace\"></pre>\n"
      ],
      "text/plain": []
     },
     "metadata": {},
     "output_type": "display_data"
    },
    {
     "name": "stdout",
     "output_type": "stream",
     "text": [
      "Epoch 1/3                                                                                                                                                                           \n",
      "\n",
      "\u001b[1m 1/46\u001b[0m \u001b[37m━━━━━━━━━━━━━━━━━━━━\u001b[0m \u001b[1m8s\u001b[0m 186ms/step - loss: 34.5076 - root_mean_squared_error: 5.8743                                                                 \n",
      "\u001b[1m46/46\u001b[0m \u001b[32m━━━━━━━━━━━━━━━━━━━━\u001b[0m\u001b[37m\u001b[0m \u001b[1m0s\u001b[0m 2ms/step - loss: 21.8426 - root_mean_squared_error: 4.6383 - val_loss: 4.6645 - val_root_mean_squared_error: 2.1597\n",
      "\n",
      "Epoch 2/3                                                                                                                                                                           \n",
      "\n",
      "\u001b[1m 1/46\u001b[0m \u001b[37m━━━━━━━━━━━━━━━━━━━━\u001b[0m \u001b[1m0s\u001b[0m 11ms/step - loss: 4.7877 - root_mean_squared_error: 2.1881                                                                   \n",
      "\u001b[1m46/46\u001b[0m \u001b[32m━━━━━━━━━━━━━━━━━━━━\u001b[0m\u001b[37m\u001b[0m \u001b[1m0s\u001b[0m 677us/step - loss: 3.6502 - root_mean_squared_error: 1.9065 - val_loss: 2.3775 - val_root_mean_squared_error: 1.5419\n",
      "\n",
      "Epoch 3/3                                                                                                                                                                           \n",
      "\n",
      "\u001b[1m 1/46\u001b[0m \u001b[37m━━━━━━━━━━━━━━━━━━━━\u001b[0m \u001b[1m0s\u001b[0m 10ms/step - loss: 2.8946 - root_mean_squared_error: 1.7014                                                                   \n",
      "\u001b[1m46/46\u001b[0m \u001b[32m━━━━━━━━━━━━━━━━━━━━\u001b[0m\u001b[37m\u001b[0m \u001b[1m0s\u001b[0m 574us/step - loss: 2.2880 - root_mean_squared_error: 1.5109 - val_loss: 1.9495 - val_root_mean_squared_error: 1.3962\n",
      "\n",
      "\u001b[1m 1/12\u001b[0m \u001b[32m━\u001b[0m\u001b[37m━━━━━━━━━━━━━━━━━━━\u001b[0m \u001b[1m0s\u001b[0m 9ms/step - loss: 1.9452 - root_mean_squared_error: 1.3826                                                           \n",
      "\u001b[1m 2/12\u001b[0m \u001b[32m━━━\u001b[0m\u001b[37m━━━━━━━━━━━━━━━━━\u001b[0m \u001b[1m0s\u001b[0m 263us/step - loss: 1.9118 - root_mean_squared_error: 1.3826                                                         \n",
      "\u001b[1m 3/12\u001b[0m \u001b[32m━━━━━\u001b[0m\u001b[37m━━━━━━━━━━━━━━━\u001b[0m \u001b[1m0s\u001b[0m 451us/step - loss: 1.9889 - root_mean_squared_error: 1.4097                                                         \n",
      "\u001b[1m 4/12\u001b[0m \u001b[32m━━━━━━\u001b[0m\u001b[37m━━━━━━━━━━━━━━\u001b[0m \u001b[1m0s\u001b[0m 533us/step - loss: 2.0239 - root_mean_squared_error: 1.4221                                                         \n",
      "\u001b[1m 5/12\u001b[0m \u001b[32m━━━━━━━━\u001b[0m\u001b[37m━━━━━━━━━━━━\u001b[0m \u001b[1m0s\u001b[0m 669us/step - loss: 2.0277 - root_mean_squared_error: 1.4235                                                         \n",
      "\u001b[1m 6/12\u001b[0m \u001b[32m━━━━━━━━━━\u001b[0m\u001b[37m━━━━━━━━━━\u001b[0m \u001b[1m0s\u001b[0m 738us/step - loss: 2.0383 - root_mean_squared_error: 1.4273                                                         \n",
      "\u001b[1m 7/12\u001b[0m \u001b[32m━━━━━━━━━━━\u001b[0m\u001b[37m━━━━━━━━━\u001b[0m \u001b[1m0s\u001b[0m 777us/step - loss: 2.0282 - root_mean_squared_error: 1.4238                                                         \n",
      "\u001b[1m 9/12\u001b[0m \u001b[32m━━━━━━━━━━━━━━━\u001b[0m\u001b[37m━━━━━\u001b[0m \u001b[1m0s\u001b[0m 736us/step - loss: 2.0385 - root_mean_squared_error: 1.4268                                                         \n",
      "\u001b[1m 8/12\u001b[0m \u001b[32m━━━━━━━━━━━━━\u001b[0m\u001b[37m━━━━━━━\u001b[0m \u001b[1m0s\u001b[0m 794us/step - loss: 2.0360 - root_mean_squared_error: 1.4275                                                         \n",
      "\u001b[1m10/12\u001b[0m \u001b[32m━━━━━━━━━━━━━━━━\u001b[0m\u001b[37m━━━━\u001b[0m \u001b[1m0s\u001b[0m 739us/step - loss: 2.0364 - root_mean_squared_error: 1.4242                                                         \n",
      "\u001b[1m12/12\u001b[0m \u001b[32m━━━━━━━━━━━━━━━━━━━━\u001b[0m\u001b[37m\u001b[0m \u001b[1m0s\u001b[0m 1ms/step - loss: 2.0169 - root_mean_squared_error: 1.4199                                                           \n",
      "\n",
      " 62%|█████████████████████████████████████████████████████████████████████▍                                         | 5/8 [00:36<00:19,  6.51s/trial, best loss: 0.7342399954795837]"
     ]
    },
    {
     "name": "stderr",
     "output_type": "stream",
     "text": [
      "2024/10/18 17:13:28 INFO mlflow.tracking._tracking_service.client: 🏃 View run secretive-skink-221 at: http://localhost:5001/#/experiments/937421358963430873/runs/4cacd643c00e4171939246e00708aad4.\n",
      "\n",
      "2024/10/18 17:13:28 INFO mlflow.tracking._tracking_service.client: 🧪 View experiment at: http://localhost:5001/#/experiments/937421358963430873.\n",
      "\n",
      "2024/10/18 17:13:28 INFO mlflow.system_metrics.system_metrics_monitor: Stopping system metrics monitoring...\n",
      "\n",
      "2024/10/18 17:13:28 INFO mlflow.system_metrics.system_metrics_monitor: Successfully terminated system metrics monitoring!\n",
      "\n"
     ]
    },
    {
     "name": "stdout",
     "output_type": "stream",
     "text": [
      " 75%|███████████████████████████████████████████████████████████████████████████████████▎                           | 6/8 [00:39<00:13,  6.51s/trial, best loss: 0.7342399954795837]"
     ]
    },
    {
     "name": "stderr",
     "output_type": "stream",
     "text": [
      "2024/10/18 17:13:28 WARNING mlflow.system_metrics.system_metrics_monitor: Skip logging GPU metrics because creating `GPUMonitor` failed with error: Failed to initialize NVML, skip logging GPU metrics: NVML Shared Library Not Found.\n",
      "\n",
      "2024/10/18 17:13:28 INFO mlflow.system_metrics.system_metrics_monitor: Started monitoring system metrics.\n",
      "\n"
     ]
    },
    {
     "data": {
      "text/html": [
       "<pre style=\"white-space:pre;overflow-x:auto;line-height:normal;font-family:Menlo,'DejaVu Sans Mono',consolas,'Courier New',monospace\"></pre>\n"
      ],
      "text/plain": []
     },
     "metadata": {},
     "output_type": "display_data"
    },
    {
     "name": "stdout",
     "output_type": "stream",
     "text": [
      "Epoch 1/3                                                                                                                                                                           \n",
      "\n",
      "\u001b[1m 1/46\u001b[0m \u001b[37m━━━━━━━━━━━━━━━━━━━━\u001b[0m \u001b[1m7s\u001b[0m 173ms/step - loss: 42.1850 - root_mean_squared_error: 6.4950                                                                 \n",
      "\u001b[1m46/46\u001b[0m \u001b[32m━━━━━━━━━━━━━━━━━━━━\u001b[0m\u001b[37m\u001b[0m \u001b[1m0s\u001b[0m 2ms/step - loss: 35.5243 - root_mean_squared_error: 5.9561 - val_loss: 24.4307 - val_root_mean_squared_error: 4.9427\n",
      "\n",
      "Epoch 2/3                                                                                                                                                                           \n",
      "\n",
      "\u001b[1m 1/46\u001b[0m \u001b[37m━━━━━━━━━━━━━━━━━━━━\u001b[0m \u001b[1m0s\u001b[0m 10ms/step - loss: 23.7704 - root_mean_squared_error: 4.8755                                                                  \n",
      "\u001b[1m46/46\u001b[0m \u001b[32m━━━━━━━━━━━━━━━━━━━━\u001b[0m\u001b[37m\u001b[0m \u001b[1m0s\u001b[0m 632us/step - loss: 21.6968 - root_mean_squared_error: 4.6550 - val_loss: 14.8081 - val_root_mean_squared_error: 3.8481\n",
      "\n",
      "Epoch 3/3                                                                                                                                                                           \n",
      "\n",
      "\u001b[1m 1/46\u001b[0m \u001b[37m━━━━━━━━━━━━━━━━━━━━\u001b[0m \u001b[1m0s\u001b[0m 10ms/step - loss: 15.4920 - root_mean_squared_error: 3.9360                                                                  \n",
      "\u001b[1m46/46\u001b[0m \u001b[32m━━━━━━━━━━━━━━━━━━━━\u001b[0m\u001b[37m\u001b[0m \u001b[1m0s\u001b[0m 624us/step - loss: 13.0864 - root_mean_squared_error: 3.6150 - val_loss: 8.8925 - val_root_mean_squared_error: 2.9820\n",
      "\n",
      "\u001b[1m 1/12\u001b[0m \u001b[32m━\u001b[0m\u001b[37m━━━━━━━━━━━━━━━━━━━\u001b[0m \u001b[1m0s\u001b[0m 8ms/step - loss: 8.9306 - root_mean_squared_error: 2.9884                                                           \n",
      "\u001b[1m 2/12\u001b[0m \u001b[32m━━━\u001b[0m\u001b[37m━━━━━━━━━━━━━━━━━\u001b[0m \u001b[1m0s\u001b[0m 753us/step - loss: 8.9381 - root_mean_squared_error: 2.9846                                                         \n",
      "\u001b[1m 4/12\u001b[0m \u001b[32m━━━━━━\u001b[0m\u001b[37m━━━━━━━━━━━━━━\u001b[0m \u001b[1m0s\u001b[0m 771us/step - loss: 8.9041 - root_mean_squared_error: 2.9840                                                         \n",
      "\u001b[1m 3/12\u001b[0m \u001b[32m━━━━━\u001b[0m\u001b[37m━━━━━━━━━━━━━━━\u001b[0m \u001b[1m0s\u001b[0m 832us/step - loss: 8.9081 - root_mean_squared_error: 2.9840                                                         \n",
      "\u001b[1m 5/12\u001b[0m \u001b[32m━━━━━━━━\u001b[0m\u001b[37m━━━━━━━━━━━━\u001b[0m \u001b[1m0s\u001b[0m 773us/step - loss: 8.8672 - root_mean_squared_error: 2.9778                                                         \n",
      "\u001b[1m 6/12\u001b[0m \u001b[32m━━━━━━━━━━\u001b[0m\u001b[37m━━━━━━━━━━\u001b[0m \u001b[1m0s\u001b[0m 786us/step - loss: 8.8242 - root_mean_squared_error: 2.9705                                                         \n",
      "\u001b[1m 7/12\u001b[0m \u001b[32m━━━━━━━━━━━\u001b[0m\u001b[37m━━━━━━━━━\u001b[0m \u001b[1m0s\u001b[0m 772us/step - loss: 8.7806 - root_mean_squared_error: 2.9631                                                         \n",
      "\u001b[1m 8/12\u001b[0m \u001b[32m━━━━━━━━━━━━━\u001b[0m\u001b[37m━━━━━━━\u001b[0m \u001b[1m0s\u001b[0m 755us/step - loss: 8.7557 - root_mean_squared_error: 2.9555                                                         \n",
      "\u001b[1m10/12\u001b[0m \u001b[32m━━━━━━━━━━━━━━━━\u001b[0m\u001b[37m━━━━\u001b[0m \u001b[1m0s\u001b[0m 735us/step - loss: 8.7354 - root_mean_squared_error: 2.9564                                                         \n",
      "\u001b[1m11/12\u001b[0m \u001b[32m━━━━━━━━━━━━━━━━━━\u001b[0m\u001b[37m━━\u001b[0m \u001b[1m0s\u001b[0m 735us/step - loss: 8.7411 - root_mean_squared_error: 2.9564                                                         \n",
      "\u001b[1m 9/12\u001b[0m \u001b[32m━━━━━━━━━━━━━━━\u001b[0m\u001b[37m━━━━━\u001b[0m \u001b[1m0s\u001b[0m 733us/step - loss: 8.7370 - root_mean_squared_error: 2.9557                                                         \n",
      "\u001b[1m12/12\u001b[0m \u001b[32m━━━━━━━━━━━━━━━━━━━━\u001b[0m\u001b[37m\u001b[0m \u001b[1m0s\u001b[0m 756us/step - loss: 8.7538 - root_mean_squared_error: 2.9586                                                         \n",
      "\u001b[1m12/12\u001b[0m \u001b[32m━━━━━━━━━━━━━━━━━━━━\u001b[0m\u001b[37m\u001b[0m \u001b[1m0s\u001b[0m 2ms/step - loss: 8.7644 - root_mean_squared_error: 2.9604                                                           \n",
      "\n",
      " 75%|███████████████████████████████████████████████████████████████████████████████████▎                           | 6/8 [00:42<00:13,  6.51s/trial, best loss: 0.7342399954795837]"
     ]
    },
    {
     "name": "stderr",
     "output_type": "stream",
     "text": [
      "2024/10/18 17:13:34 INFO mlflow.tracking._tracking_service.client: 🏃 View run classy-worm-987 at: http://localhost:5001/#/experiments/937421358963430873/runs/e93edae477e144449a2556023808a283.\n",
      "\n",
      "2024/10/18 17:13:34 INFO mlflow.tracking._tracking_service.client: 🧪 View experiment at: http://localhost:5001/#/experiments/937421358963430873.\n",
      "\n",
      "2024/10/18 17:13:34 INFO mlflow.system_metrics.system_metrics_monitor: Stopping system metrics monitoring...\n",
      "\n",
      "2024/10/18 17:13:34 INFO mlflow.system_metrics.system_metrics_monitor: Successfully terminated system metrics monitoring!\n",
      "\n"
     ]
    },
    {
     "name": "stdout",
     "output_type": "stream",
     "text": [
      " 88%|█████████████████████████████████████████████████████████████████████████████████████████████████▏             | 7/8 [00:45<00:06,  6.50s/trial, best loss: 0.7342399954795837]"
     ]
    },
    {
     "name": "stderr",
     "output_type": "stream",
     "text": [
      "2024/10/18 17:13:34 WARNING mlflow.system_metrics.system_metrics_monitor: Skip logging GPU metrics because creating `GPUMonitor` failed with error: Failed to initialize NVML, skip logging GPU metrics: NVML Shared Library Not Found.\n",
      "\n",
      "2024/10/18 17:13:34 INFO mlflow.system_metrics.system_metrics_monitor: Started monitoring system metrics.\n",
      "\n"
     ]
    },
    {
     "data": {
      "text/html": [
       "<pre style=\"white-space:pre;overflow-x:auto;line-height:normal;font-family:Menlo,'DejaVu Sans Mono',consolas,'Courier New',monospace\"></pre>\n"
      ],
      "text/plain": []
     },
     "metadata": {},
     "output_type": "display_data"
    },
    {
     "name": "stdout",
     "output_type": "stream",
     "text": [
      "Epoch 1/3                                                                                                                                                                           \n",
      "\n",
      "\u001b[1m 1/46\u001b[0m \u001b[37m━━━━━━━━━━━━━━━━━━━━\u001b[0m \u001b[1m8s\u001b[0m 182ms/step - loss: 32.0271 - root_mean_squared_error: 5.6593                                                                 \n",
      "\u001b[1m46/46\u001b[0m \u001b[32m━━━━━━━━━━━━━━━━━━━━\u001b[0m\u001b[37m\u001b[0m \u001b[1m0s\u001b[0m 2ms/step - loss: 28.7957 - root_mean_squared_error: 5.3647 - val_loss: 23.3741 - val_root_mean_squared_error: 4.8347\n",
      "\n",
      "Epoch 2/3                                                                                                                                                                           \n",
      "\n",
      "\u001b[1m 1/46\u001b[0m \u001b[37m━━━━━━━━━━━━━━━━━━━━\u001b[0m \u001b[1m0s\u001b[0m 10ms/step - loss: 23.1192 - root_mean_squared_error: 4.8082                                                                  \n",
      "\u001b[1m46/46\u001b[0m \u001b[32m━━━━━━━━━━━━━━━━━━━━\u001b[0m\u001b[37m\u001b[0m \u001b[1m0s\u001b[0m 664us/step - loss: 21.6813 - root_mean_squared_error: 4.6550 - val_loss: 17.4359 - val_root_mean_squared_error: 4.1756\n",
      "\n",
      "Epoch 3/3                                                                                                                                                                           \n",
      "\n",
      "\u001b[1m 1/46\u001b[0m \u001b[37m━━━━━━━━━━━━━━━━━━━━\u001b[0m \u001b[1m0s\u001b[0m 10ms/step - loss: 16.6721 - root_mean_squared_error: 4.0831                                                                  \n",
      "\u001b[1m46/46\u001b[0m \u001b[32m━━━━━━━━━━━━━━━━━━━━\u001b[0m\u001b[37m\u001b[0m \u001b[1m0s\u001b[0m 574us/step - loss: 15.9546 - root_mean_squared_error: 3.9934 - val_loss: 12.9196 - val_root_mean_squared_error: 3.5944\n",
      "\n",
      "\u001b[1m 1/12\u001b[0m \u001b[32m━\u001b[0m\u001b[37m━━━━━━━━━━━━━━━━━━━\u001b[0m \u001b[1m0s\u001b[0m 9ms/step - loss: 13.2640 - root_mean_squared_error: 3.6420                                                          \n",
      "\u001b[1m 2/12\u001b[0m \u001b[32m━━━\u001b[0m\u001b[37m━━━━━━━━━━━━━━━━━\u001b[0m \u001b[1m0s\u001b[0m 598us/step - loss: 13.1285 - root_mean_squared_error: 3.6233                                                        \n",
      "\u001b[1m 5/12\u001b[0m \u001b[32m━━━━━━━━\u001b[0m\u001b[37m━━━━━━━━━━━━\u001b[0m \u001b[1m0s\u001b[0m 736us/step - loss: 12.9418 - root_mean_squared_error: 3.5974                                                        \n",
      "\u001b[1m 3/12\u001b[0m \u001b[32m━━━━━\u001b[0m\u001b[37m━━━━━━━━━━━━━━━\u001b[0m \u001b[1m0s\u001b[0m 775us/step - loss: 13.0087 - root_mean_squared_error: 3.5974                                                        \n",
      "\u001b[1m 6/12\u001b[0m \u001b[32m━━━━━━━━━━\u001b[0m\u001b[37m━━━━━━━━━━\u001b[0m \u001b[1m0s\u001b[0m 745us/step - loss: 12.8885 - root_mean_squared_error: 3.5899                                                        \n",
      "\u001b[1m 4/12\u001b[0m \u001b[32m━━━━━━\u001b[0m\u001b[37m━━━━━━━━━━━━━━\u001b[0m \u001b[1m0s\u001b[0m 807us/step - loss: 12.9994 - root_mean_squared_error: 3.5899                                                        \n",
      "\u001b[1m 7/12\u001b[0m \u001b[32m━━━━━━━━━━━\u001b[0m\u001b[37m━━━━━━━━━\u001b[0m \u001b[1m0s\u001b[0m 775us/step - loss: 12.8364 - root_mean_squared_error: 3.5826                                                        \n",
      "\u001b[1m 9/12\u001b[0m \u001b[32m━━━━━━━━━━━━━━━\u001b[0m\u001b[37m━━━━━\u001b[0m \u001b[1m0s\u001b[0m 776us/step - loss: 12.7862 - root_mean_squared_error: 3.5756                                                        \n",
      "\u001b[1m 8/12\u001b[0m \u001b[32m━━━━━━━━━━━━━\u001b[0m\u001b[37m━━━━━━━\u001b[0m \u001b[1m0s\u001b[0m 809us/step - loss: 12.8079 - root_mean_squared_error: 3.5756                                                        \n",
      "\u001b[1m10/12\u001b[0m \u001b[32m━━━━━━━━━━━━━━━━\u001b[0m\u001b[37m━━━━\u001b[0m \u001b[1m0s\u001b[0m 794us/step - loss: 12.7812 - root_mean_squared_error: 3.5750                                                        \n",
      "\u001b[1m12/12\u001b[0m \u001b[32m━━━━━━━━━━━━━━━━━━━━\u001b[0m\u001b[37m\u001b[0m \u001b[1m0s\u001b[0m 2ms/step - loss: 12.8017 - root_mean_squared_error: 3.5778                                                         \n",
      "\n",
      " 88%|█████████████████████████████████████████████████████████████████████████████████████████████████▏             | 7/8 [00:48<00:06,  6.50s/trial, best loss: 0.7342399954795837]"
     ]
    },
    {
     "name": "stderr",
     "output_type": "stream",
     "text": [
      "2024/10/18 17:13:41 INFO mlflow.tracking._tracking_service.client: 🏃 View run rare-cub-950 at: http://localhost:5001/#/experiments/937421358963430873/runs/635ee47eb42b43f4a8977058819a1f65.\n",
      "\n",
      "2024/10/18 17:13:41 INFO mlflow.tracking._tracking_service.client: 🧪 View experiment at: http://localhost:5001/#/experiments/937421358963430873.\n",
      "\n",
      "2024/10/18 17:13:41 INFO mlflow.system_metrics.system_metrics_monitor: Stopping system metrics monitoring...\n",
      "\n",
      "2024/10/18 17:13:41 INFO mlflow.system_metrics.system_metrics_monitor: Successfully terminated system metrics monitoring!\n",
      "\n"
     ]
    },
    {
     "name": "stdout",
     "output_type": "stream",
     "text": [
      "100%|███████████████████████████████████████████████████████████████████████████████████████████████████████████████| 8/8 [00:52<00:00,  6.51s/trial, best loss: 0.7342399954795837]\n"
     ]
    },
    {
     "name": "stderr",
     "output_type": "stream",
     "text": [
      "2024/10/18 17:13:43 INFO mlflow.tracking._tracking_service.client: 🏃 View run ambitious-rook-238 at: http://localhost:5001/#/experiments/937421358963430873/runs/09614d4736b14cffbd1933807e621deb.\n",
      "2024/10/18 17:13:43 INFO mlflow.tracking._tracking_service.client: 🧪 View experiment at: http://localhost:5001/#/experiments/937421358963430873.\n",
      "2024/10/18 17:13:43 INFO mlflow.system_metrics.system_metrics_monitor: Stopping system metrics monitoring...\n",
      "2024/10/18 17:13:44 INFO mlflow.system_metrics.system_metrics_monitor: Successfully terminated system metrics monitoring!\n"
     ]
    },
    {
     "name": "stdout",
     "output_type": "stream",
     "text": [
      "Best parameters: {'lr': 0.04617237922487885, 'momentum': 0.2370473230583292}\n",
      "Best eval rmse: 0.7342399954795837\n"
     ]
    }
   ],
   "source": [
    "mlflow.set_experiment(\"/wine-quality\")\n",
    "with mlflow.start_run():\n",
    "    # Conduct the hyperparameter search using Hyperopt\n",
    "    trials = Trials()\n",
    "    best = fmin(\n",
    "        fn=objective,\n",
    "        space=space,\n",
    "        algo=tpe.suggest,\n",
    "        max_evals=8,\n",
    "        trials=trials,\n",
    "    )\n",
    "\n",
    "    # Fetch the details of the best run\n",
    "    best_run = sorted(trials.results, key=lambda x: x[\"loss\"])[0]\n",
    "\n",
    "    # Log the best parameters, loss, and model\n",
    "    mlflow.log_params(best)\n",
    "    mlflow.log_metric(\"eval_rmse\", best_run[\"loss\"])\n",
    "    mlflow.tensorflow.log_model(best_run[\"model\"], \"model\", signature=signature)\n",
    "\n",
    "    # Print out the best parameters and corresponding loss\n",
    "    print(f\"Best parameters: {best}\")\n",
    "    print(f\"Best eval rmse: {best_run['loss']}\")\n"
   ]
  },
  {
   "cell_type": "markdown",
   "metadata": {},
   "source": [
    "# Deployment and Serving the model\n",
    "\n",
    "- https://mlflow.org/docs/latest/getting-started/quickstart-2/index.html#serve-the-model-locally\n",
    "- https://mlflow.org/docs/latest/deployment/index.html\n",
    "- https://mlflow.org/docs/latest/deployment/deploy-model-to-kubernetes/index.html \n",
    "\n",
    "Deployment options (prod)\n",
    "- Flask\n",
    "- MLServer - scalability and reliability of Kubernetes to serve your model at scale\n",
    "\n",
    "Deployment plugins https://mlflow.org/docs/latest/plugins.html#deployment-plugins \n",
    "- mlflow-torchserve\n",
    "- mlflow-algorithmia"
   ]
  },
  {
   "cell_type": "code",
   "execution_count": 69,
   "metadata": {
    "execution": {
     "iopub.execute_input": "2024-10-22T07:21:39.368836Z",
     "iopub.status.busy": "2024-10-22T07:21:39.368457Z",
     "iopub.status.idle": "2024-10-22T07:21:39.430739Z",
     "shell.execute_reply": "2024-10-22T07:21:39.430275Z",
     "shell.execute_reply.started": "2024-10-22T07:21:39.368809Z"
    },
    "scrolled": true
   },
   "outputs": [],
   "source": [
    "# mlflow models serve -m \"models:/wine-quality/1\" --port 5002"
   ]
  },
  {
   "cell_type": "code",
   "execution_count": 1,
   "metadata": {
    "execution": {
     "iopub.execute_input": "2024-10-24T14:23:54.722302Z",
     "iopub.status.busy": "2024-10-24T14:23:54.721774Z",
     "iopub.status.idle": "2024-10-24T14:23:54.900412Z",
     "shell.execute_reply": "2024-10-24T14:23:54.899892Z",
     "shell.execute_reply.started": "2024-10-24T14:23:54.722269Z"
    },
    "scrolled": true
   },
   "outputs": [
    {
     "name": "stderr",
     "output_type": "stream",
     "text": [
      "  % Total    % Received % Xferd  Average Speed   Time    Time     Time  Current\n",
      "                                 Dload  Upload   Total   Spent    Left  Speed\n",
      "  0     0    0     0    0     0      0      0 --:--:-- --:--:-- --:--:--     0\n",
      "curl: (7) Failed to connect to localhost port 5002 after 0 ms: Couldn't connect to server\n"
     ]
    },
    {
     "ename": "CalledProcessError",
     "evalue": "Command 'b'\\ncurl -d \\'{\"dataframe_split\": {\\n\"columns\": [\"fixed acidity\",\"volatile acidity\",\"citric acid\",\"residual sugar\",\"chlorides\",\"free sulfur dioxide\",\"total sulfur dioxide\",\"density\",\"pH\",\"sulphates\",\"alcohol\"],\\n\"data\": [[7,0.27,0.36,20.7,0.045,45,170,1.001,3,0.45,8.8]]}}\\' \\\\\\n-H \\'Content-Type: application/json\\' -X POST localhost:5002/invocations\\n'' returned non-zero exit status 7.",
     "output_type": "error",
     "traceback": [
      "\u001b[0;31m---------------------------------------------------------------------------\u001b[0m",
      "\u001b[0;31mCalledProcessError\u001b[0m                        Traceback (most recent call last)",
      "Cell \u001b[0;32mIn[1], line 1\u001b[0m\n\u001b[0;32m----> 1\u001b[0m \u001b[43mget_ipython\u001b[49m\u001b[43m(\u001b[49m\u001b[43m)\u001b[49m\u001b[38;5;241;43m.\u001b[39;49m\u001b[43mrun_cell_magic\u001b[49m\u001b[43m(\u001b[49m\u001b[38;5;124;43m'\u001b[39;49m\u001b[38;5;124;43mbash\u001b[39;49m\u001b[38;5;124;43m'\u001b[39;49m\u001b[43m,\u001b[49m\u001b[43m \u001b[49m\u001b[38;5;124;43m'\u001b[39;49m\u001b[38;5;124;43m'\u001b[39;49m\u001b[43m,\u001b[49m\u001b[43m \u001b[49m\u001b[38;5;124;43m'\u001b[39;49m\u001b[38;5;130;43;01m\\n\u001b[39;49;00m\u001b[38;5;124;43mcurl -d \u001b[39;49m\u001b[38;5;130;43;01m\\'\u001b[39;49;00m\u001b[38;5;124;43m{\u001b[39;49m\u001b[38;5;124;43m\"\u001b[39;49m\u001b[38;5;124;43mdataframe_split\u001b[39;49m\u001b[38;5;124;43m\"\u001b[39;49m\u001b[38;5;124;43m: \u001b[39;49m\u001b[38;5;124;43m{\u001b[39;49m\u001b[38;5;130;43;01m\\n\u001b[39;49;00m\u001b[38;5;124;43m\"\u001b[39;49m\u001b[38;5;124;43mcolumns\u001b[39;49m\u001b[38;5;124;43m\"\u001b[39;49m\u001b[38;5;124;43m: [\u001b[39;49m\u001b[38;5;124;43m\"\u001b[39;49m\u001b[38;5;124;43mfixed acidity\u001b[39;49m\u001b[38;5;124;43m\"\u001b[39;49m\u001b[38;5;124;43m,\u001b[39;49m\u001b[38;5;124;43m\"\u001b[39;49m\u001b[38;5;124;43mvolatile acidity\u001b[39;49m\u001b[38;5;124;43m\"\u001b[39;49m\u001b[38;5;124;43m,\u001b[39;49m\u001b[38;5;124;43m\"\u001b[39;49m\u001b[38;5;124;43mcitric acid\u001b[39;49m\u001b[38;5;124;43m\"\u001b[39;49m\u001b[38;5;124;43m,\u001b[39;49m\u001b[38;5;124;43m\"\u001b[39;49m\u001b[38;5;124;43mresidual sugar\u001b[39;49m\u001b[38;5;124;43m\"\u001b[39;49m\u001b[38;5;124;43m,\u001b[39;49m\u001b[38;5;124;43m\"\u001b[39;49m\u001b[38;5;124;43mchlorides\u001b[39;49m\u001b[38;5;124;43m\"\u001b[39;49m\u001b[38;5;124;43m,\u001b[39;49m\u001b[38;5;124;43m\"\u001b[39;49m\u001b[38;5;124;43mfree sulfur dioxide\u001b[39;49m\u001b[38;5;124;43m\"\u001b[39;49m\u001b[38;5;124;43m,\u001b[39;49m\u001b[38;5;124;43m\"\u001b[39;49m\u001b[38;5;124;43mtotal sulfur dioxide\u001b[39;49m\u001b[38;5;124;43m\"\u001b[39;49m\u001b[38;5;124;43m,\u001b[39;49m\u001b[38;5;124;43m\"\u001b[39;49m\u001b[38;5;124;43mdensity\u001b[39;49m\u001b[38;5;124;43m\"\u001b[39;49m\u001b[38;5;124;43m,\u001b[39;49m\u001b[38;5;124;43m\"\u001b[39;49m\u001b[38;5;124;43mpH\u001b[39;49m\u001b[38;5;124;43m\"\u001b[39;49m\u001b[38;5;124;43m,\u001b[39;49m\u001b[38;5;124;43m\"\u001b[39;49m\u001b[38;5;124;43msulphates\u001b[39;49m\u001b[38;5;124;43m\"\u001b[39;49m\u001b[38;5;124;43m,\u001b[39;49m\u001b[38;5;124;43m\"\u001b[39;49m\u001b[38;5;124;43malcohol\u001b[39;49m\u001b[38;5;124;43m\"\u001b[39;49m\u001b[38;5;124;43m],\u001b[39;49m\u001b[38;5;130;43;01m\\n\u001b[39;49;00m\u001b[38;5;124;43m\"\u001b[39;49m\u001b[38;5;124;43mdata\u001b[39;49m\u001b[38;5;124;43m\"\u001b[39;49m\u001b[38;5;124;43m: [[7,0.27,0.36,20.7,0.045,45,170,1.001,3,0.45,8.8]]}}\u001b[39;49m\u001b[38;5;130;43;01m\\'\u001b[39;49;00m\u001b[38;5;124;43m \u001b[39;49m\u001b[38;5;130;43;01m\\\\\u001b[39;49;00m\u001b[38;5;130;43;01m\\n\u001b[39;49;00m\u001b[38;5;124;43m-H \u001b[39;49m\u001b[38;5;130;43;01m\\'\u001b[39;49;00m\u001b[38;5;124;43mContent-Type: application/json\u001b[39;49m\u001b[38;5;130;43;01m\\'\u001b[39;49;00m\u001b[38;5;124;43m -X POST localhost:5002/invocations\u001b[39;49m\u001b[38;5;130;43;01m\\n\u001b[39;49;00m\u001b[38;5;124;43m'\u001b[39;49m\u001b[43m)\u001b[49m\n",
      "File \u001b[0;32m~/.pyenv/versions/3.11.6/lib/python3.11/site-packages/IPython/core/interactiveshell.py:2517\u001b[0m, in \u001b[0;36mInteractiveShell.run_cell_magic\u001b[0;34m(self, magic_name, line, cell)\u001b[0m\n\u001b[1;32m   2515\u001b[0m \u001b[38;5;28;01mwith\u001b[39;00m \u001b[38;5;28mself\u001b[39m\u001b[38;5;241m.\u001b[39mbuiltin_trap:\n\u001b[1;32m   2516\u001b[0m     args \u001b[38;5;241m=\u001b[39m (magic_arg_s, cell)\n\u001b[0;32m-> 2517\u001b[0m     result \u001b[38;5;241m=\u001b[39m \u001b[43mfn\u001b[49m\u001b[43m(\u001b[49m\u001b[38;5;241;43m*\u001b[39;49m\u001b[43margs\u001b[49m\u001b[43m,\u001b[49m\u001b[43m \u001b[49m\u001b[38;5;241;43m*\u001b[39;49m\u001b[38;5;241;43m*\u001b[39;49m\u001b[43mkwargs\u001b[49m\u001b[43m)\u001b[49m\n\u001b[1;32m   2519\u001b[0m \u001b[38;5;66;03m# The code below prevents the output from being displayed\u001b[39;00m\n\u001b[1;32m   2520\u001b[0m \u001b[38;5;66;03m# when using magics with decorator @output_can_be_silenced\u001b[39;00m\n\u001b[1;32m   2521\u001b[0m \u001b[38;5;66;03m# when the last Python token in the expression is a ';'.\u001b[39;00m\n\u001b[1;32m   2522\u001b[0m \u001b[38;5;28;01mif\u001b[39;00m \u001b[38;5;28mgetattr\u001b[39m(fn, magic\u001b[38;5;241m.\u001b[39mMAGIC_OUTPUT_CAN_BE_SILENCED, \u001b[38;5;28;01mFalse\u001b[39;00m):\n",
      "File \u001b[0;32m~/.pyenv/versions/3.11.6/lib/python3.11/site-packages/IPython/core/magics/script.py:154\u001b[0m, in \u001b[0;36mScriptMagics._make_script_magic.<locals>.named_script_magic\u001b[0;34m(line, cell)\u001b[0m\n\u001b[1;32m    152\u001b[0m \u001b[38;5;28;01melse\u001b[39;00m:\n\u001b[1;32m    153\u001b[0m     line \u001b[38;5;241m=\u001b[39m script\n\u001b[0;32m--> 154\u001b[0m \u001b[38;5;28;01mreturn\u001b[39;00m \u001b[38;5;28;43mself\u001b[39;49m\u001b[38;5;241;43m.\u001b[39;49m\u001b[43mshebang\u001b[49m\u001b[43m(\u001b[49m\u001b[43mline\u001b[49m\u001b[43m,\u001b[49m\u001b[43m \u001b[49m\u001b[43mcell\u001b[49m\u001b[43m)\u001b[49m\n",
      "File \u001b[0;32m~/.pyenv/versions/3.11.6/lib/python3.11/site-packages/IPython/core/magics/script.py:314\u001b[0m, in \u001b[0;36mScriptMagics.shebang\u001b[0;34m(self, line, cell)\u001b[0m\n\u001b[1;32m    309\u001b[0m \u001b[38;5;28;01mif\u001b[39;00m args\u001b[38;5;241m.\u001b[39mraise_error \u001b[38;5;129;01mand\u001b[39;00m p\u001b[38;5;241m.\u001b[39mreturncode \u001b[38;5;241m!=\u001b[39m \u001b[38;5;241m0\u001b[39m:\n\u001b[1;32m    310\u001b[0m     \u001b[38;5;66;03m# If we get here and p.returncode is still None, we must have\u001b[39;00m\n\u001b[1;32m    311\u001b[0m     \u001b[38;5;66;03m# killed it but not yet seen its return code. We don't wait for it,\u001b[39;00m\n\u001b[1;32m    312\u001b[0m     \u001b[38;5;66;03m# in case it's stuck in uninterruptible sleep. -9 = SIGKILL\u001b[39;00m\n\u001b[1;32m    313\u001b[0m     rc \u001b[38;5;241m=\u001b[39m p\u001b[38;5;241m.\u001b[39mreturncode \u001b[38;5;129;01mor\u001b[39;00m \u001b[38;5;241m-\u001b[39m\u001b[38;5;241m9\u001b[39m\n\u001b[0;32m--> 314\u001b[0m     \u001b[38;5;28;01mraise\u001b[39;00m CalledProcessError(rc, cell)\n",
      "\u001b[0;31mCalledProcessError\u001b[0m: Command 'b'\\ncurl -d \\'{\"dataframe_split\": {\\n\"columns\": [\"fixed acidity\",\"volatile acidity\",\"citric acid\",\"residual sugar\",\"chlorides\",\"free sulfur dioxide\",\"total sulfur dioxide\",\"density\",\"pH\",\"sulphates\",\"alcohol\"],\\n\"data\": [[7,0.27,0.36,20.7,0.045,45,170,1.001,3,0.45,8.8]]}}\\' \\\\\\n-H \\'Content-Type: application/json\\' -X POST localhost:5002/invocations\\n'' returned non-zero exit status 7."
     ]
    }
   ],
   "source": [
    "%%bash \n",
    "\n",
    "curl -d '{\"dataframe_split\": {\n",
    "\"columns\": [\"fixed acidity\",\"volatile acidity\",\"citric acid\",\"residual sugar\",\"chlorides\",\"free sulfur dioxide\",\"total sulfur dioxide\",\"density\",\"pH\",\"sulphates\",\"alcohol\"],\n",
    "\"data\": [[7,0.27,0.36,20.7,0.045,45,170,1.001,3,0.45,8.8]]}}' \\\n",
    "-H 'Content-Type: application/json' -X POST localhost:5002/invocations\n"
   ]
  },
  {
   "cell_type": "code",
   "execution_count": 3,
   "metadata": {
    "execution": {
     "iopub.execute_input": "2024-10-24T14:27:52.183096Z",
     "iopub.status.busy": "2024-10-24T14:27:52.182475Z",
     "iopub.status.idle": "2024-10-24T14:28:06.792969Z",
     "shell.execute_reply": "2024-10-24T14:28:06.792389Z",
     "shell.execute_reply.started": "2024-10-24T14:27:52.183056Z"
    },
    "scrolled": true
   },
   "outputs": [
    {
     "data": {
      "text/plain": [
       "{'id': 'chatcmpl-ALt6WHiak4YAqYcJp55p0TvWscgNN',\n",
       " 'object': 'text_completion',\n",
       " 'created': 1729780072,\n",
       " 'model': 'gpt-4o-mini-2024-07-18',\n",
       " 'choices': [{'index': 0,\n",
       "   'text': '```rst\\nAsteroid Impact Scenario: Basketball-Sized Asteroid at 0.5c\\n==========================================================\\n\\nOverview\\n--------\\nThis document outlines the hypothetical scenario of a basketball-sized asteroid (approximately 24 cm in diameter) traveling at 0.5 times the speed of light (0.5c) encountering Earth. \\n\\nKey Variables\\n-------------\\n- **Asteroid Size**: Diameter of approximately 24 cm\\n- **Speed**: 0.5c (approximately 149,896,229 m/s)\\n- **Mass**: The mass of the asteroid can be estimated based on its volume and density. Assuming an average density similar to that of rock (around 2,500 kg/m³), the mass would be approximately:\\n  \\n  .. math::\\n     \\\\text{Volume} = \\\\frac{4}{3} \\\\pi r^3 \\\\\\\\\\n     r = \\\\frac{24 \\\\text{ cm}}{2} = 12 \\\\text{ cm} = 0.12 \\\\text{ m} \\\\\\\\\\n     \\\\text{Volume} = \\\\frac{4}{3} \\\\pi (0.12)^3 \\\\approx 0.00576 \\\\text{ m}^3 \\\\\\\\\\n     \\\\text{Mass} = 0.00576 \\\\text{ m}^3 \\\\times 2500 \\\\text{ kg/m}^3 \\\\approx 14.4 \\\\text{ kg}\\n\\nImpact Energy Calculation\\n-------------------------\\nThe kinetic energy (KE) of the asteroid can be calculated using the relativistic kinetic energy formula:\\n\\n.. math::\\n   KE = (\\\\gamma - 1) mc^2\\n\\nWhere:\\n- :math:`\\\\gamma` is the Lorentz factor, given by :math:`\\\\gamma = \\\\frac{1}{\\\\sqrt{1 - (v/c)^2}}`\\n- :math:`m` is the mass of the asteroid\\n- :math:`c` is the speed of light (approximately \\\\(3.00 \\\\times 10^8\\\\) m/s)\\n\\nCalculating :math:`\\\\gamma` at v = 0.5c:\\n\\n.. math::\\n   \\\\gamma = \\\\frac{1}{\\\\sqrt{1 - (0.5)^2}} = \\\\frac{1}{\\\\sqrt{1 - 0.25}} = \\\\frac{1}{\\\\sqrt{0.75}} \\\\approx 1.1547\\n\\nCalculating Kinetic Energy:\\n\\n.. math::\\n   KE = (1.1547 - 1) \\\\times (14.4 \\\\text{ kg}) \\\\times (3.00 \\\\times 10^8 m/s)^2\\n   KE = 0.1547 \\\\times 14.4 kg \\\\times 9.00 \\\\times 10^{16} m^2/s^2\\n   KE ≈ 2.0006 × 10^{17} joules\\n\\nComparison with Conventional Explosives\\n---------------------------------------\\nTo provide context, the energy released by a typical nuclear bomb is on the order of megatons of TNT.\\n\\n- **1 Megaton of TNT**: Approximately \\\\(4.184 × 10^{15}\\\\) joules\\n\\nThus, the impact energy of this asteroid would be equivalent to:\\n\\n.. math::\\n   KE ≈ \\\\frac{2.0006 × 10^{17} joules}{4.184 × 10^{15} joules/megaton} ≈ 47.8 megatons of TNT\\n\\nConsequences of Impact\\n-----------------------\\nGiven the enormous kinetic energy involved, the consequences of such an impact would be catastrophic:\\n\\n1. **Immediate Destruction**: The impact would create a massive crater, likely hundreds of meters in diameter.\\n2. **Shockwave**: A powerful shockwave would radiate outward, causing widespread destruction over a large area.\\n3. **Thermal Radiation**: Intense heat would ignite fires and cause thermal injuries to living organisms within proximity.\\n4. **Atmospheric Effects**: Dust and debris thrown into the atmosphere could lead to significant climate effects, blocking sunlight and disrupting weather patterns.\\n5. **Global Impact**: Depending on the location of impact, it could have global repercussions affecting ecosystems and human civilization.\\n\\nConclusion\\n----------\\nThe collision of a basketball-sized asteroid traveling at half the speed of light with Earth would result in an event with catastrophic consequences, releasing energy far exceeding that of conventional explosives and leading to widespread destruction and environmental disruption.\\n```',\n",
       "   'finish_reason': 'stop'}],\n",
       " 'usage': {'prompt_tokens': 43, 'completion_tokens': 909, 'total_tokens': 952}}"
      ]
     },
     "execution_count": 3,
     "metadata": {},
     "output_type": "execute_result"
    }
   ],
   "source": [
    "from mlflow.deployments import get_deploy_client\n",
    "\n",
    "client = get_deploy_client(\"http://127.0.0.1:5000\")\n",
    "\n",
    "data = {\n",
    "    \"prompt\": (\n",
    "        \"What would happen if an asteroid the size of \"\n",
    "        \"a basketball encountered the Earth traveling at 0.5c? \"\n",
    "        \"Please provide your answer in .rst format for the purposes of documentation.\"\n",
    "    ),\n",
    "    \"temperature\": 0.5,\n",
    "    \"max_tokens\": 1000,\n",
    "    \"n\": 1,\n",
    "    \"frequency_penalty\": 0.2,\n",
    "    \"presence_penalty\": 0.2,\n",
    "}\n",
    "\n",
    "client.predict(endpoint=\"completions\", inputs=data)"
   ]
  },
  {
   "cell_type": "code",
   "execution_count": 4,
   "metadata": {
    "execution": {
     "iopub.execute_input": "2024-10-24T14:30:20.689593Z",
     "iopub.status.busy": "2024-10-24T14:30:20.689075Z",
     "iopub.status.idle": "2024-10-24T14:30:20.704355Z",
     "shell.execute_reply": "2024-10-24T14:30:20.703616Z",
     "shell.execute_reply.started": "2024-10-24T14:30:20.689560Z"
    }
   },
   "outputs": [
    {
     "name": "stdout",
     "output_type": "stream",
     "text": [
      "name='ai-studio-chat' endpoint_type='llm/v1/chat' model=RouteModelInfo(name='meta-llama/Meta-Llama-3.1-8B-Instruct', provider='openai') endpoint_url='http://127.0.0.1:5000/gateway/ai-studio-chat/invocations' limit=None\n",
      "name='completions' endpoint_type='llm/v1/completions' model=RouteModelInfo(name='gpt-4o-mini', provider='openai') endpoint_url='http://127.0.0.1:5000/gateway/completions/invocations' limit=Limit(calls=10, key=None, renewal_period='minute')\n",
      "name='chat' endpoint_type='llm/v1/chat' model=RouteModelInfo(name='gpt-4o-mini', provider='openai') endpoint_url='http://127.0.0.1:5000/gateway/chat/invocations' limit=None\n",
      "name='embeddings' endpoint_type='llm/v1/embeddings' model=RouteModelInfo(name='text-embedding-ada-002', provider='openai') endpoint_url='http://127.0.0.1:5000/gateway/embeddings/invocations' limit=None\n"
     ]
    },
    {
     "name": "stderr",
     "output_type": "stream",
     "text": [
      "/Users/mikhailrozhkov/.pyenv/versions/3.11.6/lib/python3.11/site-packages/pydantic/_internal/_config.py:341: UserWarning: Valid config keys have changed in V2:\n",
      "* 'schema_extra' has been renamed to 'json_schema_extra'\n",
      "  warnings.warn(message, UserWarning)\n"
     ]
    }
   ],
   "source": [
    "for endpoint in client.list_endpoints():\n",
    "    print(endpoint)"
   ]
  },
  {
   "cell_type": "code",
   "execution_count": 6,
   "metadata": {
    "execution": {
     "iopub.execute_input": "2024-10-24T14:31:54.792421Z",
     "iopub.status.busy": "2024-10-24T14:31:54.791918Z",
     "iopub.status.idle": "2024-10-24T14:31:55.807807Z",
     "shell.execute_reply": "2024-10-24T14:31:55.804012Z",
     "shell.execute_reply.started": "2024-10-24T14:31:54.792389Z"
    }
   },
   "outputs": [
    {
     "name": "stdout",
     "output_type": "stream",
     "text": [
      "{'id': 'chat-6e5254c91efd41f79638450419d3a6df', 'object': 'chat.completion', 'created': 1729780315, 'model': 'meta-llama/Meta-Llama-3.1-8B-Instruct', 'choices': [{'index': 0, 'message': {'role': 'assistant', 'content': \"Here's one:\\n\\nWhy did the rabbit go to the doctor?\\n\\nBecause he had hare-loss! (get it?)\", 'tool_calls': []}, 'finish_reason': 'stop'}], 'usage': {'prompt_tokens': 16, 'completion_tokens': 24, 'total_tokens': 40}}\n"
     ]
    }
   ],
   "source": [
    "response = client.predict(\n",
    "    endpoint=\"ai-studio-chat\",\n",
    "    inputs={\"messages\": [{\"role\": \"user\", \"content\": \"Tell me a joke about rabbits\"}]},\n",
    ")\n",
    "print(response)\n"
   ]
  },
  {
   "cell_type": "code",
   "execution_count": 7,
   "metadata": {
    "execution": {
     "iopub.execute_input": "2024-10-24T15:37:36.649529Z",
     "iopub.status.busy": "2024-10-24T15:37:36.649017Z",
     "iopub.status.idle": "2024-10-24T15:37:37.466214Z",
     "shell.execute_reply": "2024-10-24T15:37:37.463305Z",
     "shell.execute_reply.started": "2024-10-24T15:37:36.649482Z"
    }
   },
   "outputs": [
    {
     "name": "stdout",
     "output_type": "stream",
     "text": [
      "{'id': 'chatcmpl-ALuC02z8aKlL9W1x0ymOdHro4br6K', 'object': 'text_completion', 'created': 1729784256, 'model': 'gpt-4o-mini-2024-07-18', 'choices': [{'index': 0, 'text': 'What do you call a line of rabbits hopping backward? \\n\\nA receding hare-line! 🐰', 'finish_reason': 'stop'}], 'usage': {'prompt_tokens': 13, 'completion_tokens': 21, 'total_tokens': 34}}\n"
     ]
    }
   ],
   "source": [
    "response = client.predict(\n",
    "    endpoint=\"completions\",\n",
    "    inputs={\"prompt\": \"Tell me a joke about rabbits\"},\n",
    ")\n",
    "print(response)"
   ]
  },
  {
   "cell_type": "code",
   "execution_count": 8,
   "metadata": {
    "execution": {
     "iopub.execute_input": "2024-10-24T15:38:09.472492Z",
     "iopub.status.busy": "2024-10-24T15:38:09.472091Z",
     "iopub.status.idle": "2024-10-24T15:38:09.478482Z",
     "shell.execute_reply": "2024-10-24T15:38:09.477804Z",
     "shell.execute_reply.started": "2024-10-24T15:38:09.472460Z"
    }
   },
   "outputs": [
    {
     "data": {
      "text/plain": [
       "{'id': 'chatcmpl-ALuC02z8aKlL9W1x0ymOdHro4br6K',\n",
       " 'object': 'text_completion',\n",
       " 'created': 1729784256,\n",
       " 'model': 'gpt-4o-mini-2024-07-18',\n",
       " 'choices': [{'index': 0,\n",
       "   'text': 'What do you call a line of rabbits hopping backward? \\n\\nA receding hare-line! 🐰',\n",
       "   'finish_reason': 'stop'}],\n",
       " 'usage': {'prompt_tokens': 13, 'completion_tokens': 21, 'total_tokens': 34}}"
      ]
     },
     "execution_count": 8,
     "metadata": {},
     "output_type": "execute_result"
    }
   ],
   "source": [
    "response"
   ]
  },
  {
   "cell_type": "markdown",
   "metadata": {},
   "source": [
    "# Nebius AI Studio <> MLflow integration"
   ]
  },
  {
   "cell_type": "code",
   "execution_count": 71,
   "metadata": {
    "execution": {
     "iopub.execute_input": "2024-10-22T09:44:07.353247Z",
     "iopub.status.busy": "2024-10-22T09:44:07.352723Z",
     "iopub.status.idle": "2024-10-22T09:44:08.671232Z",
     "shell.execute_reply": "2024-10-22T09:44:08.670605Z",
     "shell.execute_reply.started": "2024-10-22T09:44:07.353219Z"
    },
    "scrolled": true
   },
   "outputs": [
    {
     "name": "stdout",
     "output_type": "stream",
     "text": [
      "Requirement already satisfied: tf-keras in /Users/mikhailrozhkov/.pyenv/versions/3.11.6/lib/python3.11/site-packages (2.17.0)\n",
      "Requirement already satisfied: textstat in /Users/mikhailrozhkov/.pyenv/versions/3.11.6/lib/python3.11/site-packages (0.7.4)\n",
      "Requirement already satisfied: mlflow[genai] in /Users/mikhailrozhkov/.pyenv/versions/3.11.6/lib/python3.11/site-packages (2.17.0)\n",
      "Requirement already satisfied: mlflow-skinny==2.17.0 in /Users/mikhailrozhkov/.pyenv/versions/3.11.6/lib/python3.11/site-packages (from mlflow[genai]) (2.17.0)\n",
      "Requirement already satisfied: Flask<4 in /Users/mikhailrozhkov/.local/lib/python3.11/site-packages (from mlflow[genai]) (2.2.5)\n",
      "Requirement already satisfied: alembic!=1.10.0,<2 in /Users/mikhailrozhkov/.pyenv/versions/3.11.6/lib/python3.11/site-packages (from mlflow[genai]) (1.13.2)\n",
      "Requirement already satisfied: docker<8,>=4.0.0 in /Users/mikhailrozhkov/.pyenv/versions/3.11.6/lib/python3.11/site-packages (from mlflow[genai]) (7.1.0)\n",
      "Requirement already satisfied: graphene<4 in /Users/mikhailrozhkov/.pyenv/versions/3.11.6/lib/python3.11/site-packages (from mlflow[genai]) (3.3)\n",
      "Requirement already satisfied: markdown<4,>=3.3 in /Users/mikhailrozhkov/.pyenv/versions/3.11.6/lib/python3.11/site-packages (from mlflow[genai]) (3.7)\n",
      "Requirement already satisfied: matplotlib<4 in /Users/mikhailrozhkov/.pyenv/versions/3.11.6/lib/python3.11/site-packages (from mlflow[genai]) (3.9.0)\n",
      "Requirement already satisfied: numpy<3 in /Users/mikhailrozhkov/.pyenv/versions/3.11.6/lib/python3.11/site-packages (from mlflow[genai]) (1.26.4)\n",
      "Requirement already satisfied: pandas<3 in /Users/mikhailrozhkov/.pyenv/versions/3.11.6/lib/python3.11/site-packages (from mlflow[genai]) (2.2.3)\n",
      "Requirement already satisfied: pyarrow<18,>=4.0.0 in /Users/mikhailrozhkov/.pyenv/versions/3.11.6/lib/python3.11/site-packages (from mlflow[genai]) (15.0.2)\n",
      "Requirement already satisfied: scikit-learn<2 in /Users/mikhailrozhkov/.pyenv/versions/3.11.6/lib/python3.11/site-packages (from mlflow[genai]) (1.5.2)\n",
      "Requirement already satisfied: scipy<2 in /Users/mikhailrozhkov/.pyenv/versions/3.11.6/lib/python3.11/site-packages (from mlflow[genai]) (1.11.4)\n",
      "Requirement already satisfied: sqlalchemy<3,>=1.4.0 in /Users/mikhailrozhkov/.pyenv/versions/3.11.6/lib/python3.11/site-packages (from mlflow[genai]) (2.0.36)\n",
      "Requirement already satisfied: Jinja2<4,>=2.11 in /Users/mikhailrozhkov/.pyenv/versions/3.11.6/lib/python3.11/site-packages (from mlflow[genai]) (3.0.3)\n",
      "Requirement already satisfied: gunicorn<24 in /Users/mikhailrozhkov/.pyenv/versions/3.11.6/lib/python3.11/site-packages (from mlflow[genai]) (23.0.0)\n",
      "Requirement already satisfied: pydantic<3,>=1.0 in /Users/mikhailrozhkov/.pyenv/versions/3.11.6/lib/python3.11/site-packages (from mlflow[genai]) (2.8.2)\n",
      "Requirement already satisfied: fastapi<1 in /Users/mikhailrozhkov/.pyenv/versions/3.11.6/lib/python3.11/site-packages (from mlflow[genai]) (0.110.3)\n",
      "Requirement already satisfied: uvicorn<1 in /Users/mikhailrozhkov/.pyenv/versions/3.11.6/lib/python3.11/site-packages (from uvicorn[standard]<1; extra == \"genai\"->mlflow[genai]) (0.30.3)\n",
      "Requirement already satisfied: watchfiles<1 in /Users/mikhailrozhkov/.pyenv/versions/3.11.6/lib/python3.11/site-packages (from mlflow[genai]) (0.22.0)\n",
      "Requirement already satisfied: aiohttp<4 in /Users/mikhailrozhkov/.pyenv/versions/3.11.6/lib/python3.11/site-packages (from mlflow[genai]) (3.9.5)\n",
      "Requirement already satisfied: boto3<2,>=1.28.56 in /Users/mikhailrozhkov/.pyenv/versions/3.11.6/lib/python3.11/site-packages (from mlflow[genai]) (1.34.147)\n",
      "Requirement already satisfied: tiktoken<1 in /Users/mikhailrozhkov/.pyenv/versions/3.11.6/lib/python3.11/site-packages (from mlflow[genai]) (0.7.0)\n",
      "Requirement already satisfied: slowapi<1,>=0.1.9 in /Users/mikhailrozhkov/.pyenv/versions/3.11.6/lib/python3.11/site-packages (from mlflow[genai]) (0.1.9)\n",
      "Requirement already satisfied: cachetools<6,>=5.0.0 in /Users/mikhailrozhkov/.pyenv/versions/3.11.6/lib/python3.11/site-packages (from mlflow-skinny==2.17.0->mlflow[genai]) (5.3.2)\n",
      "Requirement already satisfied: click<9,>=7.0 in /Users/mikhailrozhkov/.local/lib/python3.11/site-packages (from mlflow-skinny==2.17.0->mlflow[genai]) (8.1.7)\n",
      "Requirement already satisfied: cloudpickle<4 in /Users/mikhailrozhkov/.pyenv/versions/3.11.6/lib/python3.11/site-packages (from mlflow-skinny==2.17.0->mlflow[genai]) (3.0.0)\n",
      "Requirement already satisfied: databricks-sdk<1,>=0.20.0 in /Users/mikhailrozhkov/.pyenv/versions/3.11.6/lib/python3.11/site-packages (from mlflow-skinny==2.17.0->mlflow[genai]) (0.35.0)\n",
      "Requirement already satisfied: gitpython<4,>=3.1.9 in /Users/mikhailrozhkov/.pyenv/versions/3.11.6/lib/python3.11/site-packages (from mlflow-skinny==2.17.0->mlflow[genai]) (3.1.40)\n",
      "Requirement already satisfied: importlib-metadata!=4.7.0,<9,>=3.7.0 in /Users/mikhailrozhkov/.pyenv/versions/3.11.6/lib/python3.11/site-packages (from mlflow-skinny==2.17.0->mlflow[genai]) (7.1.0)\n",
      "Requirement already satisfied: opentelemetry-api<3,>=1.9.0 in /Users/mikhailrozhkov/.pyenv/versions/3.11.6/lib/python3.11/site-packages (from mlflow-skinny==2.17.0->mlflow[genai]) (1.25.0)\n",
      "Requirement already satisfied: opentelemetry-sdk<3,>=1.9.0 in /Users/mikhailrozhkov/.pyenv/versions/3.11.6/lib/python3.11/site-packages (from mlflow-skinny==2.17.0->mlflow[genai]) (1.25.0)\n",
      "Requirement already satisfied: packaging<25 in /Users/mikhailrozhkov/.local/lib/python3.11/site-packages (from mlflow-skinny==2.17.0->mlflow[genai]) (23.2)\n",
      "Requirement already satisfied: protobuf<6,>=3.12.0 in /Users/mikhailrozhkov/.pyenv/versions/3.11.6/lib/python3.11/site-packages (from mlflow-skinny==2.17.0->mlflow[genai]) (4.25.1)\n",
      "Requirement already satisfied: pyyaml<7,>=5.1 in /Users/mikhailrozhkov/.local/lib/python3.11/site-packages (from mlflow-skinny==2.17.0->mlflow[genai]) (6.0.1)\n",
      "Requirement already satisfied: requests<3,>=2.17.3 in /Users/mikhailrozhkov/.pyenv/versions/3.11.6/lib/python3.11/site-packages (from mlflow-skinny==2.17.0->mlflow[genai]) (2.32.3)\n",
      "Requirement already satisfied: sqlparse<1,>=0.4.0 in /Users/mikhailrozhkov/.pyenv/versions/3.11.6/lib/python3.11/site-packages (from mlflow-skinny==2.17.0->mlflow[genai]) (0.5.1)\n",
      "Requirement already satisfied: tensorflow<2.18,>=2.17 in /Users/mikhailrozhkov/.pyenv/versions/3.11.6/lib/python3.11/site-packages (from tf-keras) (2.17.0)\n",
      "Requirement already satisfied: pyphen in /Users/mikhailrozhkov/.pyenv/versions/3.11.6/lib/python3.11/site-packages (from textstat) (0.16.0)\n",
      "Requirement already satisfied: setuptools in /Users/mikhailrozhkov/.pyenv/versions/3.11.6/lib/python3.11/site-packages (from textstat) (75.2.0)\n",
      "Requirement already satisfied: aiosignal>=1.1.2 in /Users/mikhailrozhkov/.pyenv/versions/3.11.6/lib/python3.11/site-packages (from aiohttp<4->mlflow[genai]) (1.3.1)\n",
      "Requirement already satisfied: attrs>=17.3.0 in /Users/mikhailrozhkov/.pyenv/versions/3.11.6/lib/python3.11/site-packages (from aiohttp<4->mlflow[genai]) (23.2.0)\n",
      "Requirement already satisfied: frozenlist>=1.1.1 in /Users/mikhailrozhkov/.pyenv/versions/3.11.6/lib/python3.11/site-packages (from aiohttp<4->mlflow[genai]) (1.4.0)\n",
      "Requirement already satisfied: multidict<7.0,>=4.5 in /Users/mikhailrozhkov/.pyenv/versions/3.11.6/lib/python3.11/site-packages (from aiohttp<4->mlflow[genai]) (6.0.4)\n",
      "Requirement already satisfied: yarl<2.0,>=1.0 in /Users/mikhailrozhkov/.pyenv/versions/3.11.6/lib/python3.11/site-packages (from aiohttp<4->mlflow[genai]) (1.9.3)\n",
      "Requirement already satisfied: Mako in /Users/mikhailrozhkov/.pyenv/versions/3.11.6/lib/python3.11/site-packages (from alembic!=1.10.0,<2->mlflow[genai]) (1.3.5)\n",
      "Requirement already satisfied: typing-extensions>=4 in /Users/mikhailrozhkov/.pyenv/versions/3.11.6/lib/python3.11/site-packages (from alembic!=1.10.0,<2->mlflow[genai]) (4.12.2)\n",
      "Requirement already satisfied: botocore<1.35.0,>=1.34.147 in /Users/mikhailrozhkov/.pyenv/versions/3.11.6/lib/python3.11/site-packages (from boto3<2,>=1.28.56->mlflow[genai]) (1.34.162)\n",
      "Requirement already satisfied: jmespath<2.0.0,>=0.7.1 in /Users/mikhailrozhkov/.pyenv/versions/3.11.6/lib/python3.11/site-packages (from boto3<2,>=1.28.56->mlflow[genai]) (1.0.1)\n",
      "Requirement already satisfied: s3transfer<0.11.0,>=0.10.0 in /Users/mikhailrozhkov/.pyenv/versions/3.11.6/lib/python3.11/site-packages (from boto3<2,>=1.28.56->mlflow[genai]) (0.10.2)\n",
      "Requirement already satisfied: urllib3>=1.26.0 in /Users/mikhailrozhkov/.local/lib/python3.11/site-packages (from docker<8,>=4.0.0->mlflow[genai]) (2.0.7)\n",
      "Requirement already satisfied: starlette<0.38.0,>=0.37.2 in /Users/mikhailrozhkov/.pyenv/versions/3.11.6/lib/python3.11/site-packages (from fastapi<1->mlflow[genai]) (0.37.2)\n",
      "Requirement already satisfied: Werkzeug>=2.2.2 in /Users/mikhailrozhkov/.local/lib/python3.11/site-packages (from Flask<4->mlflow[genai]) (2.3.8)\n",
      "Requirement already satisfied: itsdangerous>=2.0 in /Users/mikhailrozhkov/.local/lib/python3.11/site-packages (from Flask<4->mlflow[genai]) (2.1.2)\n",
      "Requirement already satisfied: graphql-core<3.3,>=3.1 in /Users/mikhailrozhkov/.pyenv/versions/3.11.6/lib/python3.11/site-packages (from graphene<4->mlflow[genai]) (3.2.3)\n",
      "Requirement already satisfied: graphql-relay<3.3,>=3.1 in /Users/mikhailrozhkov/.pyenv/versions/3.11.6/lib/python3.11/site-packages (from graphene<4->mlflow[genai]) (3.2.0)\n",
      "Requirement already satisfied: aniso8601<10,>=8 in /Users/mikhailrozhkov/.pyenv/versions/3.11.6/lib/python3.11/site-packages (from graphene<4->mlflow[genai]) (9.0.1)\n",
      "Requirement already satisfied: MarkupSafe>=2.0 in /Users/mikhailrozhkov/.local/lib/python3.11/site-packages (from Jinja2<4,>=2.11->mlflow[genai]) (2.1.3)\n",
      "Requirement already satisfied: contourpy>=1.0.1 in /Users/mikhailrozhkov/.pyenv/versions/3.11.6/lib/python3.11/site-packages (from matplotlib<4->mlflow[genai]) (1.2.0)\n",
      "Requirement already satisfied: cycler>=0.10 in /Users/mikhailrozhkov/.pyenv/versions/3.11.6/lib/python3.11/site-packages (from matplotlib<4->mlflow[genai]) (0.12.1)\n",
      "Requirement already satisfied: fonttools>=4.22.0 in /Users/mikhailrozhkov/.pyenv/versions/3.11.6/lib/python3.11/site-packages (from matplotlib<4->mlflow[genai]) (4.45.1)\n",
      "Requirement already satisfied: kiwisolver>=1.3.1 in /Users/mikhailrozhkov/.pyenv/versions/3.11.6/lib/python3.11/site-packages (from matplotlib<4->mlflow[genai]) (1.4.5)\n",
      "Requirement already satisfied: pillow>=8 in /Users/mikhailrozhkov/.pyenv/versions/3.11.6/lib/python3.11/site-packages (from matplotlib<4->mlflow[genai]) (10.4.0)\n",
      "Requirement already satisfied: pyparsing>=2.3.1 in /Users/mikhailrozhkov/.pyenv/versions/3.11.6/lib/python3.11/site-packages (from matplotlib<4->mlflow[genai]) (3.1.1)\n",
      "Requirement already satisfied: python-dateutil>=2.7 in /Users/mikhailrozhkov/.local/lib/python3.11/site-packages (from matplotlib<4->mlflow[genai]) (2.8.2)\n",
      "Requirement already satisfied: pytz>=2020.1 in /Users/mikhailrozhkov/.pyenv/versions/3.11.6/lib/python3.11/site-packages (from pandas<3->mlflow[genai]) (2023.3.post1)\n",
      "Requirement already satisfied: tzdata>=2022.7 in /Users/mikhailrozhkov/.pyenv/versions/3.11.6/lib/python3.11/site-packages (from pandas<3->mlflow[genai]) (2023.3)\n",
      "Requirement already satisfied: annotated-types>=0.4.0 in /Users/mikhailrozhkov/.pyenv/versions/3.11.6/lib/python3.11/site-packages (from pydantic<3,>=1.0->mlflow[genai]) (0.6.0)\n",
      "Requirement already satisfied: pydantic-core==2.20.1 in /Users/mikhailrozhkov/.pyenv/versions/3.11.6/lib/python3.11/site-packages (from pydantic<3,>=1.0->mlflow[genai]) (2.20.1)\n",
      "Requirement already satisfied: joblib>=1.2.0 in /Users/mikhailrozhkov/.pyenv/versions/3.11.6/lib/python3.11/site-packages (from scikit-learn<2->mlflow[genai]) (1.3.2)\n",
      "Requirement already satisfied: threadpoolctl>=3.1.0 in /Users/mikhailrozhkov/.pyenv/versions/3.11.6/lib/python3.11/site-packages (from scikit-learn<2->mlflow[genai]) (3.4.0)\n",
      "Requirement already satisfied: limits>=2.3 in /Users/mikhailrozhkov/.pyenv/versions/3.11.6/lib/python3.11/site-packages (from slowapi<1,>=0.1.9->mlflow[genai]) (3.13.0)\n",
      "Requirement already satisfied: absl-py>=1.0.0 in /Users/mikhailrozhkov/.pyenv/versions/3.11.6/lib/python3.11/site-packages (from tensorflow<2.18,>=2.17->tf-keras) (2.1.0)\n",
      "Requirement already satisfied: astunparse>=1.6.0 in /Users/mikhailrozhkov/.pyenv/versions/3.11.6/lib/python3.11/site-packages (from tensorflow<2.18,>=2.17->tf-keras) (1.6.3)\n",
      "Requirement already satisfied: flatbuffers>=24.3.25 in /Users/mikhailrozhkov/.pyenv/versions/3.11.6/lib/python3.11/site-packages (from tensorflow<2.18,>=2.17->tf-keras) (24.3.25)\n",
      "Requirement already satisfied: gast!=0.5.0,!=0.5.1,!=0.5.2,>=0.2.1 in /Users/mikhailrozhkov/.pyenv/versions/3.11.6/lib/python3.11/site-packages (from tensorflow<2.18,>=2.17->tf-keras) (0.6.0)\n",
      "Requirement already satisfied: google-pasta>=0.1.1 in /Users/mikhailrozhkov/.pyenv/versions/3.11.6/lib/python3.11/site-packages (from tensorflow<2.18,>=2.17->tf-keras) (0.2.0)\n",
      "Requirement already satisfied: h5py>=3.10.0 in /Users/mikhailrozhkov/.pyenv/versions/3.11.6/lib/python3.11/site-packages (from tensorflow<2.18,>=2.17->tf-keras) (3.10.0)\n",
      "Requirement already satisfied: libclang>=13.0.0 in /Users/mikhailrozhkov/.pyenv/versions/3.11.6/lib/python3.11/site-packages (from tensorflow<2.18,>=2.17->tf-keras) (18.1.1)\n",
      "Requirement already satisfied: ml-dtypes<0.5.0,>=0.3.1 in /Users/mikhailrozhkov/.pyenv/versions/3.11.6/lib/python3.11/site-packages (from tensorflow<2.18,>=2.17->tf-keras) (0.4.1)\n",
      "Requirement already satisfied: opt-einsum>=2.3.2 in /Users/mikhailrozhkov/.pyenv/versions/3.11.6/lib/python3.11/site-packages (from tensorflow<2.18,>=2.17->tf-keras) (3.4.0)\n",
      "Requirement already satisfied: six>=1.12.0 in /Users/mikhailrozhkov/.local/lib/python3.11/site-packages (from tensorflow<2.18,>=2.17->tf-keras) (1.16.0)\n",
      "Requirement already satisfied: termcolor>=1.1.0 in /Users/mikhailrozhkov/.pyenv/versions/3.11.6/lib/python3.11/site-packages (from tensorflow<2.18,>=2.17->tf-keras) (2.4.0)\n",
      "Requirement already satisfied: wrapt>=1.11.0 in /Users/mikhailrozhkov/.pyenv/versions/3.11.6/lib/python3.11/site-packages (from tensorflow<2.18,>=2.17->tf-keras) (1.16.0)\n",
      "Requirement already satisfied: grpcio<2.0,>=1.24.3 in /Users/mikhailrozhkov/.pyenv/versions/3.11.6/lib/python3.11/site-packages (from tensorflow<2.18,>=2.17->tf-keras) (1.65.1)\n",
      "Requirement already satisfied: tensorboard<2.18,>=2.17 in /Users/mikhailrozhkov/.pyenv/versions/3.11.6/lib/python3.11/site-packages (from tensorflow<2.18,>=2.17->tf-keras) (2.17.1)\n",
      "Requirement already satisfied: keras>=3.2.0 in /Users/mikhailrozhkov/.pyenv/versions/3.11.6/lib/python3.11/site-packages (from tensorflow<2.18,>=2.17->tf-keras) (3.6.0)\n",
      "Requirement already satisfied: tensorflow-io-gcs-filesystem>=0.23.1 in /Users/mikhailrozhkov/.pyenv/versions/3.11.6/lib/python3.11/site-packages (from tensorflow<2.18,>=2.17->tf-keras) (0.37.1)\n",
      "Requirement already satisfied: regex>=2022.1.18 in /Users/mikhailrozhkov/.pyenv/versions/3.11.6/lib/python3.11/site-packages (from tiktoken<1->mlflow[genai]) (2023.12.25)\n",
      "Requirement already satisfied: h11>=0.8 in /Users/mikhailrozhkov/.pyenv/versions/3.11.6/lib/python3.11/site-packages (from uvicorn<1->uvicorn[standard]<1; extra == \"genai\"->mlflow[genai]) (0.14.0)\n",
      "Requirement already satisfied: httptools>=0.5.0 in /Users/mikhailrozhkov/.pyenv/versions/3.11.6/lib/python3.11/site-packages (from uvicorn[standard]<1; extra == \"genai\"->mlflow[genai]) (0.6.1)\n",
      "Requirement already satisfied: python-dotenv>=0.13 in /Users/mikhailrozhkov/.pyenv/versions/3.11.6/lib/python3.11/site-packages (from uvicorn[standard]<1; extra == \"genai\"->mlflow[genai]) (1.0.1)\n",
      "Requirement already satisfied: uvloop!=0.15.0,!=0.15.1,>=0.14.0 in /Users/mikhailrozhkov/.pyenv/versions/3.11.6/lib/python3.11/site-packages (from uvicorn[standard]<1; extra == \"genai\"->mlflow[genai]) (0.19.0)\n",
      "Requirement already satisfied: websockets>=10.4 in /Users/mikhailrozhkov/.pyenv/versions/3.11.6/lib/python3.11/site-packages (from uvicorn[standard]<1; extra == \"genai\"->mlflow[genai]) (12.0)\n",
      "Requirement already satisfied: anyio>=3.0.0 in /Users/mikhailrozhkov/.pyenv/versions/3.11.6/lib/python3.11/site-packages (from watchfiles<1->mlflow[genai]) (4.2.0)\n",
      "Requirement already satisfied: idna>=2.8 in /Users/mikhailrozhkov/.local/lib/python3.11/site-packages (from anyio>=3.0.0->watchfiles<1->mlflow[genai]) (3.4)\n",
      "Requirement already satisfied: sniffio>=1.1 in /Users/mikhailrozhkov/.pyenv/versions/3.11.6/lib/python3.11/site-packages (from anyio>=3.0.0->watchfiles<1->mlflow[genai]) (1.3.0)\n",
      "Requirement already satisfied: wheel<1.0,>=0.23.0 in /Users/mikhailrozhkov/.pyenv/versions/3.11.6/lib/python3.11/site-packages (from astunparse>=1.6.0->tensorflow<2.18,>=2.17->tf-keras) (0.44.0)\n",
      "Requirement already satisfied: google-auth~=2.0 in /Users/mikhailrozhkov/.pyenv/versions/3.11.6/lib/python3.11/site-packages (from databricks-sdk<1,>=0.20.0->mlflow-skinny==2.17.0->mlflow[genai]) (2.25.2)\n",
      "Requirement already satisfied: gitdb<5,>=4.0.1 in /Users/mikhailrozhkov/.pyenv/versions/3.11.6/lib/python3.11/site-packages (from gitpython<4,>=3.1.9->mlflow-skinny==2.17.0->mlflow[genai]) (4.0.11)\n",
      "Requirement already satisfied: zipp>=0.5 in /Users/mikhailrozhkov/.pyenv/versions/3.11.6/lib/python3.11/site-packages (from importlib-metadata!=4.7.0,<9,>=3.7.0->mlflow-skinny==2.17.0->mlflow[genai]) (3.19.2)\n",
      "Requirement already satisfied: rich in /Users/mikhailrozhkov/.pyenv/versions/3.11.6/lib/python3.11/site-packages (from keras>=3.2.0->tensorflow<2.18,>=2.17->tf-keras) (13.7.0)\n",
      "Requirement already satisfied: namex in /Users/mikhailrozhkov/.pyenv/versions/3.11.6/lib/python3.11/site-packages (from keras>=3.2.0->tensorflow<2.18,>=2.17->tf-keras) (0.0.8)\n",
      "Requirement already satisfied: optree in /Users/mikhailrozhkov/.pyenv/versions/3.11.6/lib/python3.11/site-packages (from keras>=3.2.0->tensorflow<2.18,>=2.17->tf-keras) (0.13.0)\n",
      "Requirement already satisfied: deprecated>=1.2 in /Users/mikhailrozhkov/.pyenv/versions/3.11.6/lib/python3.11/site-packages (from limits>=2.3->slowapi<1,>=0.1.9->mlflow[genai]) (1.2.14)\n",
      "Requirement already satisfied: importlib-resources>=1.3 in /Users/mikhailrozhkov/.local/lib/python3.11/site-packages (from limits>=2.3->slowapi<1,>=0.1.9->mlflow[genai]) (6.1.1)\n",
      "Requirement already satisfied: opentelemetry-semantic-conventions==0.46b0 in /Users/mikhailrozhkov/.pyenv/versions/3.11.6/lib/python3.11/site-packages (from opentelemetry-sdk<3,>=1.9.0->mlflow-skinny==2.17.0->mlflow[genai]) (0.46b0)\n",
      "Requirement already satisfied: charset-normalizer<4,>=2 in /Users/mikhailrozhkov/.local/lib/python3.11/site-packages (from requests<3,>=2.17.3->mlflow-skinny==2.17.0->mlflow[genai]) (3.3.2)\n",
      "Requirement already satisfied: certifi>=2017.4.17 in /Users/mikhailrozhkov/.local/lib/python3.11/site-packages (from requests<3,>=2.17.3->mlflow-skinny==2.17.0->mlflow[genai]) (2023.7.22)\n",
      "Requirement already satisfied: tensorboard-data-server<0.8.0,>=0.7.0 in /Users/mikhailrozhkov/.pyenv/versions/3.11.6/lib/python3.11/site-packages (from tensorboard<2.18,>=2.17->tensorflow<2.18,>=2.17->tf-keras) (0.7.2)\n",
      "Requirement already satisfied: smmap<6,>=3.0.1 in /Users/mikhailrozhkov/.pyenv/versions/3.11.6/lib/python3.11/site-packages (from gitdb<5,>=4.0.1->gitpython<4,>=3.1.9->mlflow-skinny==2.17.0->mlflow[genai]) (5.0.1)\n",
      "Requirement already satisfied: pyasn1-modules>=0.2.1 in /Users/mikhailrozhkov/.pyenv/versions/3.11.6/lib/python3.11/site-packages (from google-auth~=2.0->databricks-sdk<1,>=0.20.0->mlflow-skinny==2.17.0->mlflow[genai]) (0.3.0)\n",
      "Requirement already satisfied: rsa<5,>=3.1.4 in /Users/mikhailrozhkov/.pyenv/versions/3.11.6/lib/python3.11/site-packages (from google-auth~=2.0->databricks-sdk<1,>=0.20.0->mlflow-skinny==2.17.0->mlflow[genai]) (4.9)\n",
      "Requirement already satisfied: markdown-it-py>=2.2.0 in /Users/mikhailrozhkov/.pyenv/versions/3.11.6/lib/python3.11/site-packages (from rich->keras>=3.2.0->tensorflow<2.18,>=2.17->tf-keras) (3.0.0)\n",
      "Requirement already satisfied: pygments<3.0.0,>=2.13.0 in /Users/mikhailrozhkov/.pyenv/versions/3.11.6/lib/python3.11/site-packages (from rich->keras>=3.2.0->tensorflow<2.18,>=2.17->tf-keras) (2.17.2)\n",
      "Requirement already satisfied: mdurl~=0.1 in /Users/mikhailrozhkov/.pyenv/versions/3.11.6/lib/python3.11/site-packages (from markdown-it-py>=2.2.0->rich->keras>=3.2.0->tensorflow<2.18,>=2.17->tf-keras) (0.1.2)\n",
      "Requirement already satisfied: pyasn1<0.6.0,>=0.4.6 in /Users/mikhailrozhkov/.pyenv/versions/3.11.6/lib/python3.11/site-packages (from pyasn1-modules>=0.2.1->google-auth~=2.0->databricks-sdk<1,>=0.20.0->mlflow-skinny==2.17.0->mlflow[genai]) (0.5.1)\n"
     ]
    }
   ],
   "source": [
    "!pip install 'mlflow[genai]' tf-keras textstat"
   ]
  },
  {
   "cell_type": "code",
   "execution_count": 74,
   "metadata": {
    "execution": {
     "iopub.execute_input": "2024-10-22T09:45:41.041102Z",
     "iopub.status.busy": "2024-10-22T09:45:41.040504Z",
     "iopub.status.idle": "2024-10-22T09:45:41.087966Z",
     "shell.execute_reply": "2024-10-22T09:45:41.087575Z",
     "shell.execute_reply.started": "2024-10-22T09:45:41.041058Z"
    }
   },
   "outputs": [],
   "source": [
    "import os\n",
    "import json\n",
    "from typing import List, Dict, Any\n",
    "import mlflow\n",
    "from openai import OpenAI\n",
    "from mlflow.models import EvaluationResult\n"
   ]
  },
  {
   "cell_type": "code",
   "execution_count": 75,
   "metadata": {
    "execution": {
     "iopub.execute_input": "2024-10-22T09:45:42.927396Z",
     "iopub.status.busy": "2024-10-22T09:45:42.926902Z",
     "iopub.status.idle": "2024-10-22T09:45:42.975936Z",
     "shell.execute_reply": "2024-10-22T09:45:42.975581Z",
     "shell.execute_reply.started": "2024-10-22T09:45:42.927367Z"
    }
   },
   "outputs": [],
   "source": [
    "%load_ext dotenv\n",
    "%dotenv"
   ]
  },
  {
   "cell_type": "code",
   "execution_count": null,
   "metadata": {},
   "outputs": [],
   "source": [
    "class NebiusAIPredictor:\n",
    "    def __init__(self, model_name: str = \"meta-llama/Meta-Llama-3.1-70B-Instruct\"):\n",
    "        self.client = OpenAI(\n",
    "            base_url=\"https://api.studio.nebius.ai/v1/\",\n",
    "            api_key=os.environ.get(\"NEBIUS_API_KEY\"),\n",
    "        )\n",
    "        self.model_name = model_name\n",
    "\n",
    "    def predict(self, data: List[str]) -> List[str]:\n",
    "        \"\"\"\n",
    "        Generate predictions using Nebius AI Studio model\n",
    "        \"\"\"\n",
    "        results = []\n",
    "        for prompt in data:\n",
    "            try:\n",
    "                completion = self.client.chat.completions.create(\n",
    "                    model=self.model_name,\n",
    "                    messages=[{\"role\": \"user\", \"content\": prompt}],\n",
    "                    temperature=0.6\n",
    "                )\n",
    "                response = completion.choices[0].message.content\n",
    "                results.append(response)\n",
    "            except Exception as e:\n",
    "                print(f\"Error processing prompt: {e}\")\n",
    "                results.append(\"\")\n",
    "        return results\n",
    "\n",
    "\n",
    "MODEL = \"meta-llama/Meta-Llama-3.1-8B-Instruct\"\n",
    "TEMPERATURE=0.0\n",
    "TOP_P=0.95\n",
    "MAX_TOKENS=2048\n",
    "\n",
    "# Initialize predictor\n",
    "predictor = NebiusAIPredictor(MODEL)"
   ]
  },
  {
   "cell_type": "code",
   "execution_count": null,
   "metadata": {},
   "outputs": [],
   "source": []
  },
  {
   "cell_type": "markdown",
   "metadata": {},
   "source": [
    "# mlflow.pyfunc"
   ]
  },
  {
   "cell_type": "code",
   "execution_count": 76,
   "metadata": {
    "execution": {
     "iopub.execute_input": "2024-10-24T10:18:24.781671Z",
     "iopub.status.busy": "2024-10-24T10:18:24.780195Z",
     "iopub.status.idle": "2024-10-24T10:18:26.778017Z",
     "shell.execute_reply": "2024-10-24T10:18:26.777742Z",
     "shell.execute_reply.started": "2024-10-24T10:18:24.781626Z"
    }
   },
   "outputs": [
    {
     "name": "stderr",
     "output_type": "stream",
     "text": [
      "2024/10/24 12:18:25 WARNING mlflow.system_metrics.system_metrics_monitor: Skip logging GPU metrics because creating `GPUMonitor` failed with error: Failed to initialize NVML, skip logging GPU metrics: NVML Shared Library Not Found.\n",
      "2024/10/24 12:18:25 INFO mlflow.system_metrics.system_metrics_monitor: Started monitoring system metrics.\n",
      "2024/10/24 12:18:26 WARNING mlflow.models.model: Model logged without a signature and input example. Please set `input_example` parameter when logging the model to auto infer the model signature.\n",
      "2024/10/24 12:18:26 INFO mlflow.tracking._tracking_service.client: 🏃 View run fearless-ox-129 at: http://localhost:5001/#/experiments/937421358963430873/runs/ba7377aa040b4ba6bcf12a45692b4197.\n",
      "2024/10/24 12:18:26 INFO mlflow.tracking._tracking_service.client: 🧪 View experiment at: http://localhost:5001/#/experiments/937421358963430873.\n",
      "2024/10/24 12:18:26 INFO mlflow.system_metrics.system_metrics_monitor: Stopping system metrics monitoring...\n",
      "2024/10/24 12:18:26 INFO mlflow.system_metrics.system_metrics_monitor: Successfully terminated system metrics monitoring!\n"
     ]
    },
    {
     "data": {
      "application/vnd.jupyter.widget-view+json": {
       "model_id": "11da669b38d146d783dad8d7bcfdbbde",
       "version_major": 2,
       "version_minor": 0
      },
      "text/plain": [
       "Downloading artifacts:   0%|          | 0/5 [00:00<?, ?it/s]"
      ]
     },
     "metadata": {},
     "output_type": "display_data"
    },
    {
     "name": "stdout",
     "output_type": "stream",
     "text": [
      "<class 'mlflow.pyfunc.PyFuncModel'>\n",
      "<class '__main__.MyModel'>\n",
      "0\n",
      "0\n",
      "0\n"
     ]
    }
   ],
   "source": [
    "import mlflow\n",
    "\n",
    "\n",
    "# define a custom model\n",
    "class MyModel(mlflow.pyfunc.PythonModel):\n",
    "    def predict(self, context, model_input, params=None):\n",
    "        return self.my_custom_function(model_input, params)\n",
    "\n",
    "    def my_custom_function(self, model_input, params=None):\n",
    "        # do something with the model input\n",
    "        return 0\n",
    "\n",
    "\n",
    "some_input = 1\n",
    "# save the model\n",
    "with mlflow.start_run():\n",
    "    model_info = mlflow.pyfunc.log_model(artifact_path=\"model\", python_model=MyModel())\n",
    "\n",
    "# load the model\n",
    "loaded_model = mlflow.pyfunc.load_model(model_uri=model_info.model_uri)\n",
    "print(type(loaded_model))  # <class 'mlflow.pyfunc.model.PyFuncModel'>\n",
    "unwrapped_model = loaded_model.unwrap_python_model()\n",
    "print(type(unwrapped_model))  # <class '__main__.MyModel'>\n",
    "\n",
    "# does not work, only predict() is exposed\n",
    "# print(loaded_model.my_custom_function(some_input))\n",
    "print(unwrapped_model.my_custom_function(some_input))  # works\n",
    "print(loaded_model.predict(some_input))  # works\n",
    "\n",
    "# works, but None is needed for context arg\n",
    "print(unwrapped_model.predict(None, some_input))\n"
   ]
  },
  {
   "cell_type": "code",
   "execution_count": 77,
   "metadata": {
    "execution": {
     "iopub.execute_input": "2024-10-24T10:19:08.729630Z",
     "iopub.status.busy": "2024-10-24T10:19:08.729386Z",
     "iopub.status.idle": "2024-10-24T10:19:08.774226Z",
     "shell.execute_reply": "2024-10-24T10:19:08.773668Z",
     "shell.execute_reply.started": "2024-10-24T10:19:08.729615Z"
    }
   },
   "outputs": [
    {
     "ename": "AttributeError",
     "evalue": "'PyFuncModel' object has no attribute 'my_custom_function'",
     "output_type": "error",
     "traceback": [
      "\u001b[0;31m---------------------------------------------------------------------------\u001b[0m",
      "\u001b[0;31mAttributeError\u001b[0m                            Traceback (most recent call last)",
      "Cell \u001b[0;32mIn[77], line 1\u001b[0m\n\u001b[0;32m----> 1\u001b[0m \u001b[38;5;28mprint\u001b[39m(\u001b[43mloaded_model\u001b[49m\u001b[38;5;241;43m.\u001b[39;49m\u001b[43mmy_custom_function\u001b[49m(some_input))\n",
      "\u001b[0;31mAttributeError\u001b[0m: 'PyFuncModel' object has no attribute 'my_custom_function'"
     ]
    }
   ],
   "source": [
    "print(loaded_model.my_custom_function(some_input))"
   ]
  },
  {
   "cell_type": "code",
   "execution_count": 78,
   "metadata": {
    "execution": {
     "iopub.execute_input": "2024-10-24T10:19:47.392836Z",
     "iopub.status.busy": "2024-10-24T10:19:47.391726Z",
     "iopub.status.idle": "2024-10-24T10:19:47.439253Z",
     "shell.execute_reply": "2024-10-24T10:19:47.438740Z",
     "shell.execute_reply.started": "2024-10-24T10:19:47.392791Z"
    }
   },
   "outputs": [
    {
     "data": {
      "text/plain": [
       "mlflow.pyfunc.loaded_model:\n",
       "  artifact_path: model\n",
       "  flavor: mlflow.pyfunc.model\n",
       "  run_id: ba7377aa040b4ba6bcf12a45692b4197"
      ]
     },
     "execution_count": 78,
     "metadata": {},
     "output_type": "execute_result"
    }
   ],
   "source": [
    "loaded_model.predict"
   ]
  },
  {
   "cell_type": "markdown",
   "metadata": {},
   "source": [
    "## Prompt Engineering \n",
    "\n",
    "- https://mlflow.org/docs/latest/llms/prompt-engineering/index.html "
   ]
  },
  {
   "cell_type": "code",
   "execution_count": null,
   "metadata": {},
   "outputs": [],
   "source": []
  },
  {
   "cell_type": "code",
   "execution_count": null,
   "metadata": {},
   "outputs": [],
   "source": []
  },
  {
   "cell_type": "code",
   "execution_count": null,
   "metadata": {},
   "outputs": [],
   "source": []
  },
  {
   "cell_type": "code",
   "execution_count": null,
   "metadata": {},
   "outputs": [],
   "source": []
  },
  {
   "cell_type": "code",
   "execution_count": null,
   "metadata": {},
   "outputs": [],
   "source": []
  }
 ],
 "metadata": {
  "colab": {
   "provenance": []
  },
  "kernelspec": {
   "display_name": "Python 3 (ipykernel)",
   "language": "python",
   "name": "python3"
  },
  "language_info": {
   "codemirror_mode": {
    "name": "ipython",
    "version": 3
   },
   "file_extension": ".py",
   "mimetype": "text/x-python",
   "name": "python",
   "nbconvert_exporter": "python",
   "pygments_lexer": "ipython3",
   "version": "3.11.6"
  },
  "toc": {
   "base_numbering": 1,
   "nav_menu": {},
   "number_sections": true,
   "sideBar": true,
   "skip_h1_title": false,
   "title_cell": "Table of Contents",
   "title_sidebar": "Contents",
   "toc_cell": false,
   "toc_position": {},
   "toc_section_display": true,
   "toc_window_display": false
  }
 },
 "nbformat": 4,
 "nbformat_minor": 4
}
