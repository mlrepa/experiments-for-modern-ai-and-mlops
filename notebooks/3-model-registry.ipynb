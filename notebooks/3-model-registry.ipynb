{
 "cells": [
  {
   "cell_type": "markdown",
   "metadata": {
    "id": "QgumzOZ5wgec",
    "pycharm": {
     "name": "#%% md\n"
    }
   },
   "source": [
    "# Get started with Model Registry\n",
    "\n",
    "This notebook demonstrates how to use Evidently to:\n",
    "* Generate a model performance report and calculate associated metrics.\n",
    "* Log model metrics to MLFlow.\n",
    "* Store the model in MLFlow as an artifact.\n",
    "* Store the model performance report in MLFlow as an artifact."
   ]
  },
  {
   "cell_type": "code",
   "execution_count": 1,
   "metadata": {
    "execution": {
     "iopub.execute_input": "2024-10-17T18:38:24.349271Z",
     "iopub.status.busy": "2024-10-17T18:38:24.348802Z",
     "iopub.status.idle": "2024-10-17T18:38:25.393950Z",
     "shell.execute_reply": "2024-10-17T18:38:25.393619Z",
     "shell.execute_reply.started": "2024-10-17T18:38:24.349241Z"
    },
    "id": "rByuPhg7wgei",
    "pycharm": {
     "name": "#%%\n"
    }
   },
   "outputs": [],
   "source": [
    "%load_ext autoreload\n",
    "%autoreload 2\n",
    "\n",
    "import joblib\n",
    "import mlflow\n",
    "import mlflow.sklearn\n",
    "from mlflow.tracking import MlflowClient\n",
    "import pandas as pd\n",
    "from pathlib import Path\n",
    "from sklearn import ensemble, model_selection\n",
    "from sklearn.linear_model import LinearRegression\n",
    "from sklearn.metrics import mean_squared_error, mean_absolute_error"
   ]
  },
  {
   "cell_type": "markdown",
   "metadata": {
    "id": "zw5Tap_Xwgej",
    "pycharm": {
     "name": "#%% md\n"
    }
   },
   "source": [
    "## Load Data"
   ]
  },
  {
   "cell_type": "markdown",
   "metadata": {
    "id": "VqGH1Mr6wgej",
    "pycharm": {
     "name": "#%% md\n"
    }
   },
   "source": [
    "More information about the dataset can be found in UCI machine learning repository: https://archive.ics.uci.edu/ml/datasets/bike+sharing+dataset\n",
    "\n",
    "Acknowledgement: Fanaee-T, Hadi, and Gama, Joao, 'Event labeling combining ensemble detectors and background knowledge', Progress in Artificial Intelligence (2013): pp. 1-15, Springer Berlin Heidelberg"
   ]
  },
  {
   "cell_type": "code",
   "execution_count": 2,
   "metadata": {
    "execution": {
     "iopub.execute_input": "2024-10-17T18:38:26.684276Z",
     "iopub.status.busy": "2024-10-17T18:38:26.683064Z",
     "iopub.status.idle": "2024-10-17T18:38:26.731728Z",
     "shell.execute_reply": "2024-10-17T18:38:26.731341Z",
     "shell.execute_reply.started": "2024-10-17T18:38:26.684242Z"
    },
    "id": "dKX2YV19wgek",
    "pycharm": {
     "name": "#%%\n"
    }
   },
   "outputs": [
    {
     "data": {
      "text/html": [
       "<div>\n",
       "<style scoped>\n",
       "    .dataframe tbody tr th:only-of-type {\n",
       "        vertical-align: middle;\n",
       "    }\n",
       "\n",
       "    .dataframe tbody tr th {\n",
       "        vertical-align: top;\n",
       "    }\n",
       "\n",
       "    .dataframe thead th {\n",
       "        text-align: right;\n",
       "    }\n",
       "</style>\n",
       "<table border=\"1\" class=\"dataframe\">\n",
       "  <thead>\n",
       "    <tr style=\"text-align: right;\">\n",
       "      <th></th>\n",
       "      <th>instant</th>\n",
       "      <th>dteday</th>\n",
       "      <th>season</th>\n",
       "      <th>yr</th>\n",
       "      <th>mnth</th>\n",
       "      <th>hr</th>\n",
       "      <th>holiday</th>\n",
       "      <th>weekday</th>\n",
       "      <th>workingday</th>\n",
       "      <th>weathersit</th>\n",
       "      <th>temp</th>\n",
       "      <th>atemp</th>\n",
       "      <th>hum</th>\n",
       "      <th>windspeed</th>\n",
       "      <th>casual</th>\n",
       "      <th>registered</th>\n",
       "      <th>cnt</th>\n",
       "    </tr>\n",
       "  </thead>\n",
       "  <tbody>\n",
       "    <tr>\n",
       "      <th>0</th>\n",
       "      <td>1</td>\n",
       "      <td>2011-01-01</td>\n",
       "      <td>1</td>\n",
       "      <td>0</td>\n",
       "      <td>1</td>\n",
       "      <td>0</td>\n",
       "      <td>0</td>\n",
       "      <td>6</td>\n",
       "      <td>0</td>\n",
       "      <td>1</td>\n",
       "      <td>0.24</td>\n",
       "      <td>0.2879</td>\n",
       "      <td>0.81</td>\n",
       "      <td>0.0</td>\n",
       "      <td>3</td>\n",
       "      <td>13</td>\n",
       "      <td>16</td>\n",
       "    </tr>\n",
       "    <tr>\n",
       "      <th>1</th>\n",
       "      <td>2</td>\n",
       "      <td>2011-01-01</td>\n",
       "      <td>1</td>\n",
       "      <td>0</td>\n",
       "      <td>1</td>\n",
       "      <td>1</td>\n",
       "      <td>0</td>\n",
       "      <td>6</td>\n",
       "      <td>0</td>\n",
       "      <td>1</td>\n",
       "      <td>0.22</td>\n",
       "      <td>0.2727</td>\n",
       "      <td>0.80</td>\n",
       "      <td>0.0</td>\n",
       "      <td>8</td>\n",
       "      <td>32</td>\n",
       "      <td>40</td>\n",
       "    </tr>\n",
       "    <tr>\n",
       "      <th>2</th>\n",
       "      <td>3</td>\n",
       "      <td>2011-01-01</td>\n",
       "      <td>1</td>\n",
       "      <td>0</td>\n",
       "      <td>1</td>\n",
       "      <td>2</td>\n",
       "      <td>0</td>\n",
       "      <td>6</td>\n",
       "      <td>0</td>\n",
       "      <td>1</td>\n",
       "      <td>0.22</td>\n",
       "      <td>0.2727</td>\n",
       "      <td>0.80</td>\n",
       "      <td>0.0</td>\n",
       "      <td>5</td>\n",
       "      <td>27</td>\n",
       "      <td>32</td>\n",
       "    </tr>\n",
       "    <tr>\n",
       "      <th>3</th>\n",
       "      <td>4</td>\n",
       "      <td>2011-01-01</td>\n",
       "      <td>1</td>\n",
       "      <td>0</td>\n",
       "      <td>1</td>\n",
       "      <td>3</td>\n",
       "      <td>0</td>\n",
       "      <td>6</td>\n",
       "      <td>0</td>\n",
       "      <td>1</td>\n",
       "      <td>0.24</td>\n",
       "      <td>0.2879</td>\n",
       "      <td>0.75</td>\n",
       "      <td>0.0</td>\n",
       "      <td>3</td>\n",
       "      <td>10</td>\n",
       "      <td>13</td>\n",
       "    </tr>\n",
       "    <tr>\n",
       "      <th>4</th>\n",
       "      <td>5</td>\n",
       "      <td>2011-01-01</td>\n",
       "      <td>1</td>\n",
       "      <td>0</td>\n",
       "      <td>1</td>\n",
       "      <td>4</td>\n",
       "      <td>0</td>\n",
       "      <td>6</td>\n",
       "      <td>0</td>\n",
       "      <td>1</td>\n",
       "      <td>0.24</td>\n",
       "      <td>0.2879</td>\n",
       "      <td>0.75</td>\n",
       "      <td>0.0</td>\n",
       "      <td>0</td>\n",
       "      <td>1</td>\n",
       "      <td>1</td>\n",
       "    </tr>\n",
       "  </tbody>\n",
       "</table>\n",
       "</div>"
      ],
      "text/plain": [
       "   instant      dteday  season  yr  mnth  hr  holiday  weekday  workingday  \\\n",
       "0        1  2011-01-01       1   0     1   0        0        6           0   \n",
       "1        2  2011-01-01       1   0     1   1        0        6           0   \n",
       "2        3  2011-01-01       1   0     1   2        0        6           0   \n",
       "3        4  2011-01-01       1   0     1   3        0        6           0   \n",
       "4        5  2011-01-01       1   0     1   4        0        6           0   \n",
       "\n",
       "   weathersit  temp   atemp   hum  windspeed  casual  registered  cnt  \n",
       "0           1  0.24  0.2879  0.81        0.0       3          13   16  \n",
       "1           1  0.22  0.2727  0.80        0.0       8          32   40  \n",
       "2           1  0.22  0.2727  0.80        0.0       5          27   32  \n",
       "3           1  0.24  0.2879  0.75        0.0       3          10   13  \n",
       "4           1  0.24  0.2879  0.75        0.0       0           1    1  "
      ]
     },
     "execution_count": 2,
     "metadata": {},
     "output_type": "execute_result"
    }
   ],
   "source": [
    "# Download original dataset with: python src/load_data.py \n",
    "\n",
    "raw_data = pd.read_csv(f\"../data/raw_data.csv\")\n",
    "raw_data.head()"
   ]
  },
  {
   "cell_type": "markdown",
   "metadata": {},
   "source": [
    "## Define column mapping"
   ]
  },
  {
   "cell_type": "code",
   "execution_count": 3,
   "metadata": {
    "execution": {
     "iopub.execute_input": "2024-10-17T18:38:28.051908Z",
     "iopub.status.busy": "2024-10-17T18:38:28.051282Z",
     "iopub.status.idle": "2024-10-17T18:38:28.079197Z",
     "shell.execute_reply": "2024-10-17T18:38:28.078413Z",
     "shell.execute_reply.started": "2024-10-17T18:38:28.051864Z"
    },
    "id": "_i8edS6Ewgem",
    "pycharm": {
     "name": "#%%\n"
    }
   },
   "outputs": [],
   "source": [
    "target = 'cnt'\n",
    "prediction = 'prediction'\n",
    "numerical_features = ['temp', 'atemp', 'hum', 'windspeed', 'mnth', 'hr', 'weekday']\n",
    "categorical_features = ['season', 'holiday', 'workingday', ]"
   ]
  },
  {
   "cell_type": "code",
   "execution_count": 4,
   "metadata": {
    "execution": {
     "iopub.execute_input": "2024-10-17T18:38:28.421183Z",
     "iopub.status.busy": "2024-10-17T18:38:28.420420Z",
     "iopub.status.idle": "2024-10-17T18:38:28.451055Z",
     "shell.execute_reply": "2024-10-17T18:38:28.450490Z",
     "shell.execute_reply.started": "2024-10-17T18:38:28.421141Z"
    },
    "id": "vTMu0TS_wgem",
    "pycharm": {
     "name": "#%%\n"
    }
   },
   "outputs": [
    {
     "name": "stdout",
     "output_type": "stream",
     "text": [
      "(594, 17)\n"
     ]
    }
   ],
   "source": [
    "sample_data = raw_data.set_index('dteday').loc['2011-01-01 00:00:00':'2011-01-28 23:00:00'].reset_index()\n",
    "\n",
    "print(sample_data.shape)"
   ]
  },
  {
   "cell_type": "code",
   "execution_count": 5,
   "metadata": {
    "execution": {
     "iopub.execute_input": "2024-10-17T18:38:28.702346Z",
     "iopub.status.busy": "2024-10-17T18:38:28.701761Z",
     "iopub.status.idle": "2024-10-17T18:38:28.730249Z",
     "shell.execute_reply": "2024-10-17T18:38:28.729767Z",
     "shell.execute_reply.started": "2024-10-17T18:38:28.702306Z"
    },
    "id": "dqiRpf2Swgem",
    "pycharm": {
     "name": "#%%\n"
    }
   },
   "outputs": [
    {
     "name": "stdout",
     "output_type": "stream",
     "text": [
      "(415, 10)\n",
      "(179, 10)\n"
     ]
    }
   ],
   "source": [
    "X_train, X_test, y_train, y_test = model_selection.train_test_split(\n",
    "    sample_data[numerical_features + categorical_features],\n",
    "    sample_data[target],\n",
    "    test_size=0.3\n",
    ")\n",
    "\n",
    "print(X_train.shape)\n",
    "print(X_test.shape)"
   ]
  },
  {
   "cell_type": "markdown",
   "metadata": {
    "id": "dhZOCJZ1wgel",
    "pycharm": {
     "name": "#%% md\n"
    }
   },
   "source": [
    "## Train a  Linear Regression Model"
   ]
  },
  {
   "cell_type": "code",
   "execution_count": 6,
   "metadata": {
    "execution": {
     "iopub.execute_input": "2024-10-17T18:38:29.460038Z",
     "iopub.status.busy": "2024-10-17T18:38:29.459712Z",
     "iopub.status.idle": "2024-10-17T18:38:29.479914Z",
     "shell.execute_reply": "2024-10-17T18:38:29.479584Z",
     "shell.execute_reply.started": "2024-10-17T18:38:29.460012Z"
    }
   },
   "outputs": [
    {
     "data": {
      "text/plain": [
       "['../models/model_lr.joblib']"
      ]
     },
     "execution_count": 6,
     "metadata": {},
     "output_type": "execute_result"
    }
   ],
   "source": [
    "model_lr = LinearRegression()\n",
    "model_lr.fit(X_train, y_train) \n",
    "\n",
    "model_lr_path = Path('../models/model_lr.joblib')\n",
    "joblib.dump(model_lr, model_lr_path)"
   ]
  },
  {
   "cell_type": "code",
   "execution_count": 7,
   "metadata": {
    "execution": {
     "iopub.execute_input": "2024-10-17T18:38:30.620424Z",
     "iopub.status.busy": "2024-10-17T18:38:30.619732Z",
     "iopub.status.idle": "2024-10-17T18:38:30.649426Z",
     "shell.execute_reply": "2024-10-17T18:38:30.648746Z",
     "shell.execute_reply.started": "2024-10-17T18:38:30.620383Z"
    }
   },
   "outputs": [
    {
     "name": "stdout",
     "output_type": "stream",
     "text": [
      "1951.469020528523 32.808413735394325\n"
     ]
    }
   ],
   "source": [
    "from sklearn.metrics import mean_squared_error, mean_absolute_error\n",
    "\n",
    "preds_lr = model_lr.predict(X_test)\n",
    "\n",
    "me = mean_squared_error(y_test, preds_lr)\n",
    "mae = mean_absolute_error(y_test, preds_lr)\n",
    "\n",
    "print(me, mae)"
   ]
  },
  {
   "cell_type": "markdown",
   "metadata": {},
   "source": [
    "## Train a RandomForestRegressor Model"
   ]
  },
  {
   "cell_type": "code",
   "execution_count": 8,
   "metadata": {
    "execution": {
     "iopub.execute_input": "2024-10-17T18:38:33.549717Z",
     "iopub.status.busy": "2024-10-17T18:38:33.548928Z",
     "iopub.status.idle": "2024-10-17T18:38:33.643115Z",
     "shell.execute_reply": "2024-10-17T18:38:33.642834Z",
     "shell.execute_reply.started": "2024-10-17T18:38:33.549669Z"
    },
    "id": "PWJv-0UKwgen",
    "pycharm": {
     "name": "#%%\n"
    }
   },
   "outputs": [
    {
     "data": {
      "text/plain": [
       "['../models/model_rf.joblib']"
      ]
     },
     "execution_count": 8,
     "metadata": {},
     "output_type": "execute_result"
    }
   ],
   "source": [
    "model_rf = ensemble.RandomForestRegressor(random_state = 0, n_estimators = 50)\n",
    "model_rf.fit(X_train, y_train) \n",
    "\n",
    "model_path = Path('../models/model_rf.joblib')\n",
    "joblib.dump(model_rf, model_path)"
   ]
  },
  {
   "cell_type": "code",
   "execution_count": 9,
   "metadata": {
    "execution": {
     "iopub.execute_input": "2024-10-17T18:38:33.857615Z",
     "iopub.status.busy": "2024-10-17T18:38:33.857177Z",
     "iopub.status.idle": "2024-10-17T18:38:33.879750Z",
     "shell.execute_reply": "2024-10-17T18:38:33.879443Z",
     "shell.execute_reply.started": "2024-10-17T18:38:33.857578Z"
    }
   },
   "outputs": [
    {
     "name": "stdout",
     "output_type": "stream",
     "text": [
      "360.01809385474866 12.35653631284916\n"
     ]
    }
   ],
   "source": [
    "\n",
    "preds_rf = model_rf.predict(X_test)\n",
    "\n",
    "me = mean_squared_error(y_test, preds_rf)\n",
    "mae = mean_absolute_error(y_test, preds_rf)\n",
    "\n",
    "print(me, mae)"
   ]
  },
  {
   "cell_type": "markdown",
   "metadata": {},
   "source": [
    "# Model Registry"
   ]
  },
  {
   "cell_type": "markdown",
   "metadata": {},
   "source": [
    "## Set up MLFlow"
   ]
  },
  {
   "cell_type": "code",
   "execution_count": 10,
   "metadata": {
    "execution": {
     "iopub.execute_input": "2024-10-17T18:38:42.638036Z",
     "iopub.status.busy": "2024-10-17T18:38:42.637220Z",
     "iopub.status.idle": "2024-10-17T18:38:42.709199Z",
     "shell.execute_reply": "2024-10-17T18:38:42.708904Z",
     "shell.execute_reply.started": "2024-10-17T18:38:42.637984Z"
    }
   },
   "outputs": [
    {
     "name": "stderr",
     "output_type": "stream",
     "text": [
      "2024/10/17 20:38:42 INFO mlflow.tracking.fluent: Experiment with name '4-Model-Registry' does not exist. Creating a new experiment.\n"
     ]
    },
    {
     "name": "stdout",
     "output_type": "stream",
     "text": [
      "Client tracking uri: http://localhost:5001\n"
     ]
    },
    {
     "data": {
      "text/plain": [
       "<Experiment: artifact_location='mlflow-artifacts:/994473481243827653', creation_time=1729190322703, experiment_id='994473481243827653', last_update_time=1729190322703, lifecycle_stage='active', name='4-Model-Registry', tags={}>"
      ]
     },
     "execution_count": 10,
     "metadata": {},
     "output_type": "execute_result"
    }
   ],
   "source": [
    "# Set up MLFlow \n",
    "MLFLOW_TRACKING_URI = \"http://localhost:5001\"\n",
    "mlflow.set_tracking_uri(MLFLOW_TRACKING_URI)\n",
    "\n",
    "# Set up MLFlow Client\n",
    "client = MlflowClient()\n",
    "print(f\"Client tracking uri: {client.tracking_uri}\")\n",
    "\n",
    "# Set experiment name\n",
    "mlflow.set_experiment('4-Model-Registry')\n"
   ]
  },
  {
   "cell_type": "markdown",
   "metadata": {},
   "source": [
    "## Registering a Model\n",
    "\n",
    "- Docs on [mlflow.sklearn.log_model](https://www.mlflow.org/docs/latest/python_api/mlflow.sklearn.html?highlight=save_model#mlflow.sklearn.log_model)"
   ]
  },
  {
   "cell_type": "markdown",
   "metadata": {},
   "source": [
    "### Log the `model_lr` model"
   ]
  },
  {
   "cell_type": "code",
   "execution_count": 11,
   "metadata": {
    "execution": {
     "iopub.execute_input": "2024-10-17T18:38:48.331457Z",
     "iopub.status.busy": "2024-10-17T18:38:48.330882Z",
     "iopub.status.idle": "2024-10-17T18:38:50.174170Z",
     "shell.execute_reply": "2024-10-17T18:38:50.173901Z",
     "shell.execute_reply.started": "2024-10-17T18:38:48.331423Z"
    },
    "scrolled": true
   },
   "outputs": [
    {
     "name": "stderr",
     "output_type": "stream",
     "text": [
      "2024/10/17 20:38:50 WARNING mlflow.models.model: Model logged without a signature and input example. Please set `input_example` parameter when logging the model to auto infer the model signature.\n",
      "2024/10/17 20:38:50 INFO mlflow.tracking._tracking_service.client: 🏃 View run unequaled-cat-317 at: http://localhost:5001/#/experiments/994473481243827653/runs/8379b07022da4bcab663c6c7743a080c.\n",
      "2024/10/17 20:38:50 INFO mlflow.tracking._tracking_service.client: 🧪 View experiment at: http://localhost:5001/#/experiments/994473481243827653.\n"
     ]
    }
   ],
   "source": [
    "with mlflow.start_run() as run: \n",
    "    \n",
    "    # Log the sklearn model and register as version 1\n",
    "    mlflow.sklearn.log_model(\n",
    "        sk_model=model_lr,\n",
    "        artifact_path=\"LinearRegression\"\n",
    "    )"
   ]
  },
  {
   "cell_type": "markdown",
   "metadata": {},
   "source": [
    "### Log and Register the `model_rf` model (3 times)\n",
    "\n",
    "- Use `registered_model_name` to register a model automatically.\n",
    "- If a registered model with the name doesn’t exist, the method registers a new model and creates `Version 1`.\n",
    "- If a registered model with the name exists, the method creates a new model version.\n",
    "\n",
    "INSTRUCTION: \n",
    "- Run the cell below 3 time to register 3 versions of the \"bike-sharing-RandomForestRegressor\" model"
   ]
  },
  {
   "cell_type": "code",
   "execution_count": 15,
   "metadata": {
    "execution": {
     "iopub.execute_input": "2024-10-17T18:39:39.959474Z",
     "iopub.status.busy": "2024-10-17T18:39:39.959360Z",
     "iopub.status.idle": "2024-10-17T18:39:41.227938Z",
     "shell.execute_reply": "2024-10-17T18:39:41.227693Z",
     "shell.execute_reply.started": "2024-10-17T18:39:39.959462Z"
    },
    "scrolled": true
   },
   "outputs": [
    {
     "name": "stdout",
     "output_type": "stream",
     "text": [
      "Experiment id: 994473481243827653\n",
      "Run id: afb821e5067c4ef199ee2221809a2288\n",
      "Run name: powerful-snipe-471\n",
      "MLFlow tracking uri: http://localhost:5001\n",
      "MLFlow artifact uri: mlflow-artifacts:/994473481243827653/afb821e5067c4ef199ee2221809a2288/artifacts\n"
     ]
    },
    {
     "name": "stderr",
     "output_type": "stream",
     "text": [
      "Registered model 'RandomForest' already exists. Creating a new version of this model...\n",
      "2024/10/17 20:39:41 INFO mlflow.store.model_registry.abstract_store: Waiting up to 300 seconds for model version to finish creation. Model name: RandomForest, version 3\n",
      "Created version '3' of model 'RandomForest'.\n",
      "2024/10/17 20:39:41 INFO mlflow.tracking._tracking_service.client: 🏃 View run powerful-snipe-471 at: http://localhost:5001/#/experiments/994473481243827653/runs/afb821e5067c4ef199ee2221809a2288.\n",
      "2024/10/17 20:39:41 INFO mlflow.tracking._tracking_service.client: 🧪 View experiment at: http://localhost:5001/#/experiments/994473481243827653.\n"
     ]
    }
   ],
   "source": [
    "from mlflow.models import infer_signature\n",
    "\n",
    "with mlflow.start_run() as run: \n",
    "\n",
    "    # Show newly created run metadata info\n",
    "    print(\"Experiment id: {}\".format(run.info.experiment_id))\n",
    "    print(\"Run id: {}\".format(run.info.run_id))\n",
    "    print(\"Run name: {}\".format(run.info.run_name))\n",
    "    print('MLFlow tracking uri:', mlflow.get_tracking_uri())\n",
    "    print('MLFlow artifact uri:', mlflow.get_artifact_uri())\n",
    "    run_id = run.info.run_id\n",
    "\n",
    "    # Infer the model signature\n",
    "    signature = infer_signature(y_test, preds_rf)\n",
    "\n",
    "    # Log the sklearn model and register as version 1\n",
    "    mlflow.sklearn.log_model(\n",
    "        sk_model=model_rf,\n",
    "        artifact_path=\"RandomForest\",\n",
    "        signature=signature,\n",
    "        registered_model_name=\"RandomForest\",\n",
    "    )"
   ]
  },
  {
   "cell_type": "code",
   "execution_count": 16,
   "metadata": {
    "execution": {
     "iopub.execute_input": "2024-10-17T18:39:41.929665Z",
     "iopub.status.busy": "2024-10-17T18:39:41.929096Z",
     "iopub.status.idle": "2024-10-17T18:39:41.965628Z",
     "shell.execute_reply": "2024-10-17T18:39:41.965219Z",
     "shell.execute_reply.started": "2024-10-17T18:39:41.929628Z"
    },
    "scrolled": true
   },
   "outputs": [
    {
     "data": {
      "text/plain": [
       "<ModelVersion: aliases=[], creation_timestamp=1729190381215, current_stage='None', description='This a model version 3 description added with update_model_version() method', last_updated_timestamp=1729190381960, name='RandomForest', run_id='afb821e5067c4ef199ee2221809a2288', run_link='', source='mlflow-artifacts:/994473481243827653/afb821e5067c4ef199ee2221809a2288/artifacts/RandomForest', status='READY', status_message='', tags={}, user_id='', version='3'>"
      ]
     },
     "execution_count": 16,
     "metadata": {},
     "output_type": "execute_result"
    }
   ],
   "source": [
    "# Adding or Updating an MLflow Model Descriptions\n",
    "\n",
    "client.update_model_version(\n",
    "    name=\"RandomForest\",\n",
    "    version=3,\n",
    "    description=\"This a model version 3 description added with update_model_version() method\",\n",
    ")\n",
    "\n",
    "# Note: if you got an error, make sure you run the previous cell 3 times and save 3 versions of the model! "
   ]
  },
  {
   "cell_type": "markdown",
   "metadata": {},
   "source": [
    "## Discover models and their stages"
   ]
  },
  {
   "cell_type": "code",
   "execution_count": 17,
   "metadata": {
    "execution": {
     "iopub.execute_input": "2024-10-17T18:40:21.951071Z",
     "iopub.status.busy": "2024-10-17T18:40:21.950566Z",
     "iopub.status.idle": "2024-10-17T18:40:21.977337Z",
     "shell.execute_reply": "2024-10-17T18:40:21.976899Z",
     "shell.execute_reply.started": "2024-10-17T18:40:21.951040Z"
    }
   },
   "outputs": [
    {
     "name": "stdout",
     "output_type": "stream",
     "text": [
      "{   'aliases': {},\n",
      "    'creation_timestamp': 1729187700020,\n",
      "    'description': '',\n",
      "    'last_updated_timestamp': 1729189398033,\n",
      "    'latest_versions': [   <ModelVersion: aliases=[], creation_timestamp=1729189398033, current_stage='None', description='', last_updated_timestamp=1729189398033, name='1-get-started-random-forest', run_id='1c0ee65e719445fbb7c53027741cf66d', run_link='', source='mlflow-artifacts:/0/1c0ee65e719445fbb7c53027741cf66d/artifacts/rf_model', status='READY', status_message='', tags={}, user_id='', version='2'>],\n",
      "    'name': '1-get-started-random-forest',\n",
      "    'tags': {}}\n",
      "{   'aliases': {},\n",
      "    'creation_timestamp': 1729190331423,\n",
      "    'description': '',\n",
      "    'last_updated_timestamp': 1729190381215,\n",
      "    'latest_versions': [   <ModelVersion: aliases=[], creation_timestamp=1729190381215, current_stage='None', description='This a model version 3 description added with update_model_version() method', last_updated_timestamp=1729190381960, name='RandomForest', run_id='afb821e5067c4ef199ee2221809a2288', run_link='', source='mlflow-artifacts:/994473481243827653/afb821e5067c4ef199ee2221809a2288/artifacts/RandomForest', status='READY', status_message='', tags={}, user_id='', version='3'>],\n",
      "    'name': 'RandomForest',\n",
      "    'tags': {}}\n"
     ]
    }
   ],
   "source": [
    "from pprint import pprint\n",
    "\n",
    "# Listing and Searching MLflow Models\n",
    "\n",
    "for rm in client.search_registered_models():\n",
    "    pprint(dict(rm), indent=4)"
   ]
  },
  {
   "cell_type": "code",
   "execution_count": 18,
   "metadata": {
    "execution": {
     "iopub.execute_input": "2024-10-17T18:40:22.910221Z",
     "iopub.status.busy": "2024-10-17T18:40:22.909412Z",
     "iopub.status.idle": "2024-10-17T18:40:22.946077Z",
     "shell.execute_reply": "2024-10-17T18:40:22.945554Z",
     "shell.execute_reply.started": "2024-10-17T18:40:22.910175Z"
    },
    "scrolled": true
   },
   "outputs": [
    {
     "name": "stdout",
     "output_type": "stream",
     "text": [
      "{   'aliases': [],\n",
      "    'creation_timestamp': 1729190381215,\n",
      "    'current_stage': 'None',\n",
      "    'description': 'This a model version 3 description added with '\n",
      "                   'update_model_version() method',\n",
      "    'last_updated_timestamp': 1729190381960,\n",
      "    'name': 'RandomForest',\n",
      "    'run_id': 'afb821e5067c4ef199ee2221809a2288',\n",
      "    'run_link': '',\n",
      "    'source': 'mlflow-artifacts:/994473481243827653/afb821e5067c4ef199ee2221809a2288/artifacts/RandomForest',\n",
      "    'status': 'READY',\n",
      "    'status_message': '',\n",
      "    'tags': {},\n",
      "    'user_id': '',\n",
      "    'version': '3'}\n",
      "{   'aliases': [],\n",
      "    'creation_timestamp': 1729190379945,\n",
      "    'current_stage': 'None',\n",
      "    'description': '',\n",
      "    'last_updated_timestamp': 1729190379945,\n",
      "    'name': 'RandomForest',\n",
      "    'run_id': '1aee443c4ccd4c60bea297a83ec25525',\n",
      "    'run_link': '',\n",
      "    'source': 'mlflow-artifacts:/994473481243827653/1aee443c4ccd4c60bea297a83ec25525/artifacts/RandomForest',\n",
      "    'status': 'READY',\n",
      "    'status_message': '',\n",
      "    'tags': {},\n",
      "    'user_id': '',\n",
      "    'version': '2'}\n",
      "{   'aliases': [],\n",
      "    'creation_timestamp': 1729190331429,\n",
      "    'current_stage': 'None',\n",
      "    'description': '',\n",
      "    'last_updated_timestamp': 1729190331429,\n",
      "    'name': 'RandomForest',\n",
      "    'run_id': 'ebb49946ed924b76a6346d97472eeebe',\n",
      "    'run_link': '',\n",
      "    'source': 'mlflow-artifacts:/994473481243827653/ebb49946ed924b76a6346d97472eeebe/artifacts/RandomForest',\n",
      "    'status': 'READY',\n",
      "    'status_message': '',\n",
      "    'tags': {},\n",
      "    'user_id': '',\n",
      "    'version': '1'}\n"
     ]
    }
   ],
   "source": [
    "# Search for a specific model name and list its version details \n",
    "\n",
    "for mv in client.search_model_versions(\"name='RandomForest'\"):\n",
    "    pprint(dict(mv), indent=4)"
   ]
  },
  {
   "cell_type": "markdown",
   "metadata": {},
   "source": [
    "## Transitioninig a model stage"
   ]
  },
  {
   "cell_type": "code",
   "execution_count": 19,
   "metadata": {
    "execution": {
     "iopub.execute_input": "2024-10-17T18:40:40.183284Z",
     "iopub.status.busy": "2024-10-17T18:40:40.182565Z",
     "iopub.status.idle": "2024-10-17T18:40:40.215259Z",
     "shell.execute_reply": "2024-10-17T18:40:40.214856Z",
     "shell.execute_reply.started": "2024-10-17T18:40:40.183240Z"
    },
    "scrolled": true
   },
   "outputs": [
    {
     "name": "stderr",
     "output_type": "stream",
     "text": [
      "/var/folders/28/ly259mjn413_8g33c4n20tvc0000gn/T/ipykernel_11047/15454823.py:4: FutureWarning: ``mlflow.tracking.client.MlflowClient.transition_model_version_stage`` is deprecated since 2.9.0. Model registry stages will be removed in a future major release. To learn more about the deprecation of model registry stages, see our migration guide here: https://mlflow.org/docs/latest/model-registry.html#migrating-from-stages\n",
      "  client.transition_model_version_stage(\n"
     ]
    },
    {
     "data": {
      "text/plain": [
       "<ModelVersion: aliases=[], creation_timestamp=1729190381215, current_stage='Production', description='This a model version 3 description added with update_model_version() method', last_updated_timestamp=1729190440209, name='RandomForest', run_id='afb821e5067c4ef199ee2221809a2288', run_link='', source='mlflow-artifacts:/994473481243827653/afb821e5067c4ef199ee2221809a2288/artifacts/RandomForest', status='READY', status_message='', tags={}, user_id='', version='3'>"
      ]
     },
     "execution_count": 19,
     "metadata": {},
     "output_type": "execute_result"
    }
   ],
   "source": [
    "# Over the course of the model’s lifecycle, a model evolves—from development to staging to production. \n",
    "# You can transition a registered model to one of the stages: Staging, Production or Archived.\n",
    "\n",
    "client.transition_model_version_stage(\n",
    "    name=\"RandomForest\", version=3, stage=\"Production\"\n",
    ")"
   ]
  },
  {
   "cell_type": "markdown",
   "metadata": {},
   "source": [
    "## Download and use models from the registry"
   ]
  },
  {
   "cell_type": "code",
   "execution_count": 20,
   "metadata": {
    "execution": {
     "iopub.execute_input": "2024-10-17T18:41:01.855780Z",
     "iopub.status.busy": "2024-10-17T18:41:01.855208Z",
     "iopub.status.idle": "2024-10-17T18:41:01.882538Z",
     "shell.execute_reply": "2024-10-17T18:41:01.881811Z",
     "shell.execute_reply.started": "2024-10-17T18:41:01.855737Z"
    }
   },
   "outputs": [],
   "source": [
    "model_version_uri = \"models:/example-model@Champion\""
   ]
  },
  {
   "cell_type": "code",
   "execution_count": 21,
   "metadata": {
    "execution": {
     "iopub.execute_input": "2024-10-17T18:41:03.060050Z",
     "iopub.status.busy": "2024-10-17T18:41:03.059253Z",
     "iopub.status.idle": "2024-10-17T18:41:03.227239Z",
     "shell.execute_reply": "2024-10-17T18:41:03.226940Z",
     "shell.execute_reply.started": "2024-10-17T18:41:03.060011Z"
    },
    "scrolled": true
   },
   "outputs": [
    {
     "data": {
      "application/vnd.jupyter.widget-view+json": {
       "model_id": "e3495d95101f4dcfa007ba9b1b9395a2",
       "version_major": 2,
       "version_minor": 0
      },
      "text/plain": [
       "Downloading artifacts:   0%|          | 0/5 [00:00<?, ?it/s]"
      ]
     },
     "metadata": {},
     "output_type": "display_data"
    },
    {
     "data": {
      "text/html": [
       "<style>#sk-container-id-1 {\n",
       "  /* Definition of color scheme common for light and dark mode */\n",
       "  --sklearn-color-text: black;\n",
       "  --sklearn-color-line: gray;\n",
       "  /* Definition of color scheme for unfitted estimators */\n",
       "  --sklearn-color-unfitted-level-0: #fff5e6;\n",
       "  --sklearn-color-unfitted-level-1: #f6e4d2;\n",
       "  --sklearn-color-unfitted-level-2: #ffe0b3;\n",
       "  --sklearn-color-unfitted-level-3: chocolate;\n",
       "  /* Definition of color scheme for fitted estimators */\n",
       "  --sklearn-color-fitted-level-0: #f0f8ff;\n",
       "  --sklearn-color-fitted-level-1: #d4ebff;\n",
       "  --sklearn-color-fitted-level-2: #b3dbfd;\n",
       "  --sklearn-color-fitted-level-3: cornflowerblue;\n",
       "\n",
       "  /* Specific color for light theme */\n",
       "  --sklearn-color-text-on-default-background: var(--sg-text-color, var(--theme-code-foreground, var(--jp-content-font-color1, black)));\n",
       "  --sklearn-color-background: var(--sg-background-color, var(--theme-background, var(--jp-layout-color0, white)));\n",
       "  --sklearn-color-border-box: var(--sg-text-color, var(--theme-code-foreground, var(--jp-content-font-color1, black)));\n",
       "  --sklearn-color-icon: #696969;\n",
       "\n",
       "  @media (prefers-color-scheme: dark) {\n",
       "    /* Redefinition of color scheme for dark theme */\n",
       "    --sklearn-color-text-on-default-background: var(--sg-text-color, var(--theme-code-foreground, var(--jp-content-font-color1, white)));\n",
       "    --sklearn-color-background: var(--sg-background-color, var(--theme-background, var(--jp-layout-color0, #111)));\n",
       "    --sklearn-color-border-box: var(--sg-text-color, var(--theme-code-foreground, var(--jp-content-font-color1, white)));\n",
       "    --sklearn-color-icon: #878787;\n",
       "  }\n",
       "}\n",
       "\n",
       "#sk-container-id-1 {\n",
       "  color: var(--sklearn-color-text);\n",
       "}\n",
       "\n",
       "#sk-container-id-1 pre {\n",
       "  padding: 0;\n",
       "}\n",
       "\n",
       "#sk-container-id-1 input.sk-hidden--visually {\n",
       "  border: 0;\n",
       "  clip: rect(1px 1px 1px 1px);\n",
       "  clip: rect(1px, 1px, 1px, 1px);\n",
       "  height: 1px;\n",
       "  margin: -1px;\n",
       "  overflow: hidden;\n",
       "  padding: 0;\n",
       "  position: absolute;\n",
       "  width: 1px;\n",
       "}\n",
       "\n",
       "#sk-container-id-1 div.sk-dashed-wrapped {\n",
       "  border: 1px dashed var(--sklearn-color-line);\n",
       "  margin: 0 0.4em 0.5em 0.4em;\n",
       "  box-sizing: border-box;\n",
       "  padding-bottom: 0.4em;\n",
       "  background-color: var(--sklearn-color-background);\n",
       "}\n",
       "\n",
       "#sk-container-id-1 div.sk-container {\n",
       "  /* jupyter's `normalize.less` sets `[hidden] { display: none; }`\n",
       "     but bootstrap.min.css set `[hidden] { display: none !important; }`\n",
       "     so we also need the `!important` here to be able to override the\n",
       "     default hidden behavior on the sphinx rendered scikit-learn.org.\n",
       "     See: https://github.com/scikit-learn/scikit-learn/issues/21755 */\n",
       "  display: inline-block !important;\n",
       "  position: relative;\n",
       "}\n",
       "\n",
       "#sk-container-id-1 div.sk-text-repr-fallback {\n",
       "  display: none;\n",
       "}\n",
       "\n",
       "div.sk-parallel-item,\n",
       "div.sk-serial,\n",
       "div.sk-item {\n",
       "  /* draw centered vertical line to link estimators */\n",
       "  background-image: linear-gradient(var(--sklearn-color-text-on-default-background), var(--sklearn-color-text-on-default-background));\n",
       "  background-size: 2px 100%;\n",
       "  background-repeat: no-repeat;\n",
       "  background-position: center center;\n",
       "}\n",
       "\n",
       "/* Parallel-specific style estimator block */\n",
       "\n",
       "#sk-container-id-1 div.sk-parallel-item::after {\n",
       "  content: \"\";\n",
       "  width: 100%;\n",
       "  border-bottom: 2px solid var(--sklearn-color-text-on-default-background);\n",
       "  flex-grow: 1;\n",
       "}\n",
       "\n",
       "#sk-container-id-1 div.sk-parallel {\n",
       "  display: flex;\n",
       "  align-items: stretch;\n",
       "  justify-content: center;\n",
       "  background-color: var(--sklearn-color-background);\n",
       "  position: relative;\n",
       "}\n",
       "\n",
       "#sk-container-id-1 div.sk-parallel-item {\n",
       "  display: flex;\n",
       "  flex-direction: column;\n",
       "}\n",
       "\n",
       "#sk-container-id-1 div.sk-parallel-item:first-child::after {\n",
       "  align-self: flex-end;\n",
       "  width: 50%;\n",
       "}\n",
       "\n",
       "#sk-container-id-1 div.sk-parallel-item:last-child::after {\n",
       "  align-self: flex-start;\n",
       "  width: 50%;\n",
       "}\n",
       "\n",
       "#sk-container-id-1 div.sk-parallel-item:only-child::after {\n",
       "  width: 0;\n",
       "}\n",
       "\n",
       "/* Serial-specific style estimator block */\n",
       "\n",
       "#sk-container-id-1 div.sk-serial {\n",
       "  display: flex;\n",
       "  flex-direction: column;\n",
       "  align-items: center;\n",
       "  background-color: var(--sklearn-color-background);\n",
       "  padding-right: 1em;\n",
       "  padding-left: 1em;\n",
       "}\n",
       "\n",
       "\n",
       "/* Toggleable style: style used for estimator/Pipeline/ColumnTransformer box that is\n",
       "clickable and can be expanded/collapsed.\n",
       "- Pipeline and ColumnTransformer use this feature and define the default style\n",
       "- Estimators will overwrite some part of the style using the `sk-estimator` class\n",
       "*/\n",
       "\n",
       "/* Pipeline and ColumnTransformer style (default) */\n",
       "\n",
       "#sk-container-id-1 div.sk-toggleable {\n",
       "  /* Default theme specific background. It is overwritten whether we have a\n",
       "  specific estimator or a Pipeline/ColumnTransformer */\n",
       "  background-color: var(--sklearn-color-background);\n",
       "}\n",
       "\n",
       "/* Toggleable label */\n",
       "#sk-container-id-1 label.sk-toggleable__label {\n",
       "  cursor: pointer;\n",
       "  display: block;\n",
       "  width: 100%;\n",
       "  margin-bottom: 0;\n",
       "  padding: 0.5em;\n",
       "  box-sizing: border-box;\n",
       "  text-align: center;\n",
       "}\n",
       "\n",
       "#sk-container-id-1 label.sk-toggleable__label-arrow:before {\n",
       "  /* Arrow on the left of the label */\n",
       "  content: \"▸\";\n",
       "  float: left;\n",
       "  margin-right: 0.25em;\n",
       "  color: var(--sklearn-color-icon);\n",
       "}\n",
       "\n",
       "#sk-container-id-1 label.sk-toggleable__label-arrow:hover:before {\n",
       "  color: var(--sklearn-color-text);\n",
       "}\n",
       "\n",
       "/* Toggleable content - dropdown */\n",
       "\n",
       "#sk-container-id-1 div.sk-toggleable__content {\n",
       "  max-height: 0;\n",
       "  max-width: 0;\n",
       "  overflow: hidden;\n",
       "  text-align: left;\n",
       "  /* unfitted */\n",
       "  background-color: var(--sklearn-color-unfitted-level-0);\n",
       "}\n",
       "\n",
       "#sk-container-id-1 div.sk-toggleable__content.fitted {\n",
       "  /* fitted */\n",
       "  background-color: var(--sklearn-color-fitted-level-0);\n",
       "}\n",
       "\n",
       "#sk-container-id-1 div.sk-toggleable__content pre {\n",
       "  margin: 0.2em;\n",
       "  border-radius: 0.25em;\n",
       "  color: var(--sklearn-color-text);\n",
       "  /* unfitted */\n",
       "  background-color: var(--sklearn-color-unfitted-level-0);\n",
       "}\n",
       "\n",
       "#sk-container-id-1 div.sk-toggleable__content.fitted pre {\n",
       "  /* unfitted */\n",
       "  background-color: var(--sklearn-color-fitted-level-0);\n",
       "}\n",
       "\n",
       "#sk-container-id-1 input.sk-toggleable__control:checked~div.sk-toggleable__content {\n",
       "  /* Expand drop-down */\n",
       "  max-height: 200px;\n",
       "  max-width: 100%;\n",
       "  overflow: auto;\n",
       "}\n",
       "\n",
       "#sk-container-id-1 input.sk-toggleable__control:checked~label.sk-toggleable__label-arrow:before {\n",
       "  content: \"▾\";\n",
       "}\n",
       "\n",
       "/* Pipeline/ColumnTransformer-specific style */\n",
       "\n",
       "#sk-container-id-1 div.sk-label input.sk-toggleable__control:checked~label.sk-toggleable__label {\n",
       "  color: var(--sklearn-color-text);\n",
       "  background-color: var(--sklearn-color-unfitted-level-2);\n",
       "}\n",
       "\n",
       "#sk-container-id-1 div.sk-label.fitted input.sk-toggleable__control:checked~label.sk-toggleable__label {\n",
       "  background-color: var(--sklearn-color-fitted-level-2);\n",
       "}\n",
       "\n",
       "/* Estimator-specific style */\n",
       "\n",
       "/* Colorize estimator box */\n",
       "#sk-container-id-1 div.sk-estimator input.sk-toggleable__control:checked~label.sk-toggleable__label {\n",
       "  /* unfitted */\n",
       "  background-color: var(--sklearn-color-unfitted-level-2);\n",
       "}\n",
       "\n",
       "#sk-container-id-1 div.sk-estimator.fitted input.sk-toggleable__control:checked~label.sk-toggleable__label {\n",
       "  /* fitted */\n",
       "  background-color: var(--sklearn-color-fitted-level-2);\n",
       "}\n",
       "\n",
       "#sk-container-id-1 div.sk-label label.sk-toggleable__label,\n",
       "#sk-container-id-1 div.sk-label label {\n",
       "  /* The background is the default theme color */\n",
       "  color: var(--sklearn-color-text-on-default-background);\n",
       "}\n",
       "\n",
       "/* On hover, darken the color of the background */\n",
       "#sk-container-id-1 div.sk-label:hover label.sk-toggleable__label {\n",
       "  color: var(--sklearn-color-text);\n",
       "  background-color: var(--sklearn-color-unfitted-level-2);\n",
       "}\n",
       "\n",
       "/* Label box, darken color on hover, fitted */\n",
       "#sk-container-id-1 div.sk-label.fitted:hover label.sk-toggleable__label.fitted {\n",
       "  color: var(--sklearn-color-text);\n",
       "  background-color: var(--sklearn-color-fitted-level-2);\n",
       "}\n",
       "\n",
       "/* Estimator label */\n",
       "\n",
       "#sk-container-id-1 div.sk-label label {\n",
       "  font-family: monospace;\n",
       "  font-weight: bold;\n",
       "  display: inline-block;\n",
       "  line-height: 1.2em;\n",
       "}\n",
       "\n",
       "#sk-container-id-1 div.sk-label-container {\n",
       "  text-align: center;\n",
       "}\n",
       "\n",
       "/* Estimator-specific */\n",
       "#sk-container-id-1 div.sk-estimator {\n",
       "  font-family: monospace;\n",
       "  border: 1px dotted var(--sklearn-color-border-box);\n",
       "  border-radius: 0.25em;\n",
       "  box-sizing: border-box;\n",
       "  margin-bottom: 0.5em;\n",
       "  /* unfitted */\n",
       "  background-color: var(--sklearn-color-unfitted-level-0);\n",
       "}\n",
       "\n",
       "#sk-container-id-1 div.sk-estimator.fitted {\n",
       "  /* fitted */\n",
       "  background-color: var(--sklearn-color-fitted-level-0);\n",
       "}\n",
       "\n",
       "/* on hover */\n",
       "#sk-container-id-1 div.sk-estimator:hover {\n",
       "  /* unfitted */\n",
       "  background-color: var(--sklearn-color-unfitted-level-2);\n",
       "}\n",
       "\n",
       "#sk-container-id-1 div.sk-estimator.fitted:hover {\n",
       "  /* fitted */\n",
       "  background-color: var(--sklearn-color-fitted-level-2);\n",
       "}\n",
       "\n",
       "/* Specification for estimator info (e.g. \"i\" and \"?\") */\n",
       "\n",
       "/* Common style for \"i\" and \"?\" */\n",
       "\n",
       ".sk-estimator-doc-link,\n",
       "a:link.sk-estimator-doc-link,\n",
       "a:visited.sk-estimator-doc-link {\n",
       "  float: right;\n",
       "  font-size: smaller;\n",
       "  line-height: 1em;\n",
       "  font-family: monospace;\n",
       "  background-color: var(--sklearn-color-background);\n",
       "  border-radius: 1em;\n",
       "  height: 1em;\n",
       "  width: 1em;\n",
       "  text-decoration: none !important;\n",
       "  margin-left: 1ex;\n",
       "  /* unfitted */\n",
       "  border: var(--sklearn-color-unfitted-level-1) 1pt solid;\n",
       "  color: var(--sklearn-color-unfitted-level-1);\n",
       "}\n",
       "\n",
       ".sk-estimator-doc-link.fitted,\n",
       "a:link.sk-estimator-doc-link.fitted,\n",
       "a:visited.sk-estimator-doc-link.fitted {\n",
       "  /* fitted */\n",
       "  border: var(--sklearn-color-fitted-level-1) 1pt solid;\n",
       "  color: var(--sklearn-color-fitted-level-1);\n",
       "}\n",
       "\n",
       "/* On hover */\n",
       "div.sk-estimator:hover .sk-estimator-doc-link:hover,\n",
       ".sk-estimator-doc-link:hover,\n",
       "div.sk-label-container:hover .sk-estimator-doc-link:hover,\n",
       ".sk-estimator-doc-link:hover {\n",
       "  /* unfitted */\n",
       "  background-color: var(--sklearn-color-unfitted-level-3);\n",
       "  color: var(--sklearn-color-background);\n",
       "  text-decoration: none;\n",
       "}\n",
       "\n",
       "div.sk-estimator.fitted:hover .sk-estimator-doc-link.fitted:hover,\n",
       ".sk-estimator-doc-link.fitted:hover,\n",
       "div.sk-label-container:hover .sk-estimator-doc-link.fitted:hover,\n",
       ".sk-estimator-doc-link.fitted:hover {\n",
       "  /* fitted */\n",
       "  background-color: var(--sklearn-color-fitted-level-3);\n",
       "  color: var(--sklearn-color-background);\n",
       "  text-decoration: none;\n",
       "}\n",
       "\n",
       "/* Span, style for the box shown on hovering the info icon */\n",
       ".sk-estimator-doc-link span {\n",
       "  display: none;\n",
       "  z-index: 9999;\n",
       "  position: relative;\n",
       "  font-weight: normal;\n",
       "  right: .2ex;\n",
       "  padding: .5ex;\n",
       "  margin: .5ex;\n",
       "  width: min-content;\n",
       "  min-width: 20ex;\n",
       "  max-width: 50ex;\n",
       "  color: var(--sklearn-color-text);\n",
       "  box-shadow: 2pt 2pt 4pt #999;\n",
       "  /* unfitted */\n",
       "  background: var(--sklearn-color-unfitted-level-0);\n",
       "  border: .5pt solid var(--sklearn-color-unfitted-level-3);\n",
       "}\n",
       "\n",
       ".sk-estimator-doc-link.fitted span {\n",
       "  /* fitted */\n",
       "  background: var(--sklearn-color-fitted-level-0);\n",
       "  border: var(--sklearn-color-fitted-level-3);\n",
       "}\n",
       "\n",
       ".sk-estimator-doc-link:hover span {\n",
       "  display: block;\n",
       "}\n",
       "\n",
       "/* \"?\"-specific style due to the `<a>` HTML tag */\n",
       "\n",
       "#sk-container-id-1 a.estimator_doc_link {\n",
       "  float: right;\n",
       "  font-size: 1rem;\n",
       "  line-height: 1em;\n",
       "  font-family: monospace;\n",
       "  background-color: var(--sklearn-color-background);\n",
       "  border-radius: 1rem;\n",
       "  height: 1rem;\n",
       "  width: 1rem;\n",
       "  text-decoration: none;\n",
       "  /* unfitted */\n",
       "  color: var(--sklearn-color-unfitted-level-1);\n",
       "  border: var(--sklearn-color-unfitted-level-1) 1pt solid;\n",
       "}\n",
       "\n",
       "#sk-container-id-1 a.estimator_doc_link.fitted {\n",
       "  /* fitted */\n",
       "  border: var(--sklearn-color-fitted-level-1) 1pt solid;\n",
       "  color: var(--sklearn-color-fitted-level-1);\n",
       "}\n",
       "\n",
       "/* On hover */\n",
       "#sk-container-id-1 a.estimator_doc_link:hover {\n",
       "  /* unfitted */\n",
       "  background-color: var(--sklearn-color-unfitted-level-3);\n",
       "  color: var(--sklearn-color-background);\n",
       "  text-decoration: none;\n",
       "}\n",
       "\n",
       "#sk-container-id-1 a.estimator_doc_link.fitted:hover {\n",
       "  /* fitted */\n",
       "  background-color: var(--sklearn-color-fitted-level-3);\n",
       "}\n",
       "</style><div id=\"sk-container-id-1\" class=\"sk-top-container\"><div class=\"sk-text-repr-fallback\"><pre>RandomForestRegressor(n_estimators=50, random_state=0)</pre><b>In a Jupyter environment, please rerun this cell to show the HTML representation or trust the notebook. <br />On GitHub, the HTML representation is unable to render, please try loading this page with nbviewer.org.</b></div><div class=\"sk-container\" hidden><div class=\"sk-item\"><div class=\"sk-estimator fitted sk-toggleable\"><input class=\"sk-toggleable__control sk-hidden--visually\" id=\"sk-estimator-id-1\" type=\"checkbox\" checked><label for=\"sk-estimator-id-1\" class=\"sk-toggleable__label fitted sk-toggleable__label-arrow fitted\">&nbsp;&nbsp;RandomForestRegressor<a class=\"sk-estimator-doc-link fitted\" rel=\"noreferrer\" target=\"_blank\" href=\"https://scikit-learn.org/1.5/modules/generated/sklearn.ensemble.RandomForestRegressor.html\">?<span>Documentation for RandomForestRegressor</span></a><span class=\"sk-estimator-doc-link fitted\">i<span>Fitted</span></span></label><div class=\"sk-toggleable__content fitted\"><pre>RandomForestRegressor(n_estimators=50, random_state=0)</pre></div> </div></div></div></div>"
      ],
      "text/plain": [
       "RandomForestRegressor(n_estimators=50, random_state=0)"
      ]
     },
     "execution_count": 21,
     "metadata": {},
     "output_type": "execute_result"
    }
   ],
   "source": [
    "# Load the model from the model registry and score\n",
    "model_uri = f\"models:/RandomForest/3\"\n",
    "loaded_model = mlflow.sklearn.load_model(model_uri)\n",
    "loaded_model"
   ]
  },
  {
   "cell_type": "code",
   "execution_count": 22,
   "metadata": {
    "execution": {
     "iopub.execute_input": "2024-10-17T18:41:04.399575Z",
     "iopub.status.busy": "2024-10-17T18:41:04.398742Z",
     "iopub.status.idle": "2024-10-17T18:41:04.433818Z",
     "shell.execute_reply": "2024-10-17T18:41:04.433433Z",
     "shell.execute_reply.started": "2024-10-17T18:41:04.399537Z"
    },
    "scrolled": true
   },
   "outputs": [
    {
     "data": {
      "text/plain": [
       "array([ 55.94,  49.42,   4.68,  31.98,  53.1 , 139.84, 129.62,  22.1 ,\n",
       "       100.26,  62.8 ,  73.24,  62.8 ,  69.68, 100.6 ,  42.22,  70.56,\n",
       "       103.14,  84.72, 112.4 , 185.3 , 152.9 ,   4.08,  55.96, 112.56,\n",
       "        10.82,  57.22,  22.08,  89.2 ,  75.88,   7.52,  27.64, 154.14,\n",
       "        69.16,  18.66,   6.74,  70.22,  94.92, 157.36,  64.8 ,  39.32,\n",
       "        69.7 , 149.48, 174.44,  36.32,  36.76,   1.84,   8.74, 112.76,\n",
       "        80.34,  50.28,  25.62,   4.14,  43.96,  52.2 , 117.96,   1.74,\n",
       "        66.66,  72.1 ,  63.06,   3.22, 126.64,   4.96,  77.8 , 152.08,\n",
       "         3.98,   5.34,  46.34,  56.4 ,  73.38,  79.86,  10.  ,  13.3 ,\n",
       "       147.46,   3.3 ,  63.96, 159.26,  33.82,  31.52,   2.62,   3.68,\n",
       "       112.02,  17.68,  61.92,  61.14,  67.56,  66.66,   2.76,  59.1 ,\n",
       "         5.52,  78.38,  63.16,   1.8 ,  31.  ,  50.64,  28.1 , 145.54,\n",
       "        82.56,  30.14,  17.22,  76.08,  73.9 ,  78.42,  98.26,  72.52,\n",
       "        65.7 ,  45.48,  34.86,  19.38,  21.9 ,  53.44,   2.32,   2.44,\n",
       "        14.7 ,  86.58, 151.04,  80.34,  13.64, 140.74,  12.38,  69.98,\n",
       "        58.42,  33.4 ,  10.96, 152.76,  79.22, 113.18,  75.26,  21.14,\n",
       "        80.04,  37.6 ,  75.62,  42.06, 179.2 ,  54.  ,  86.94,  85.06,\n",
       "         8.92,  40.66, 120.52,   2.46,  10.84,  75.46,   3.14,  79.58,\n",
       "        31.94,  76.98,   6.68,  55.88,  18.2 ,  51.18,  72.56,  72.5 ,\n",
       "        49.76,  16.54,  39.16,  51.98,  50.  ,  86.66,  17.84,   3.06,\n",
       "        55.54,  62.1 , 114.62,  41.68,  13.34,  66.56,   3.3 ,  43.16,\n",
       "        71.68,   9.84,   7.36,   5.86,  81.48,  16.62,  26.48,  69.54,\n",
       "        72.18, 149.62,  12.74])"
      ]
     },
     "execution_count": 22,
     "metadata": {},
     "output_type": "execute_result"
    }
   ],
   "source": [
    "loaded_model.predict(X_test)"
   ]
  },
  {
   "cell_type": "markdown",
   "metadata": {},
   "source": [
    "## Deregistering, Deleting and Archiving models "
   ]
  },
  {
   "cell_type": "code",
   "execution_count": 23,
   "metadata": {
    "execution": {
     "iopub.execute_input": "2024-10-17T18:41:26.942230Z",
     "iopub.status.busy": "2024-10-17T18:41:26.941718Z",
     "iopub.status.idle": "2024-10-17T18:41:26.983363Z",
     "shell.execute_reply": "2024-10-17T18:41:26.982973Z",
     "shell.execute_reply.started": "2024-10-17T18:41:26.942193Z"
    }
   },
   "outputs": [
    {
     "name": "stderr",
     "output_type": "stream",
     "text": [
      "/var/folders/28/ly259mjn413_8g33c4n20tvc0000gn/T/ipykernel_11047/1646888081.py:4: FutureWarning: ``mlflow.tracking.client.MlflowClient.transition_model_version_stage`` is deprecated since 2.9.0. Model registry stages will be removed in a future major release. To learn more about the deprecation of model registry stages, see our migration guide here: https://mlflow.org/docs/latest/model-registry.html#migrating-from-stages\n",
      "  client.transition_model_version_stage(\n"
     ]
    },
    {
     "data": {
      "text/plain": [
       "<ModelVersion: aliases=[], creation_timestamp=1729190379945, current_stage='Archived', description='', last_updated_timestamp=1729190486972, name='RandomForest', run_id='1aee443c4ccd4c60bea297a83ec25525', run_link='', source='mlflow-artifacts:/994473481243827653/1aee443c4ccd4c60bea297a83ec25525/artifacts/RandomForest', status='READY', status_message='', tags={}, user_id='', version='2'>"
      ]
     },
     "execution_count": 23,
     "metadata": {},
     "output_type": "execute_result"
    }
   ],
   "source": [
    "# Archive models version 3 from Production into Archived\n",
    "\n",
    "client = MlflowClient()\n",
    "client.transition_model_version_stage(\n",
    "    name=\"RandomForest\", version=2, stage=\"Archived\"\n",
    ")"
   ]
  },
  {
   "cell_type": "code",
   "execution_count": 24,
   "metadata": {
    "execution": {
     "iopub.execute_input": "2024-10-17T18:41:27.206699Z",
     "iopub.status.busy": "2024-10-17T18:41:27.206217Z",
     "iopub.status.idle": "2024-10-17T18:41:27.240777Z",
     "shell.execute_reply": "2024-10-17T18:41:27.240298Z",
     "shell.execute_reply.started": "2024-10-17T18:41:27.206667Z"
    },
    "scrolled": true
   },
   "outputs": [],
   "source": [
    "# Note: Deleting registered models or model versions is irrevocable, so use it judiciously.\n",
    "\n",
    "# Delete version 1 of the model\n",
    "client.delete_model_version(\n",
    "    name=\"RandomForest\", version=1\n",
    ")"
   ]
  },
  {
   "cell_type": "code",
   "execution_count": null,
   "metadata": {},
   "outputs": [],
   "source": []
  }
 ],
 "metadata": {
  "colab": {
   "provenance": []
  },
  "kernelspec": {
   "display_name": "Python 3 (ipykernel)",
   "language": "python",
   "name": "python3"
  },
  "language_info": {
   "codemirror_mode": {
    "name": "ipython",
    "version": 3
   },
   "file_extension": ".py",
   "mimetype": "text/x-python",
   "name": "python",
   "nbconvert_exporter": "python",
   "pygments_lexer": "ipython3",
   "version": "3.11.6"
  },
  "toc": {
   "base_numbering": 1,
   "nav_menu": {},
   "number_sections": true,
   "sideBar": true,
   "skip_h1_title": false,
   "title_cell": "Table of Contents",
   "title_sidebar": "Contents",
   "toc_cell": false,
   "toc_position": {},
   "toc_section_display": true,
   "toc_window_display": false
  }
 },
 "nbformat": 4,
 "nbformat_minor": 4
}
