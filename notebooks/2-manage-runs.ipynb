{
 "cells": [
  {
   "cell_type": "markdown",
   "metadata": {
    "id": "QgumzOZ5wgec",
    "pycharm": {
     "name": "#%% md\n"
    }
   },
   "source": [
    "# Model Training with K-Folds Cross-Validation"
   ]
  },
  {
   "cell_type": "code",
   "execution_count": 1,
   "metadata": {
    "execution": {
     "iopub.execute_input": "2025-06-17T02:35:38.406785Z",
     "iopub.status.busy": "2025-06-17T02:35:38.406265Z",
     "iopub.status.idle": "2025-06-17T02:35:39.827038Z",
     "shell.execute_reply": "2025-06-17T02:35:39.826725Z",
     "shell.execute_reply.started": "2025-06-17T02:35:38.406731Z"
    },
    "id": "rByuPhg7wgei",
    "pycharm": {
     "name": "#%%\n"
    }
   },
   "outputs": [],
   "source": [
    "%load_ext autoreload\n",
    "%autoreload 2\n",
    "\n",
    "import joblib\n",
    "import mlflow\n",
    "import mlflow.sklearn\n",
    "from mlflow.tracking import MlflowClient\n",
    "import pandas as pd\n",
    "\n",
    "from pathlib import Path\n",
    "from sklearn import ensemble\n",
    "from sklearn.metrics import mean_squared_error, mean_absolute_error\n",
    "from typing import Dict, Tuple"
   ]
  },
  {
   "cell_type": "markdown",
   "metadata": {},
   "source": [
    "# Prepare Data"
   ]
  },
  {
   "cell_type": "markdown",
   "metadata": {
    "id": "zw5Tap_Xwgej",
    "pycharm": {
     "name": "#%% md\n"
    }
   },
   "source": [
    "## Load Data"
   ]
  },
  {
   "cell_type": "markdown",
   "metadata": {
    "id": "VqGH1Mr6wgej",
    "pycharm": {
     "name": "#%% md\n"
    }
   },
   "source": [
    "More information about the dataset can be found in UCI machine learning repository: https://archive.ics.uci.edu/ml/datasets/bike+sharing+dataset\n",
    "\n",
    "Acknowledgement: Fanaee-T, Hadi, and Gama, Joao, 'Event labeling combining ensemble detectors and background knowledge', Progress in Artificial Intelligence (2013): pp. 1-15, Springer Berlin Heidelberg"
   ]
  },
  {
   "cell_type": "code",
   "execution_count": 2,
   "metadata": {
    "execution": {
     "iopub.execute_input": "2025-06-17T02:35:39.851448Z",
     "iopub.status.busy": "2025-06-17T02:35:39.851118Z",
     "iopub.status.idle": "2025-06-17T02:35:39.905937Z",
     "shell.execute_reply": "2025-06-17T02:35:39.905553Z",
     "shell.execute_reply.started": "2025-06-17T02:35:39.851362Z"
    },
    "id": "36Gk-YMhwgek",
    "pycharm": {
     "name": "#%%\n"
    }
   },
   "outputs": [
    {
     "data": {
      "text/html": [
       "<div>\n",
       "<style scoped>\n",
       "    .dataframe tbody tr th:only-of-type {\n",
       "        vertical-align: middle;\n",
       "    }\n",
       "\n",
       "    .dataframe tbody tr th {\n",
       "        vertical-align: top;\n",
       "    }\n",
       "\n",
       "    .dataframe thead th {\n",
       "        text-align: right;\n",
       "    }\n",
       "</style>\n",
       "<table border=\"1\" class=\"dataframe\">\n",
       "  <thead>\n",
       "    <tr style=\"text-align: right;\">\n",
       "      <th></th>\n",
       "      <th>instant</th>\n",
       "      <th>dteday</th>\n",
       "      <th>season</th>\n",
       "      <th>yr</th>\n",
       "      <th>mnth</th>\n",
       "      <th>hr</th>\n",
       "      <th>holiday</th>\n",
       "      <th>weekday</th>\n",
       "      <th>workingday</th>\n",
       "      <th>weathersit</th>\n",
       "      <th>temp</th>\n",
       "      <th>atemp</th>\n",
       "      <th>hum</th>\n",
       "      <th>windspeed</th>\n",
       "      <th>casual</th>\n",
       "      <th>registered</th>\n",
       "      <th>cnt</th>\n",
       "    </tr>\n",
       "  </thead>\n",
       "  <tbody>\n",
       "    <tr>\n",
       "      <th>0</th>\n",
       "      <td>1</td>\n",
       "      <td>2011-01-01</td>\n",
       "      <td>1</td>\n",
       "      <td>0</td>\n",
       "      <td>1</td>\n",
       "      <td>0</td>\n",
       "      <td>0</td>\n",
       "      <td>6</td>\n",
       "      <td>0</td>\n",
       "      <td>1</td>\n",
       "      <td>0.24</td>\n",
       "      <td>0.2879</td>\n",
       "      <td>0.81</td>\n",
       "      <td>0.0</td>\n",
       "      <td>3</td>\n",
       "      <td>13</td>\n",
       "      <td>16</td>\n",
       "    </tr>\n",
       "    <tr>\n",
       "      <th>1</th>\n",
       "      <td>2</td>\n",
       "      <td>2011-01-01</td>\n",
       "      <td>1</td>\n",
       "      <td>0</td>\n",
       "      <td>1</td>\n",
       "      <td>1</td>\n",
       "      <td>0</td>\n",
       "      <td>6</td>\n",
       "      <td>0</td>\n",
       "      <td>1</td>\n",
       "      <td>0.22</td>\n",
       "      <td>0.2727</td>\n",
       "      <td>0.80</td>\n",
       "      <td>0.0</td>\n",
       "      <td>8</td>\n",
       "      <td>32</td>\n",
       "      <td>40</td>\n",
       "    </tr>\n",
       "    <tr>\n",
       "      <th>2</th>\n",
       "      <td>3</td>\n",
       "      <td>2011-01-01</td>\n",
       "      <td>1</td>\n",
       "      <td>0</td>\n",
       "      <td>1</td>\n",
       "      <td>2</td>\n",
       "      <td>0</td>\n",
       "      <td>6</td>\n",
       "      <td>0</td>\n",
       "      <td>1</td>\n",
       "      <td>0.22</td>\n",
       "      <td>0.2727</td>\n",
       "      <td>0.80</td>\n",
       "      <td>0.0</td>\n",
       "      <td>5</td>\n",
       "      <td>27</td>\n",
       "      <td>32</td>\n",
       "    </tr>\n",
       "    <tr>\n",
       "      <th>3</th>\n",
       "      <td>4</td>\n",
       "      <td>2011-01-01</td>\n",
       "      <td>1</td>\n",
       "      <td>0</td>\n",
       "      <td>1</td>\n",
       "      <td>3</td>\n",
       "      <td>0</td>\n",
       "      <td>6</td>\n",
       "      <td>0</td>\n",
       "      <td>1</td>\n",
       "      <td>0.24</td>\n",
       "      <td>0.2879</td>\n",
       "      <td>0.75</td>\n",
       "      <td>0.0</td>\n",
       "      <td>3</td>\n",
       "      <td>10</td>\n",
       "      <td>13</td>\n",
       "    </tr>\n",
       "    <tr>\n",
       "      <th>4</th>\n",
       "      <td>5</td>\n",
       "      <td>2011-01-01</td>\n",
       "      <td>1</td>\n",
       "      <td>0</td>\n",
       "      <td>1</td>\n",
       "      <td>4</td>\n",
       "      <td>0</td>\n",
       "      <td>6</td>\n",
       "      <td>0</td>\n",
       "      <td>1</td>\n",
       "      <td>0.24</td>\n",
       "      <td>0.2879</td>\n",
       "      <td>0.75</td>\n",
       "      <td>0.0</td>\n",
       "      <td>0</td>\n",
       "      <td>1</td>\n",
       "      <td>1</td>\n",
       "    </tr>\n",
       "  </tbody>\n",
       "</table>\n",
       "</div>"
      ],
      "text/plain": [
       "   instant      dteday  season  yr  mnth  hr  holiday  weekday  workingday  \\\n",
       "0        1  2011-01-01       1   0     1   0        0        6           0   \n",
       "1        2  2011-01-01       1   0     1   1        0        6           0   \n",
       "2        3  2011-01-01       1   0     1   2        0        6           0   \n",
       "3        4  2011-01-01       1   0     1   3        0        6           0   \n",
       "4        5  2011-01-01       1   0     1   4        0        6           0   \n",
       "\n",
       "   weathersit  temp   atemp   hum  windspeed  casual  registered  cnt  \n",
       "0           1  0.24  0.2879  0.81        0.0       3          13   16  \n",
       "1           1  0.22  0.2727  0.80        0.0       8          32   40  \n",
       "2           1  0.22  0.2727  0.80        0.0       5          27   32  \n",
       "3           1  0.24  0.2879  0.75        0.0       3          10   13  \n",
       "4           1  0.24  0.2879  0.75        0.0       0           1    1  "
      ]
     },
     "execution_count": 2,
     "metadata": {},
     "output_type": "execute_result"
    }
   ],
   "source": [
    "# Download original dataset with: python src/load_data.py \n",
    "\n",
    "raw_data = pd.read_csv(f\"../data/raw_data.csv\")\n",
    "raw_data.head()"
   ]
  },
  {
   "cell_type": "markdown",
   "metadata": {
    "id": "dhZOCJZ1wgel",
    "pycharm": {
     "name": "#%% md\n"
    }
   },
   "source": [
    "## Define column mapping"
   ]
  },
  {
   "cell_type": "code",
   "execution_count": 3,
   "metadata": {
    "execution": {
     "iopub.execute_input": "2025-06-17T02:35:41.615927Z",
     "iopub.status.busy": "2025-06-17T02:35:41.615628Z",
     "iopub.status.idle": "2025-06-17T02:35:41.641675Z",
     "shell.execute_reply": "2025-06-17T02:35:41.641120Z",
     "shell.execute_reply.started": "2025-06-17T02:35:41.615906Z"
    },
    "id": "_i8edS6Ewgem",
    "pycharm": {
     "name": "#%%\n"
    }
   },
   "outputs": [],
   "source": [
    "target = 'cnt'\n",
    "prediction = 'prediction'\n",
    "datetime = 'dteday'\n",
    "numerical_features = ['temp', 'atemp', 'hum', 'windspeed', 'mnth', 'hr', 'weekday']\n",
    "categorical_features = ['season', 'holiday', 'workingday', ]"
   ]
  },
  {
   "cell_type": "markdown",
   "metadata": {
    "id": "q5lW24Xzwgex",
    "pycharm": {
     "name": "#%% md\n"
    }
   },
   "source": [
    "## Define the comparison windows"
   ]
  },
  {
   "cell_type": "code",
   "execution_count": 4,
   "metadata": {
    "execution": {
     "iopub.execute_input": "2025-06-17T02:35:42.543838Z",
     "iopub.status.busy": "2025-06-17T02:35:42.543354Z",
     "iopub.status.idle": "2025-06-17T02:35:42.563865Z",
     "shell.execute_reply": "2025-06-17T02:35:42.563321Z",
     "shell.execute_reply.started": "2025-06-17T02:35:42.543808Z"
    },
    "id": "L6PKtAGEwgey",
    "pycharm": {
     "name": "#%%\n"
    }
   },
   "outputs": [],
   "source": [
    "start_date_0 = '2011-01-02 00:00:00'\n",
    "end_date_0 = '2011-01-30 23:00:00'\n",
    "\n",
    "experiment_batches = [\n",
    "    \n",
    "    ('2011-01-31 00:00:00','2011-02-06 23:00:00'),\n",
    "    ('2011-02-07 23:00:00','2011-02-13 23:00:00'),\n",
    "    ('2011-02-14 23:00:00','2011-02-20 23:00:00'),\n",
    "    ('2011-02-21 00:00:00','2011-02-27 23:00:00'),\n",
    "    ('2011-02-28 00:00:00','2011-03-06 23:00:00'),  \n",
    "]"
   ]
  },
  {
   "cell_type": "markdown",
   "metadata": {},
   "source": [
    "## Define the Reference data"
   ]
  },
  {
   "cell_type": "code",
   "execution_count": 5,
   "metadata": {
    "execution": {
     "iopub.execute_input": "2025-06-17T02:35:43.490908Z",
     "iopub.status.busy": "2025-06-17T02:35:43.490378Z",
     "iopub.status.idle": "2025-06-17T02:35:43.527498Z",
     "shell.execute_reply": "2025-06-17T02:35:43.527120Z",
     "shell.execute_reply.started": "2025-06-17T02:35:43.490874Z"
    }
   },
   "outputs": [
    {
     "name": "stdout",
     "output_type": "stream",
     "text": [
      "(617, 16)\n"
     ]
    },
    {
     "data": {
      "text/html": [
       "<div>\n",
       "<style scoped>\n",
       "    .dataframe tbody tr th:only-of-type {\n",
       "        vertical-align: middle;\n",
       "    }\n",
       "\n",
       "    .dataframe tbody tr th {\n",
       "        vertical-align: top;\n",
       "    }\n",
       "\n",
       "    .dataframe thead th {\n",
       "        text-align: right;\n",
       "    }\n",
       "</style>\n",
       "<table border=\"1\" class=\"dataframe\">\n",
       "  <thead>\n",
       "    <tr style=\"text-align: right;\">\n",
       "      <th></th>\n",
       "      <th>instant</th>\n",
       "      <th>season</th>\n",
       "      <th>yr</th>\n",
       "      <th>mnth</th>\n",
       "      <th>hr</th>\n",
       "      <th>holiday</th>\n",
       "      <th>weekday</th>\n",
       "      <th>workingday</th>\n",
       "      <th>weathersit</th>\n",
       "      <th>temp</th>\n",
       "      <th>atemp</th>\n",
       "      <th>hum</th>\n",
       "      <th>windspeed</th>\n",
       "      <th>casual</th>\n",
       "      <th>registered</th>\n",
       "      <th>cnt</th>\n",
       "    </tr>\n",
       "    <tr>\n",
       "      <th>dteday</th>\n",
       "      <th></th>\n",
       "      <th></th>\n",
       "      <th></th>\n",
       "      <th></th>\n",
       "      <th></th>\n",
       "      <th></th>\n",
       "      <th></th>\n",
       "      <th></th>\n",
       "      <th></th>\n",
       "      <th></th>\n",
       "      <th></th>\n",
       "      <th></th>\n",
       "      <th></th>\n",
       "      <th></th>\n",
       "      <th></th>\n",
       "      <th></th>\n",
       "    </tr>\n",
       "  </thead>\n",
       "  <tbody>\n",
       "    <tr>\n",
       "      <th>2011-01-03</th>\n",
       "      <td>48</td>\n",
       "      <td>1</td>\n",
       "      <td>0</td>\n",
       "      <td>1</td>\n",
       "      <td>0</td>\n",
       "      <td>0</td>\n",
       "      <td>1</td>\n",
       "      <td>1</td>\n",
       "      <td>1</td>\n",
       "      <td>0.22</td>\n",
       "      <td>0.1970</td>\n",
       "      <td>0.44</td>\n",
       "      <td>0.3582</td>\n",
       "      <td>0</td>\n",
       "      <td>5</td>\n",
       "      <td>5</td>\n",
       "    </tr>\n",
       "    <tr>\n",
       "      <th>2011-01-03</th>\n",
       "      <td>49</td>\n",
       "      <td>1</td>\n",
       "      <td>0</td>\n",
       "      <td>1</td>\n",
       "      <td>1</td>\n",
       "      <td>0</td>\n",
       "      <td>1</td>\n",
       "      <td>1</td>\n",
       "      <td>1</td>\n",
       "      <td>0.20</td>\n",
       "      <td>0.1667</td>\n",
       "      <td>0.44</td>\n",
       "      <td>0.4179</td>\n",
       "      <td>0</td>\n",
       "      <td>2</td>\n",
       "      <td>2</td>\n",
       "    </tr>\n",
       "    <tr>\n",
       "      <th>2011-01-03</th>\n",
       "      <td>50</td>\n",
       "      <td>1</td>\n",
       "      <td>0</td>\n",
       "      <td>1</td>\n",
       "      <td>4</td>\n",
       "      <td>0</td>\n",
       "      <td>1</td>\n",
       "      <td>1</td>\n",
       "      <td>1</td>\n",
       "      <td>0.16</td>\n",
       "      <td>0.1364</td>\n",
       "      <td>0.47</td>\n",
       "      <td>0.3881</td>\n",
       "      <td>0</td>\n",
       "      <td>1</td>\n",
       "      <td>1</td>\n",
       "    </tr>\n",
       "    <tr>\n",
       "      <th>2011-01-03</th>\n",
       "      <td>51</td>\n",
       "      <td>1</td>\n",
       "      <td>0</td>\n",
       "      <td>1</td>\n",
       "      <td>5</td>\n",
       "      <td>0</td>\n",
       "      <td>1</td>\n",
       "      <td>1</td>\n",
       "      <td>1</td>\n",
       "      <td>0.16</td>\n",
       "      <td>0.1364</td>\n",
       "      <td>0.47</td>\n",
       "      <td>0.2836</td>\n",
       "      <td>0</td>\n",
       "      <td>3</td>\n",
       "      <td>3</td>\n",
       "    </tr>\n",
       "    <tr>\n",
       "      <th>2011-01-03</th>\n",
       "      <td>52</td>\n",
       "      <td>1</td>\n",
       "      <td>0</td>\n",
       "      <td>1</td>\n",
       "      <td>6</td>\n",
       "      <td>0</td>\n",
       "      <td>1</td>\n",
       "      <td>1</td>\n",
       "      <td>1</td>\n",
       "      <td>0.14</td>\n",
       "      <td>0.1061</td>\n",
       "      <td>0.50</td>\n",
       "      <td>0.3881</td>\n",
       "      <td>0</td>\n",
       "      <td>30</td>\n",
       "      <td>30</td>\n",
       "    </tr>\n",
       "  </tbody>\n",
       "</table>\n",
       "</div>"
      ],
      "text/plain": [
       "            instant  season  yr  mnth  hr  holiday  weekday  workingday  \\\n",
       "dteday                                                                    \n",
       "2011-01-03       48       1   0     1   0        0        1           1   \n",
       "2011-01-03       49       1   0     1   1        0        1           1   \n",
       "2011-01-03       50       1   0     1   4        0        1           1   \n",
       "2011-01-03       51       1   0     1   5        0        1           1   \n",
       "2011-01-03       52       1   0     1   6        0        1           1   \n",
       "\n",
       "            weathersit  temp   atemp   hum  windspeed  casual  registered  cnt  \n",
       "dteday                                                                          \n",
       "2011-01-03           1  0.22  0.1970  0.44     0.3582       0           5    5  \n",
       "2011-01-03           1  0.20  0.1667  0.44     0.4179       0           2    2  \n",
       "2011-01-03           1  0.16  0.1364  0.47     0.3881       0           1    1  \n",
       "2011-01-03           1  0.16  0.1364  0.47     0.2836       0           3    3  \n",
       "2011-01-03           1  0.14  0.1061  0.50     0.3881       0          30   30  "
      ]
     },
     "execution_count": 5,
     "metadata": {},
     "output_type": "execute_result"
    }
   ],
   "source": [
    "# Set datetime index \n",
    "raw_data = raw_data.set_index('dteday')\n",
    "\n",
    "# Define the reference dataset\n",
    "reference = raw_data.loc[start_date_0:end_date_0]\n",
    "\n",
    "print(reference.shape)\n",
    "reference.head()"
   ]
  },
  {
   "cell_type": "markdown",
   "metadata": {},
   "source": [
    "# MLflow Client"
   ]
  },
  {
   "cell_type": "markdown",
   "metadata": {},
   "source": [
    "## Set up MLFlow"
   ]
  },
  {
   "cell_type": "code",
   "execution_count": 6,
   "metadata": {
    "execution": {
     "iopub.execute_input": "2025-06-17T02:35:44.560362Z",
     "iopub.status.busy": "2025-06-17T02:35:44.559864Z",
     "iopub.status.idle": "2025-06-17T02:35:44.589406Z",
     "shell.execute_reply": "2025-06-17T02:35:44.588952Z",
     "shell.execute_reply.started": "2025-06-17T02:35:44.560331Z"
    }
   },
   "outputs": [
    {
     "name": "stdout",
     "output_type": "stream",
     "text": [
      "Client tracking uri: http://localhost:5001\n"
     ]
    }
   ],
   "source": [
    "# Set up MLFlow Client\n",
    "MLFLOW_TRACKING_URI = \"http://localhost:5001\"\n",
    "mlflow.set_tracking_uri(MLFLOW_TRACKING_URI)\n",
    "\n",
    "client = MlflowClient()\n",
    "print(f\"Client tracking uri: {client.tracking_uri}\")"
   ]
  },
  {
   "cell_type": "code",
   "execution_count": 7,
   "metadata": {
    "execution": {
     "iopub.execute_input": "2025-06-17T02:35:47.083131Z",
     "iopub.status.busy": "2025-06-17T02:35:47.082566Z",
     "iopub.status.idle": "2025-06-17T02:35:47.114621Z",
     "shell.execute_reply": "2025-06-17T02:35:47.114189Z",
     "shell.execute_reply.started": "2025-06-17T02:35:47.083092Z"
    }
   },
   "outputs": [
    {
     "data": {
      "text/plain": [
       "<mlflow.tracking.client.MlflowClient at 0x13ce79cd0>"
      ]
     },
     "execution_count": 7,
     "metadata": {},
     "output_type": "execute_result"
    }
   ],
   "source": [
    "client"
   ]
  },
  {
   "cell_type": "markdown",
   "metadata": {},
   "source": [
    "## Create a new Experiment\n",
    "\n",
    "In order to group any distinct runs of a particular project or idea together, we can define an Experiment that will group each iteration (runs) together. \n",
    "Defining a unique name that is relevant to what we're working on helps with organization and reduces the amount of work (searching) to find our runs later on. "
   ]
  },
  {
   "cell_type": "code",
   "execution_count": 8,
   "metadata": {
    "execution": {
     "iopub.execute_input": "2025-06-17T02:35:48.128737Z",
     "iopub.status.busy": "2025-06-17T02:35:48.128265Z",
     "iopub.status.idle": "2025-06-17T02:35:48.178748Z",
     "shell.execute_reply": "2025-06-17T02:35:48.178408Z",
     "shell.execute_reply.started": "2025-06-17T02:35:48.128708Z"
    }
   },
   "outputs": [],
   "source": [
    "# Get an experiment by name if it exists\n",
    "\n",
    "exp = client.get_experiment_by_name('1-Train-K-Fold')\n",
    "exp"
   ]
  },
  {
   "cell_type": "code",
   "execution_count": 9,
   "metadata": {
    "execution": {
     "iopub.execute_input": "2025-06-17T02:35:48.564691Z",
     "iopub.status.busy": "2025-06-17T02:35:48.564354Z",
     "iopub.status.idle": "2025-06-17T02:35:48.598451Z",
     "shell.execute_reply": "2025-06-17T02:35:48.598072Z",
     "shell.execute_reply.started": "2025-06-17T02:35:48.564666Z"
    },
    "scrolled": true
   },
   "outputs": [
    {
     "data": {
      "text/plain": [
       "'903011176581290144'"
      ]
     },
     "execution_count": 9,
     "metadata": {},
     "output_type": "execute_result"
    }
   ],
   "source": [
    "# Create a new experiment if it doesn't exist\n",
    "\n",
    "if exp:\n",
    "    experiment_id = exp.experiment_id\n",
    "else:\n",
    "    experiment_id = client.create_experiment('1-Train-K-Fold')\n",
    "    \n",
    "experiment_id"
   ]
  },
  {
   "cell_type": "code",
   "execution_count": 10,
   "metadata": {
    "execution": {
     "iopub.execute_input": "2025-06-17T02:35:49.077616Z",
     "iopub.status.busy": "2025-06-17T02:35:49.077099Z",
     "iopub.status.idle": "2025-06-17T02:35:49.124551Z",
     "shell.execute_reply": "2025-06-17T02:35:49.123292Z",
     "shell.execute_reply.started": "2025-06-17T02:35:49.077583Z"
    },
    "scrolled": true
   },
   "outputs": [
    {
     "name": "stdout",
     "output_type": "stream",
     "text": [
      "Name: 1-Train-K-Fold\n",
      "Experiment_id: 903011176581290144\n",
      "Artifact Location: mlflow-artifacts:/903011176581290144\n",
      "Tags: {}\n",
      "Lifecycle_stage: active\n"
     ]
    }
   ],
   "source": [
    "# Fetch experiment metadata information\n",
    "\n",
    "experiment = client.get_experiment(experiment_id)\n",
    "print(f\"Name: {experiment.name}\")\n",
    "print(f\"Experiment_id: {experiment.experiment_id}\")\n",
    "print(f\"Artifact Location: {experiment.artifact_location}\")\n",
    "print(f\"Tags: {experiment.tags}\")\n",
    "print(f\"Lifecycle_stage: {experiment.lifecycle_stage}\")"
   ]
  },
  {
   "cell_type": "markdown",
   "metadata": {},
   "source": [
    "# Metrics Tracking for K-Fold Experiments"
   ]
  },
  {
   "cell_type": "code",
   "execution_count": 11,
   "metadata": {
    "execution": {
     "iopub.execute_input": "2025-06-17T02:35:49.845872Z",
     "iopub.status.busy": "2025-06-17T02:35:49.845470Z",
     "iopub.status.idle": "2025-06-17T02:35:50.671919Z",
     "shell.execute_reply": "2025-06-17T02:35:50.671683Z",
     "shell.execute_reply.started": "2025-06-17T02:35:49.845845Z"
    },
    "id": "bTHU8eAqwgez",
    "pycharm": {
     "name": "#%%\n"
    },
    "scrolled": true
   },
   "outputs": [
    {
     "name": "stderr",
     "output_type": "stream",
     "text": [
      "2025/06/17 09:35:50 INFO mlflow.system_metrics.system_metrics_monitor: Skip logging GPU metrics. Set logger level to DEBUG for more details.\n",
      "2025/06/17 09:35:50 INFO mlflow.system_metrics.system_metrics_monitor: Started monitoring system metrics.\n"
     ]
    },
    {
     "name": "stdout",
     "output_type": "stream",
     "text": [
      "Train period: 2011-01-02 00:00:00 - 2011-01-30 23:00:00\n",
      "X_train (reference) dataset shape:  (617, 10) (617,)\n",
      "Test period: 2011-01-31 00:00:00 - 2011-02-06 23:00:00\n",
      "X_test (current)) dataset shape:  (141, 10) (141,)\n",
      "Experiment id: 903011176581290144\n",
      "Run id: a2da26d5c5fb4773b3b73352987d826a\n",
      "Run name: rambunctious-hen-993\n",
      "MLFlow tracking uri: http://localhost:5001\n",
      "MLFlow artifact uri: mlflow-artifacts:/903011176581290144/a2da26d5c5fb4773b3b73352987d826a/artifacts\n"
     ]
    },
    {
     "name": "stderr",
     "output_type": "stream",
     "text": [
      "2025/06/17 09:35:50 INFO mlflow.system_metrics.system_metrics_monitor: Stopping system metrics monitoring...\n",
      "2025/06/17 09:35:50 INFO mlflow.system_metrics.system_metrics_monitor: Successfully terminated system metrics monitoring!\n",
      "2025/06/17 09:35:50 INFO mlflow.system_metrics.system_metrics_monitor: Skip logging GPU metrics. Set logger level to DEBUG for more details.\n",
      "2025/06/17 09:35:50 INFO mlflow.system_metrics.system_metrics_monitor: Started monitoring system metrics.\n",
      "2025/06/17 09:35:50 INFO mlflow.system_metrics.system_metrics_monitor: Stopping system metrics monitoring...\n",
      "2025/06/17 09:35:50 INFO mlflow.system_metrics.system_metrics_monitor: Successfully terminated system metrics monitoring!\n"
     ]
    },
    {
     "name": "stdout",
     "output_type": "stream",
     "text": [
      "🏃 View run rambunctious-hen-993 at: http://localhost:5001/#/experiments/903011176581290144/runs/a2da26d5c5fb4773b3b73352987d826a\n",
      "🧪 View experiment at: http://localhost:5001/#/experiments/903011176581290144\n",
      "Train period: 2011-01-02 00:00:00 - 2011-02-06 23:00:00\n",
      "X_train (reference) dataset shape:  (782, 10) (782,)\n",
      "Test period: 2011-02-07 23:00:00 - 2011-02-13 23:00:00\n",
      "X_test (current)) dataset shape:  (139, 10) (139,)\n",
      "Experiment id: 903011176581290144\n",
      "Run id: 1ddd63962e984874994a7ebf64a4a19f\n",
      "Run name: enchanting-finch-566\n",
      "MLFlow tracking uri: http://localhost:5001\n",
      "MLFlow artifact uri: mlflow-artifacts:/903011176581290144/1ddd63962e984874994a7ebf64a4a19f/artifacts\n",
      "🏃 View run enchanting-finch-566 at: http://localhost:5001/#/experiments/903011176581290144/runs/1ddd63962e984874994a7ebf64a4a19f\n",
      "🧪 View experiment at: http://localhost:5001/#/experiments/903011176581290144\n",
      "Train period: 2011-01-02 00:00:00 - 2011-02-13 23:00:00\n",
      "X_train (reference) dataset shape:  (945, 10) (945,)\n",
      "Test period: 2011-02-14 23:00:00 - 2011-02-20 23:00:00\n",
      "X_test (current)) dataset shape:  (141, 10) (141,)\n"
     ]
    },
    {
     "name": "stderr",
     "output_type": "stream",
     "text": [
      "2025/06/17 09:35:50 INFO mlflow.system_metrics.system_metrics_monitor: Skip logging GPU metrics. Set logger level to DEBUG for more details.\n",
      "2025/06/17 09:35:50 INFO mlflow.system_metrics.system_metrics_monitor: Started monitoring system metrics.\n",
      "2025/06/17 09:35:50 INFO mlflow.system_metrics.system_metrics_monitor: Stopping system metrics monitoring...\n",
      "2025/06/17 09:35:50 INFO mlflow.system_metrics.system_metrics_monitor: Successfully terminated system metrics monitoring!\n",
      "2025/06/17 09:35:50 INFO mlflow.system_metrics.system_metrics_monitor: Skip logging GPU metrics. Set logger level to DEBUG for more details.\n",
      "2025/06/17 09:35:50 INFO mlflow.system_metrics.system_metrics_monitor: Started monitoring system metrics.\n",
      "2025/06/17 09:35:50 INFO mlflow.system_metrics.system_metrics_monitor: Stopping system metrics monitoring...\n",
      "2025/06/17 09:35:50 INFO mlflow.system_metrics.system_metrics_monitor: Successfully terminated system metrics monitoring!\n"
     ]
    },
    {
     "name": "stdout",
     "output_type": "stream",
     "text": [
      "Experiment id: 903011176581290144\n",
      "Run id: 353b9c16172842b7a37426eae706ae33\n",
      "Run name: powerful-jay-140\n",
      "MLFlow tracking uri: http://localhost:5001\n",
      "MLFlow artifact uri: mlflow-artifacts:/903011176581290144/353b9c16172842b7a37426eae706ae33/artifacts\n",
      "🏃 View run powerful-jay-140 at: http://localhost:5001/#/experiments/903011176581290144/runs/353b9c16172842b7a37426eae706ae33\n",
      "🧪 View experiment at: http://localhost:5001/#/experiments/903011176581290144\n",
      "Train period: 2011-01-02 00:00:00 - 2011-02-20 23:00:00\n",
      "X_train (reference) dataset shape:  (1110, 10) (1110,)\n",
      "Test period: 2011-02-21 00:00:00 - 2011-02-27 23:00:00\n",
      "X_test (current)) dataset shape:  (134, 10) (134,)\n",
      "Experiment id: 903011176581290144\n",
      "Run id: 013d7ab31a894ceebbacc2138762c061\n",
      "Run name: skillful-wasp-852\n",
      "MLFlow tracking uri: http://localhost:5001\n",
      "MLFlow artifact uri: mlflow-artifacts:/903011176581290144/013d7ab31a894ceebbacc2138762c061/artifacts\n",
      "🏃 View run skillful-wasp-852 at: http://localhost:5001/#/experiments/903011176581290144/runs/013d7ab31a894ceebbacc2138762c061\n",
      "🧪 View experiment at: http://localhost:5001/#/experiments/903011176581290144\n",
      "Train period: 2011-01-02 00:00:00 - 2011-02-27 23:00:00\n",
      "X_train (reference) dataset shape:  (1268, 10) (1268,)\n",
      "Test period: 2011-02-28 00:00:00 - 2011-03-06 23:00:00\n",
      "X_test (current)) dataset shape:  (143, 10) (143,)\n"
     ]
    },
    {
     "name": "stderr",
     "output_type": "stream",
     "text": [
      "2025/06/17 09:35:50 INFO mlflow.system_metrics.system_metrics_monitor: Skip logging GPU metrics. Set logger level to DEBUG for more details.\n",
      "2025/06/17 09:35:50 INFO mlflow.system_metrics.system_metrics_monitor: Started monitoring system metrics.\n",
      "2025/06/17 09:35:50 INFO mlflow.system_metrics.system_metrics_monitor: Stopping system metrics monitoring...\n",
      "2025/06/17 09:35:50 INFO mlflow.system_metrics.system_metrics_monitor: Successfully terminated system metrics monitoring!\n"
     ]
    },
    {
     "name": "stdout",
     "output_type": "stream",
     "text": [
      "Experiment id: 903011176581290144\n",
      "Run id: d5505bf4f27e47d398fbb41597e675b6\n",
      "Run name: nimble-cub-510\n",
      "MLFlow tracking uri: http://localhost:5001\n",
      "MLFlow artifact uri: mlflow-artifacts:/903011176581290144/d5505bf4f27e47d398fbb41597e675b6/artifacts\n",
      "🏃 View run nimble-cub-510 at: http://localhost:5001/#/experiments/903011176581290144/runs/d5505bf4f27e47d398fbb41597e675b6\n",
      "🧪 View experiment at: http://localhost:5001/#/experiments/903011176581290144\n"
     ]
    }
   ],
   "source": [
    "# Set experiment\n",
    "mlflow.set_experiment('1-Train-K-Fold') # Create a new Experiment if it doesn't exist\n",
    "\n",
    "# Set experiment variables\n",
    "model_path = Path('../models/model.joblib')\n",
    "ref_end_data = end_date_0\n",
    "\n",
    "# Run model train for each batch (K-Fold)\n",
    "for k, date in enumerate(experiment_batches):\n",
    "\n",
    "    print(f\"Train period: {start_date_0} - {ref_end_data}\") \n",
    "    X_train = raw_data.loc[start_date_0:ref_end_data, numerical_features + categorical_features]\n",
    "    y_train = raw_data.loc[start_date_0:ref_end_data, target]\n",
    "    print(\"X_train (reference) dataset shape: \", X_train.shape, y_train.shape)\n",
    "    \n",
    "    print(f\"Test period: {date[0]} - {date[1]}\") \n",
    "    current = raw_data.loc[date[0]:date[1]]\n",
    "    X_test = current.loc[:, numerical_features + categorical_features]\n",
    "    y_test = current[target]\n",
    "    print(\"X_test (current)) dataset shape: \",  X_test.shape, y_test.shape)\n",
    "\n",
    "    # Train model\n",
    "    regressor = ensemble.RandomForestRegressor(random_state = 0, n_estimators = 50)\n",
    "    regressor.fit(X_train, y_train)\n",
    "\n",
    "    # Calculate metrics\n",
    "    preds = regressor.predict(X_test)\n",
    "    me = mean_squared_error(y_test, preds)\n",
    "    mae = mean_absolute_error(y_test, preds)\n",
    "    # print(me, mae)\n",
    "    \n",
    "    # Start a new MLflow Run\n",
    "    with mlflow.start_run() as run: \n",
    "        \n",
    "        # Show newly created run metadata info\n",
    "        print(\"Experiment id: {}\".format(run.info.experiment_id))\n",
    "        print(\"Run id: {}\".format(run.info.run_id))\n",
    "        print(\"Run name: {}\".format(run.info.run_name))\n",
    "        print('MLFlow tracking uri:', mlflow.get_tracking_uri())\n",
    "        print('MLFlow artifact uri:', mlflow.get_artifact_uri())\n",
    "        \n",
    "        # Log parameters\n",
    "        mlflow.log_param(\"begin\", date[0])\n",
    "        mlflow.log_param(\"end\", date[1])\n",
    "        \n",
    "        # Log metrics\n",
    "        mlflow.log_metric('me', round(me, 3))\n",
    "        mlflow.log_metric('mae', round(mae, 3))\n",
    "        \n",
    "        # Log model \n",
    "        mlflow.log_artifact(model_path)\n",
    "\n",
    "    # Update reference end date\n",
    "    ref_end_data = date[1]\n",
    "    "
   ]
  },
  {
   "cell_type": "markdown",
   "metadata": {},
   "source": [
    "# Nested Runs"
   ]
  },
  {
   "cell_type": "code",
   "execution_count": 12,
   "metadata": {
    "execution": {
     "iopub.execute_input": "2025-06-17T02:35:51.267633Z",
     "iopub.status.busy": "2025-06-17T02:35:51.267169Z",
     "iopub.status.idle": "2025-06-17T02:35:51.310422Z",
     "shell.execute_reply": "2025-06-17T02:35:51.309541Z",
     "shell.execute_reply.started": "2025-06-17T02:35:51.267605Z"
    }
   },
   "outputs": [
    {
     "name": "stdout",
     "output_type": "stream",
     "text": [
      "Client tracking uri: http://localhost:5001\n"
     ]
    }
   ],
   "source": [
    "# Set up MLFlow Client\n",
    "mlflow.set_tracking_uri(MLFLOW_TRACKING_URI)\n",
    "client = MlflowClient()\n",
    "print(f\"Client tracking uri: {client.tracking_uri}\")"
   ]
  },
  {
   "cell_type": "code",
   "execution_count": 13,
   "metadata": {
    "execution": {
     "iopub.execute_input": "2025-06-17T02:35:51.574442Z",
     "iopub.status.busy": "2025-06-17T02:35:51.574262Z",
     "iopub.status.idle": "2025-06-17T02:35:51.605018Z",
     "shell.execute_reply": "2025-06-17T02:35:51.604670Z",
     "shell.execute_reply.started": "2025-06-17T02:35:51.574429Z"
    }
   },
   "outputs": [
    {
     "name": "stderr",
     "output_type": "stream",
     "text": [
      "2025/06/17 09:35:51 INFO mlflow.tracking.fluent: Experiment with name '2-Nested-Runs' does not exist. Creating a new experiment.\n"
     ]
    },
    {
     "data": {
      "text/plain": [
       "<Experiment: artifact_location='mlflow-artifacts:/364566909229737918', creation_time=1750127751599, experiment_id='364566909229737918', last_update_time=1750127751599, lifecycle_stage='active', name='2-Nested-Runs', tags={}>"
      ]
     },
     "execution_count": 13,
     "metadata": {},
     "output_type": "execute_result"
    }
   ],
   "source": [
    "\n",
    "# Set experiment name\n",
    "mlflow.set_experiment('2-Nested-Runs')"
   ]
  },
  {
   "cell_type": "code",
   "execution_count": 14,
   "metadata": {
    "execution": {
     "iopub.execute_input": "2025-06-17T02:35:52.024965Z",
     "iopub.status.busy": "2025-06-17T02:35:52.024486Z",
     "iopub.status.idle": "2025-06-17T02:35:52.760506Z",
     "shell.execute_reply": "2025-06-17T02:35:52.760285Z",
     "shell.execute_reply.started": "2025-06-17T02:35:52.024938Z"
    },
    "scrolled": true
   },
   "outputs": [
    {
     "name": "stderr",
     "output_type": "stream",
     "text": [
      "2025/06/17 09:35:52 INFO mlflow.system_metrics.system_metrics_monitor: Skip logging GPU metrics. Set logger level to DEBUG for more details.\n",
      "2025/06/17 09:35:52 INFO mlflow.system_metrics.system_metrics_monitor: Started monitoring system metrics.\n",
      "2025/06/17 09:35:52 INFO mlflow.system_metrics.system_metrics_monitor: Skip logging GPU metrics. Set logger level to DEBUG for more details.\n",
      "2025/06/17 09:35:52 INFO mlflow.system_metrics.system_metrics_monitor: Started monitoring system metrics.\n",
      "2025/06/17 09:35:52 INFO mlflow.system_metrics.system_metrics_monitor: Stopping system metrics monitoring...\n",
      "2025/06/17 09:35:52 INFO mlflow.system_metrics.system_metrics_monitor: Successfully terminated system metrics monitoring!\n",
      "2025/06/17 09:35:52 INFO mlflow.system_metrics.system_metrics_monitor: Skip logging GPU metrics. Set logger level to DEBUG for more details.\n",
      "2025/06/17 09:35:52 INFO mlflow.system_metrics.system_metrics_monitor: Started monitoring system metrics.\n"
     ]
    },
    {
     "name": "stdout",
     "output_type": "stream",
     "text": [
      "Train period: 2011-01-02 00:00:00 - 2011-01-30 23:00:00\n",
      "X_train (reference) dataset shape:  (617, 10) (617,)\n",
      "Test period: 2011-01-31 00:00:00 - 2011-02-06 23:00:00\n",
      "X_test (current)) dataset shape:  (141, 10) (141,)\n",
      "Experiment id: 364566909229737918\n",
      "Run id: 190a2c7c829548b38db86bffe60a6fcd\n",
      "Run name: debonair-penguin-841\n",
      "MLFlow tracking uri: http://localhost:5001\n",
      "MLFlow artifact uri: mlflow-artifacts:/364566909229737918/231a10fcb1404faaaf84222ae2a28ce0/artifacts\n",
      "🏃 View run 2011-02-06 23:00:00 at: http://localhost:5001/#/experiments/364566909229737918/runs/231a10fcb1404faaaf84222ae2a28ce0\n",
      "🧪 View experiment at: http://localhost:5001/#/experiments/364566909229737918\n",
      "Train period: 2011-01-02 00:00:00 - 2011-02-06 23:00:00\n",
      "X_train (reference) dataset shape:  (782, 10) (782,)\n",
      "Test period: 2011-02-07 23:00:00 - 2011-02-13 23:00:00\n",
      "X_test (current)) dataset shape:  (139, 10) (139,)\n",
      "Experiment id: 364566909229737918\n",
      "Run id: 190a2c7c829548b38db86bffe60a6fcd\n",
      "Run name: debonair-penguin-841\n",
      "MLFlow tracking uri: http://localhost:5001\n",
      "MLFlow artifact uri: mlflow-artifacts:/364566909229737918/30060a461af14ff0985a1ad6e027b1e1/artifacts\n"
     ]
    },
    {
     "name": "stderr",
     "output_type": "stream",
     "text": [
      "2025/06/17 09:35:52 INFO mlflow.system_metrics.system_metrics_monitor: Stopping system metrics monitoring...\n",
      "2025/06/17 09:35:52 INFO mlflow.system_metrics.system_metrics_monitor: Successfully terminated system metrics monitoring!\n",
      "2025/06/17 09:35:52 INFO mlflow.system_metrics.system_metrics_monitor: Skip logging GPU metrics. Set logger level to DEBUG for more details.\n",
      "2025/06/17 09:35:52 INFO mlflow.system_metrics.system_metrics_monitor: Started monitoring system metrics.\n",
      "2025/06/17 09:35:52 INFO mlflow.system_metrics.system_metrics_monitor: Stopping system metrics monitoring...\n",
      "2025/06/17 09:35:52 INFO mlflow.system_metrics.system_metrics_monitor: Successfully terminated system metrics monitoring!\n"
     ]
    },
    {
     "name": "stdout",
     "output_type": "stream",
     "text": [
      "🏃 View run 2011-02-13 23:00:00 at: http://localhost:5001/#/experiments/364566909229737918/runs/30060a461af14ff0985a1ad6e027b1e1\n",
      "🧪 View experiment at: http://localhost:5001/#/experiments/364566909229737918\n",
      "Train period: 2011-01-02 00:00:00 - 2011-02-13 23:00:00\n",
      "X_train (reference) dataset shape:  (945, 10) (945,)\n",
      "Test period: 2011-02-14 23:00:00 - 2011-02-20 23:00:00\n",
      "X_test (current)) dataset shape:  (141, 10) (141,)\n",
      "Experiment id: 364566909229737918\n",
      "Run id: 190a2c7c829548b38db86bffe60a6fcd\n",
      "Run name: debonair-penguin-841\n",
      "MLFlow tracking uri: http://localhost:5001\n",
      "MLFlow artifact uri: mlflow-artifacts:/364566909229737918/28949a371e264420887e2a047b4cc78d/artifacts\n",
      "🏃 View run 2011-02-20 23:00:00 at: http://localhost:5001/#/experiments/364566909229737918/runs/28949a371e264420887e2a047b4cc78d\n",
      "🧪 View experiment at: http://localhost:5001/#/experiments/364566909229737918\n",
      "Train period: 2011-01-02 00:00:00 - 2011-02-20 23:00:00\n",
      "X_train (reference) dataset shape:  (1110, 10) (1110,)\n",
      "Test period: 2011-02-21 00:00:00 - 2011-02-27 23:00:00\n",
      "X_test (current)) dataset shape:  (134, 10) (134,)\n"
     ]
    },
    {
     "name": "stderr",
     "output_type": "stream",
     "text": [
      "2025/06/17 09:35:52 INFO mlflow.system_metrics.system_metrics_monitor: Skip logging GPU metrics. Set logger level to DEBUG for more details.\n",
      "2025/06/17 09:35:52 INFO mlflow.system_metrics.system_metrics_monitor: Started monitoring system metrics.\n",
      "2025/06/17 09:35:52 INFO mlflow.system_metrics.system_metrics_monitor: Stopping system metrics monitoring...\n",
      "2025/06/17 09:35:52 INFO mlflow.system_metrics.system_metrics_monitor: Successfully terminated system metrics monitoring!\n",
      "2025/06/17 09:35:52 INFO mlflow.system_metrics.system_metrics_monitor: Skip logging GPU metrics. Set logger level to DEBUG for more details.\n",
      "2025/06/17 09:35:52 INFO mlflow.system_metrics.system_metrics_monitor: Started monitoring system metrics.\n",
      "2025/06/17 09:35:52 INFO mlflow.system_metrics.system_metrics_monitor: Stopping system metrics monitoring...\n",
      "2025/06/17 09:35:52 INFO mlflow.system_metrics.system_metrics_monitor: Successfully terminated system metrics monitoring!\n"
     ]
    },
    {
     "name": "stdout",
     "output_type": "stream",
     "text": [
      "Experiment id: 364566909229737918\n",
      "Run id: 190a2c7c829548b38db86bffe60a6fcd\n",
      "Run name: debonair-penguin-841\n",
      "MLFlow tracking uri: http://localhost:5001\n",
      "MLFlow artifact uri: mlflow-artifacts:/364566909229737918/70f87d7070664a55a3bbb65c41c012e7/artifacts\n",
      "🏃 View run 2011-02-27 23:00:00 at: http://localhost:5001/#/experiments/364566909229737918/runs/70f87d7070664a55a3bbb65c41c012e7\n",
      "🧪 View experiment at: http://localhost:5001/#/experiments/364566909229737918\n",
      "Train period: 2011-01-02 00:00:00 - 2011-02-27 23:00:00\n",
      "X_train (reference) dataset shape:  (1268, 10) (1268,)\n",
      "Test period: 2011-02-28 00:00:00 - 2011-03-06 23:00:00\n",
      "X_test (current)) dataset shape:  (143, 10) (143,)\n",
      "Experiment id: 364566909229737918\n",
      "Run id: 190a2c7c829548b38db86bffe60a6fcd\n",
      "Run name: debonair-penguin-841\n",
      "MLFlow tracking uri: http://localhost:5001\n",
      "MLFlow artifact uri: mlflow-artifacts:/364566909229737918/59320baf97bb43dd842e20486bb3b8ae/artifacts\n",
      "🏃 View run 2011-03-06 23:00:00 at: http://localhost:5001/#/experiments/364566909229737918/runs/59320baf97bb43dd842e20486bb3b8ae\n",
      "🧪 View experiment at: http://localhost:5001/#/experiments/364566909229737918\n"
     ]
    },
    {
     "name": "stderr",
     "output_type": "stream",
     "text": [
      "2025/06/17 09:35:52 INFO mlflow.system_metrics.system_metrics_monitor: Stopping system metrics monitoring...\n",
      "2025/06/17 09:35:52 INFO mlflow.system_metrics.system_metrics_monitor: Successfully terminated system metrics monitoring!\n"
     ]
    },
    {
     "name": "stdout",
     "output_type": "stream",
     "text": [
      "🏃 View run debonair-penguin-841 at: http://localhost:5001/#/experiments/364566909229737918/runs/190a2c7c829548b38db86bffe60a6fcd\n",
      "🧪 View experiment at: http://localhost:5001/#/experiments/364566909229737918\n"
     ]
    }
   ],
   "source": [
    "\n",
    "# Set experiment variables\n",
    "model_path = Path('../models/model.joblib')\n",
    "ref_end_data = end_date_0\n",
    "\n",
    "# Start a new Run (Parent Run)\n",
    "with mlflow.start_run() as run: \n",
    "    \n",
    "    # Update metrics with metrics for each Fold\n",
    "    metrics = {}\n",
    "\n",
    "    # Run model train for each batch (K-Fold)\n",
    "    for k, date in enumerate(experiment_batches):\n",
    "            \n",
    "        print(f\"Train period: {start_date_0} - {ref_end_data}\") \n",
    "        X_train = raw_data.loc[start_date_0:ref_end_data, numerical_features + categorical_features]\n",
    "        y_train = raw_data.loc[start_date_0:ref_end_data, target]\n",
    "        print(\"X_train (reference) dataset shape: \", X_train.shape, y_train.shape)\n",
    "        \n",
    "        print(f\"Test period: {date[0]} - {date[1]}\") \n",
    "        current = raw_data.loc[date[0]:date[1]]\n",
    "        X_test = current.loc[:, numerical_features + categorical_features]\n",
    "        y_test = current[target]\n",
    "        print(\"X_test (current)) dataset shape: \",  X_test.shape, y_test.shape)\n",
    "        \n",
    "        # Update reference end date\n",
    "        ref_end_data = date[1]\n",
    "\n",
    "        # Train model\n",
    "        regressor = ensemble.RandomForestRegressor(random_state = 0, n_estimators = 50)\n",
    "        regressor.fit(X_train, y_train)\n",
    "\n",
    "        # Calculate metrucs\n",
    "        preds = regressor.predict(X_test)\n",
    "        me = mean_squared_error(y_test, preds)\n",
    "        mae = mean_absolute_error(y_test, preds)\n",
    "        metrics.update({date[1]: {'me': me, 'mae': mae}})\n",
    "        \n",
    "        # Run a Child Run for each Fold \n",
    "        with mlflow.start_run(run_name=date[1], nested=True) as child_run:\n",
    "            \n",
    "            # Show newly created run metadata info\n",
    "            print(\"Experiment id: {}\".format(run.info.experiment_id))\n",
    "            print(\"Run id: {}\".format(run.info.run_id))\n",
    "            print(\"Run name: {}\".format(run.info.run_name))\n",
    "            print('MLFlow tracking uri:', mlflow.get_tracking_uri())\n",
    "            print('MLFlow artifact uri:', mlflow.get_artifact_uri())\n",
    "            \n",
    "            # Log parameters\n",
    "            mlflow.log_param(\"begin\", date[0])\n",
    "            mlflow.log_param(\"end\", date[1])\n",
    "            \n",
    "            # Log metrics\n",
    "            mlflow.log_metric('me', round(me, 3))\n",
    "            mlflow.log_metric('mae', round(mae, 3))\n",
    "        \n",
    "    # Save model\n",
    "    joblib.dump(regressor, model_path)\n",
    "\n",
    "    # Log the last batch model as the parent Run model\n",
    "    mlflow.log_artifact(model_path)\n",
    "    \n",
    "    # Log metrics\n",
    "    average_run_merics = pd.DataFrame.from_dict(metrics).T.mean().round(3).to_dict()\n",
    "    mlflow.log_metrics(average_run_merics)"
   ]
  },
  {
   "cell_type": "markdown",
   "metadata": {},
   "source": [
    "# Log metrics by steps or timestamps"
   ]
  },
  {
   "cell_type": "code",
   "execution_count": 15,
   "metadata": {
    "execution": {
     "iopub.execute_input": "2025-06-17T02:35:52.761193Z",
     "iopub.status.busy": "2025-06-17T02:35:52.761082Z",
     "iopub.status.idle": "2025-06-17T02:35:53.269525Z",
     "shell.execute_reply": "2025-06-17T02:35:53.269310Z",
     "shell.execute_reply.started": "2025-06-17T02:35:52.761186Z"
    },
    "scrolled": true
   },
   "outputs": [
    {
     "name": "stderr",
     "output_type": "stream",
     "text": [
      "2025/06/17 09:35:52 INFO mlflow.tracking.fluent: Experiment with name '3-Metrics-by-steps' does not exist. Creating a new experiment.\n",
      "2025/06/17 09:35:52 INFO mlflow.system_metrics.system_metrics_monitor: Skip logging GPU metrics. Set logger level to DEBUG for more details.\n",
      "2025/06/17 09:35:52 INFO mlflow.system_metrics.system_metrics_monitor: Started monitoring system metrics.\n"
     ]
    },
    {
     "name": "stdout",
     "output_type": "stream",
     "text": [
      "Client tracking uri: http://localhost:5001\n",
      "Train period: 2011-01-02 00:00:00 - 2011-01-30 23:00:00\n",
      "X_train (reference) dataset shape:  (617, 10) (617,)\n",
      "Test period: 2011-01-31 00:00:00 - 2011-02-06 23:00:00\n",
      "X_test (current)) dataset shape:  (141, 10) (141,)\n",
      "Train period: 2011-01-02 00:00:00 - 2011-02-06 23:00:00\n",
      "X_train (reference) dataset shape:  (782, 10) (782,)\n",
      "Test period: 2011-02-07 23:00:00 - 2011-02-13 23:00:00\n",
      "X_test (current)) dataset shape:  (139, 10) (139,)\n",
      "Train period: 2011-01-02 00:00:00 - 2011-02-13 23:00:00\n",
      "X_train (reference) dataset shape:  (945, 10) (945,)\n",
      "Test period: 2011-02-14 23:00:00 - 2011-02-20 23:00:00\n",
      "X_test (current)) dataset shape:  (141, 10) (141,)\n",
      "Train period: 2011-01-02 00:00:00 - 2011-02-20 23:00:00\n",
      "X_train (reference) dataset shape:  (1110, 10) (1110,)\n",
      "Test period: 2011-02-21 00:00:00 - 2011-02-27 23:00:00\n",
      "X_test (current)) dataset shape:  (134, 10) (134,)\n",
      "Train period: 2011-01-02 00:00:00 - 2011-02-27 23:00:00\n",
      "X_train (reference) dataset shape:  (1268, 10) (1268,)\n",
      "Test period: 2011-02-28 00:00:00 - 2011-03-06 23:00:00\n",
      "X_test (current)) dataset shape:  (143, 10) (143,)\n"
     ]
    },
    {
     "name": "stderr",
     "output_type": "stream",
     "text": [
      "2025/06/17 09:35:53 INFO mlflow.system_metrics.system_metrics_monitor: Stopping system metrics monitoring...\n",
      "2025/06/17 09:35:53 INFO mlflow.system_metrics.system_metrics_monitor: Successfully terminated system metrics monitoring!\n"
     ]
    },
    {
     "name": "stdout",
     "output_type": "stream",
     "text": [
      "🏃 View run hilarious-shrew-687 at: http://localhost:5001/#/experiments/958827083967108750/runs/e59d64f8d86d418c859ae30b3305e6df\n",
      "🧪 View experiment at: http://localhost:5001/#/experiments/958827083967108750\n"
     ]
    }
   ],
   "source": [
    "import time\n",
    "import datetime\n",
    "\n",
    "# Set up MLFlow Client\n",
    "MLFLOW_TRACKING_URI = \"http://localhost:5001\"\n",
    "mlflow.set_tracking_uri(MLFLOW_TRACKING_URI)\n",
    "client = MlflowClient()\n",
    "print(f\"Client tracking uri: {client.tracking_uri}\")\n",
    "\n",
    "# Set experiment name\n",
    "mlflow.set_experiment('3-Metrics-by-steps')\n",
    "\n",
    "# Set experiment variables\n",
    "model_path = Path('../models/model.joblib')\n",
    "ref_end_data = end_date_0\n",
    "\n",
    "# Start a new MLflow Run\n",
    "with mlflow.start_run() as run: \n",
    "\n",
    "    # Run model train for each batch (K-Fold)\n",
    "    for k, date in enumerate(experiment_batches):\n",
    "\n",
    "        # Calculate timestamp\n",
    "        timestamp = time.mktime(datetime.datetime.strptime(date[1], \"%Y-%m-%d %H:%M:%S\").timetuple())\n",
    "    \n",
    "        print(f\"Train period: {start_date_0} - {ref_end_data}\") \n",
    "        X_train = raw_data.loc[start_date_0:ref_end_data, numerical_features + categorical_features]\n",
    "        y_train = raw_data.loc[start_date_0:ref_end_data, target]\n",
    "        print(\"X_train (reference) dataset shape: \", X_train.shape, y_train.shape)\n",
    "        \n",
    "        print(f\"Test period: {date[0]} - {date[1]}\") \n",
    "        current = raw_data.loc[date[0]:date[1]]\n",
    "        X_test = current.loc[:, numerical_features + categorical_features]\n",
    "        y_test = current[target]\n",
    "        print(\"X_test (current)) dataset shape: \",  X_test.shape, y_test.shape)\n",
    "        \n",
    "        # Update reference end date\n",
    "        ref_end_data = date[1]\n",
    "        \n",
    "        # Train model\n",
    "        regressor = ensemble.RandomForestRegressor(random_state = 0, n_estimators = 50)\n",
    "        regressor.fit(X_train, y_train)\n",
    "    \n",
    "        # Calculate metrics\n",
    "        preds = regressor.predict(X_test)\n",
    "        me = mean_squared_error(y_test, preds)\n",
    "        mae = mean_absolute_error(y_test, preds)\n",
    "        # print(me, mae)\n",
    "        \n",
    "        # Log metrics (use Client)\n",
    "        # >>> 'timestamp' - Time when this metric was calculated. Defaults to the current system time\n",
    "        # >>> 'step' -  Integer training step (iteration) at which was the metric calculated. Defaults to 0.\n",
    "        client.log_metric(run.info.run_id, 'me', round(me, 3), timestamp=int(timestamp)*1000)\n",
    "        client.log_metric(run.info.run_id, 'mae', round(mae, 3), step=k)\n",
    "\n",
    "    # Log model \n",
    "    mlflow.log_artifact(model_path)\n",
    "\n",
    "    # Log parameters\n",
    "    mlflow.log_param(\"begin\", date[0])\n",
    "    mlflow.log_param(\"end\", date[1])\n",
    "    "
   ]
  },
  {
   "cell_type": "markdown",
   "metadata": {},
   "source": [
    "## Use Run ID to add a nested run\n"
   ]
  },
  {
   "cell_type": "code",
   "execution_count": 16,
   "metadata": {
    "execution": {
     "iopub.execute_input": "2025-06-17T02:35:53.270145Z",
     "iopub.status.busy": "2025-06-17T02:35:53.270058Z",
     "iopub.status.idle": "2025-06-17T02:35:53.305775Z",
     "shell.execute_reply": "2025-06-17T02:35:53.305494Z",
     "shell.execute_reply.started": "2025-06-17T02:35:53.270137Z"
    }
   },
   "outputs": [
    {
     "name": "stderr",
     "output_type": "stream",
     "text": [
      "2025/06/17 09:35:53 INFO mlflow.system_metrics.system_metrics_monitor: Skip logging GPU metrics. Set logger level to DEBUG for more details.\n",
      "2025/06/17 09:35:53 INFO mlflow.system_metrics.system_metrics_monitor: Started monitoring system metrics.\n",
      "2025/06/17 09:35:53 INFO mlflow.system_metrics.system_metrics_monitor: Stopping system metrics monitoring...\n",
      "2025/06/17 09:35:53 INFO mlflow.system_metrics.system_metrics_monitor: Successfully terminated system metrics monitoring!\n"
     ]
    },
    {
     "name": "stdout",
     "output_type": "stream",
     "text": [
      "<ActiveRun: >\n",
      "🏃 View run invincible-kite-975 at: http://localhost:5001/#/experiments/958827083967108750/runs/16b056dc7bad45f4b526bea7128a5e62\n",
      "🧪 View experiment at: http://localhost:5001/#/experiments/958827083967108750\n"
     ]
    }
   ],
   "source": [
    "# Train script\n",
    "\n",
    "# Start a new Run (Parent Run)\n",
    "with mlflow.start_run() as run: \n",
    "    print(run)\n",
    "    "
   ]
  },
  {
   "cell_type": "code",
   "execution_count": null,
   "metadata": {},
   "outputs": [],
   "source": []
  },
  {
   "cell_type": "code",
   "execution_count": null,
   "metadata": {},
   "outputs": [],
   "source": []
  },
  {
   "cell_type": "code",
   "execution_count": null,
   "metadata": {},
   "outputs": [],
   "source": []
  }
 ],
 "metadata": {
  "colab": {
   "provenance": []
  },
  "kernelspec": {
   "display_name": "Python 3 (ipykernel)",
   "language": "python",
   "name": "python3"
  },
  "language_info": {
   "codemirror_mode": {
    "name": "ipython",
    "version": 3
   },
   "file_extension": ".py",
   "mimetype": "text/x-python",
   "name": "python",
   "nbconvert_exporter": "python",
   "pygments_lexer": "ipython3",
   "version": "3.13.4"
  },
  "toc": {
   "base_numbering": 1,
   "nav_menu": {},
   "number_sections": true,
   "sideBar": true,
   "skip_h1_title": false,
   "title_cell": "Table of Contents",
   "title_sidebar": "Contents",
   "toc_cell": false,
   "toc_position": {},
   "toc_section_display": true,
   "toc_window_display": false
  }
 },
 "nbformat": 4,
 "nbformat_minor": 4
}
