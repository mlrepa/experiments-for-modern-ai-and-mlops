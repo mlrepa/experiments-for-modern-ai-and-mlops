{
 "cells": [
  {
   "cell_type": "markdown",
   "metadata": {
    "id": "QgumzOZ5wgec",
    "pycharm": {
     "name": "#%% md\n"
    }
   },
   "source": [
    "# Model Training with K-Folds Cross-Validation"
   ]
  },
  {
   "cell_type": "code",
   "execution_count": 1,
   "metadata": {
    "execution": {
     "iopub.execute_input": "2024-10-17T18:23:13.931568Z",
     "iopub.status.busy": "2024-10-17T18:23:13.931250Z",
     "iopub.status.idle": "2024-10-17T18:23:15.904035Z",
     "shell.execute_reply": "2024-10-17T18:23:15.903694Z",
     "shell.execute_reply.started": "2024-10-17T18:23:13.931525Z"
    },
    "id": "rByuPhg7wgei",
    "pycharm": {
     "name": "#%%\n"
    }
   },
   "outputs": [],
   "source": [
    "%load_ext autoreload\n",
    "%autoreload 2\n",
    "\n",
    "import joblib\n",
    "import mlflow\n",
    "import mlflow.sklearn\n",
    "from mlflow.tracking import MlflowClient\n",
    "import pandas as pd\n",
    "\n",
    "from pathlib import Path\n",
    "from sklearn import ensemble\n",
    "from sklearn.metrics import mean_squared_error, mean_absolute_error\n",
    "from typing import Dict, Tuple"
   ]
  },
  {
   "cell_type": "markdown",
   "metadata": {},
   "source": [
    "# Prepare Data"
   ]
  },
  {
   "cell_type": "markdown",
   "metadata": {
    "id": "zw5Tap_Xwgej",
    "pycharm": {
     "name": "#%% md\n"
    }
   },
   "source": [
    "## Load Data"
   ]
  },
  {
   "cell_type": "markdown",
   "metadata": {
    "id": "VqGH1Mr6wgej",
    "pycharm": {
     "name": "#%% md\n"
    }
   },
   "source": [
    "More information about the dataset can be found in UCI machine learning repository: https://archive.ics.uci.edu/ml/datasets/bike+sharing+dataset\n",
    "\n",
    "Acknowledgement: Fanaee-T, Hadi, and Gama, Joao, 'Event labeling combining ensemble detectors and background knowledge', Progress in Artificial Intelligence (2013): pp. 1-15, Springer Berlin Heidelberg"
   ]
  },
  {
   "cell_type": "code",
   "execution_count": 2,
   "metadata": {
    "execution": {
     "iopub.execute_input": "2024-10-17T18:23:15.904974Z",
     "iopub.status.busy": "2024-10-17T18:23:15.904807Z",
     "iopub.status.idle": "2024-10-17T18:23:15.930593Z",
     "shell.execute_reply": "2024-10-17T18:23:15.930282Z",
     "shell.execute_reply.started": "2024-10-17T18:23:15.904964Z"
    },
    "id": "36Gk-YMhwgek",
    "pycharm": {
     "name": "#%%\n"
    }
   },
   "outputs": [
    {
     "data": {
      "text/html": [
       "<div>\n",
       "<style scoped>\n",
       "    .dataframe tbody tr th:only-of-type {\n",
       "        vertical-align: middle;\n",
       "    }\n",
       "\n",
       "    .dataframe tbody tr th {\n",
       "        vertical-align: top;\n",
       "    }\n",
       "\n",
       "    .dataframe thead th {\n",
       "        text-align: right;\n",
       "    }\n",
       "</style>\n",
       "<table border=\"1\" class=\"dataframe\">\n",
       "  <thead>\n",
       "    <tr style=\"text-align: right;\">\n",
       "      <th></th>\n",
       "      <th>instant</th>\n",
       "      <th>dteday</th>\n",
       "      <th>season</th>\n",
       "      <th>yr</th>\n",
       "      <th>mnth</th>\n",
       "      <th>hr</th>\n",
       "      <th>holiday</th>\n",
       "      <th>weekday</th>\n",
       "      <th>workingday</th>\n",
       "      <th>weathersit</th>\n",
       "      <th>temp</th>\n",
       "      <th>atemp</th>\n",
       "      <th>hum</th>\n",
       "      <th>windspeed</th>\n",
       "      <th>casual</th>\n",
       "      <th>registered</th>\n",
       "      <th>cnt</th>\n",
       "    </tr>\n",
       "  </thead>\n",
       "  <tbody>\n",
       "    <tr>\n",
       "      <th>0</th>\n",
       "      <td>1</td>\n",
       "      <td>2011-01-01</td>\n",
       "      <td>1</td>\n",
       "      <td>0</td>\n",
       "      <td>1</td>\n",
       "      <td>0</td>\n",
       "      <td>0</td>\n",
       "      <td>6</td>\n",
       "      <td>0</td>\n",
       "      <td>1</td>\n",
       "      <td>0.24</td>\n",
       "      <td>0.2879</td>\n",
       "      <td>0.81</td>\n",
       "      <td>0.0</td>\n",
       "      <td>3</td>\n",
       "      <td>13</td>\n",
       "      <td>16</td>\n",
       "    </tr>\n",
       "    <tr>\n",
       "      <th>1</th>\n",
       "      <td>2</td>\n",
       "      <td>2011-01-01</td>\n",
       "      <td>1</td>\n",
       "      <td>0</td>\n",
       "      <td>1</td>\n",
       "      <td>1</td>\n",
       "      <td>0</td>\n",
       "      <td>6</td>\n",
       "      <td>0</td>\n",
       "      <td>1</td>\n",
       "      <td>0.22</td>\n",
       "      <td>0.2727</td>\n",
       "      <td>0.80</td>\n",
       "      <td>0.0</td>\n",
       "      <td>8</td>\n",
       "      <td>32</td>\n",
       "      <td>40</td>\n",
       "    </tr>\n",
       "    <tr>\n",
       "      <th>2</th>\n",
       "      <td>3</td>\n",
       "      <td>2011-01-01</td>\n",
       "      <td>1</td>\n",
       "      <td>0</td>\n",
       "      <td>1</td>\n",
       "      <td>2</td>\n",
       "      <td>0</td>\n",
       "      <td>6</td>\n",
       "      <td>0</td>\n",
       "      <td>1</td>\n",
       "      <td>0.22</td>\n",
       "      <td>0.2727</td>\n",
       "      <td>0.80</td>\n",
       "      <td>0.0</td>\n",
       "      <td>5</td>\n",
       "      <td>27</td>\n",
       "      <td>32</td>\n",
       "    </tr>\n",
       "    <tr>\n",
       "      <th>3</th>\n",
       "      <td>4</td>\n",
       "      <td>2011-01-01</td>\n",
       "      <td>1</td>\n",
       "      <td>0</td>\n",
       "      <td>1</td>\n",
       "      <td>3</td>\n",
       "      <td>0</td>\n",
       "      <td>6</td>\n",
       "      <td>0</td>\n",
       "      <td>1</td>\n",
       "      <td>0.24</td>\n",
       "      <td>0.2879</td>\n",
       "      <td>0.75</td>\n",
       "      <td>0.0</td>\n",
       "      <td>3</td>\n",
       "      <td>10</td>\n",
       "      <td>13</td>\n",
       "    </tr>\n",
       "    <tr>\n",
       "      <th>4</th>\n",
       "      <td>5</td>\n",
       "      <td>2011-01-01</td>\n",
       "      <td>1</td>\n",
       "      <td>0</td>\n",
       "      <td>1</td>\n",
       "      <td>4</td>\n",
       "      <td>0</td>\n",
       "      <td>6</td>\n",
       "      <td>0</td>\n",
       "      <td>1</td>\n",
       "      <td>0.24</td>\n",
       "      <td>0.2879</td>\n",
       "      <td>0.75</td>\n",
       "      <td>0.0</td>\n",
       "      <td>0</td>\n",
       "      <td>1</td>\n",
       "      <td>1</td>\n",
       "    </tr>\n",
       "  </tbody>\n",
       "</table>\n",
       "</div>"
      ],
      "text/plain": [
       "   instant      dteday  season  yr  mnth  hr  holiday  weekday  workingday  \\\n",
       "0        1  2011-01-01       1   0     1   0        0        6           0   \n",
       "1        2  2011-01-01       1   0     1   1        0        6           0   \n",
       "2        3  2011-01-01       1   0     1   2        0        6           0   \n",
       "3        4  2011-01-01       1   0     1   3        0        6           0   \n",
       "4        5  2011-01-01       1   0     1   4        0        6           0   \n",
       "\n",
       "   weathersit  temp   atemp   hum  windspeed  casual  registered  cnt  \n",
       "0           1  0.24  0.2879  0.81        0.0       3          13   16  \n",
       "1           1  0.22  0.2727  0.80        0.0       8          32   40  \n",
       "2           1  0.22  0.2727  0.80        0.0       5          27   32  \n",
       "3           1  0.24  0.2879  0.75        0.0       3          10   13  \n",
       "4           1  0.24  0.2879  0.75        0.0       0           1    1  "
      ]
     },
     "execution_count": 2,
     "metadata": {},
     "output_type": "execute_result"
    }
   ],
   "source": [
    "# Download original dataset with: python src/load_data.py \n",
    "\n",
    "raw_data = pd.read_csv(f\"../data/raw_data.csv\")\n",
    "raw_data.head()"
   ]
  },
  {
   "cell_type": "markdown",
   "metadata": {
    "id": "dhZOCJZ1wgel",
    "pycharm": {
     "name": "#%% md\n"
    }
   },
   "source": [
    "## Define column mapping"
   ]
  },
  {
   "cell_type": "code",
   "execution_count": 3,
   "metadata": {
    "execution": {
     "iopub.execute_input": "2024-10-17T18:23:15.931118Z",
     "iopub.status.busy": "2024-10-17T18:23:15.930978Z",
     "iopub.status.idle": "2024-10-17T18:23:15.961868Z",
     "shell.execute_reply": "2024-10-17T18:23:15.961396Z",
     "shell.execute_reply.started": "2024-10-17T18:23:15.931104Z"
    },
    "id": "_i8edS6Ewgem",
    "pycharm": {
     "name": "#%%\n"
    }
   },
   "outputs": [],
   "source": [
    "target = 'cnt'\n",
    "prediction = 'prediction'\n",
    "datetime = 'dteday'\n",
    "numerical_features = ['temp', 'atemp', 'hum', 'windspeed', 'mnth', 'hr', 'weekday']\n",
    "categorical_features = ['season', 'holiday', 'workingday', ]"
   ]
  },
  {
   "cell_type": "markdown",
   "metadata": {
    "id": "q5lW24Xzwgex",
    "pycharm": {
     "name": "#%% md\n"
    }
   },
   "source": [
    "## Define the comparison windows"
   ]
  },
  {
   "cell_type": "code",
   "execution_count": 4,
   "metadata": {
    "execution": {
     "iopub.execute_input": "2024-10-17T18:23:15.963258Z",
     "iopub.status.busy": "2024-10-17T18:23:15.963147Z",
     "iopub.status.idle": "2024-10-17T18:23:15.977589Z",
     "shell.execute_reply": "2024-10-17T18:23:15.977329Z",
     "shell.execute_reply.started": "2024-10-17T18:23:15.963247Z"
    },
    "id": "L6PKtAGEwgey",
    "pycharm": {
     "name": "#%%\n"
    }
   },
   "outputs": [],
   "source": [
    "start_date_0 = '2011-01-02 00:00:00'\n",
    "end_date_0 = '2011-01-30 23:00:00'\n",
    "\n",
    "experiment_batches = [\n",
    "    \n",
    "    ('2011-01-31 00:00:00','2011-02-06 23:00:00'),\n",
    "    ('2011-02-07 23:00:00','2011-02-13 23:00:00'),\n",
    "    ('2011-02-14 23:00:00','2011-02-20 23:00:00'),\n",
    "    ('2011-02-21 00:00:00','2011-02-27 23:00:00'),\n",
    "    ('2011-02-28 00:00:00','2011-03-06 23:00:00'),  \n",
    "]"
   ]
  },
  {
   "cell_type": "markdown",
   "metadata": {},
   "source": [
    "## Define the Reference data"
   ]
  },
  {
   "cell_type": "code",
   "execution_count": 5,
   "metadata": {
    "execution": {
     "iopub.execute_input": "2024-10-17T18:23:15.978171Z",
     "iopub.status.busy": "2024-10-17T18:23:15.978054Z",
     "iopub.status.idle": "2024-10-17T18:23:15.992876Z",
     "shell.execute_reply": "2024-10-17T18:23:15.992627Z",
     "shell.execute_reply.started": "2024-10-17T18:23:15.978152Z"
    }
   },
   "outputs": [
    {
     "name": "stdout",
     "output_type": "stream",
     "text": [
      "(617, 16)\n"
     ]
    },
    {
     "data": {
      "text/html": [
       "<div>\n",
       "<style scoped>\n",
       "    .dataframe tbody tr th:only-of-type {\n",
       "        vertical-align: middle;\n",
       "    }\n",
       "\n",
       "    .dataframe tbody tr th {\n",
       "        vertical-align: top;\n",
       "    }\n",
       "\n",
       "    .dataframe thead th {\n",
       "        text-align: right;\n",
       "    }\n",
       "</style>\n",
       "<table border=\"1\" class=\"dataframe\">\n",
       "  <thead>\n",
       "    <tr style=\"text-align: right;\">\n",
       "      <th></th>\n",
       "      <th>instant</th>\n",
       "      <th>season</th>\n",
       "      <th>yr</th>\n",
       "      <th>mnth</th>\n",
       "      <th>hr</th>\n",
       "      <th>holiday</th>\n",
       "      <th>weekday</th>\n",
       "      <th>workingday</th>\n",
       "      <th>weathersit</th>\n",
       "      <th>temp</th>\n",
       "      <th>atemp</th>\n",
       "      <th>hum</th>\n",
       "      <th>windspeed</th>\n",
       "      <th>casual</th>\n",
       "      <th>registered</th>\n",
       "      <th>cnt</th>\n",
       "    </tr>\n",
       "    <tr>\n",
       "      <th>dteday</th>\n",
       "      <th></th>\n",
       "      <th></th>\n",
       "      <th></th>\n",
       "      <th></th>\n",
       "      <th></th>\n",
       "      <th></th>\n",
       "      <th></th>\n",
       "      <th></th>\n",
       "      <th></th>\n",
       "      <th></th>\n",
       "      <th></th>\n",
       "      <th></th>\n",
       "      <th></th>\n",
       "      <th></th>\n",
       "      <th></th>\n",
       "      <th></th>\n",
       "    </tr>\n",
       "  </thead>\n",
       "  <tbody>\n",
       "    <tr>\n",
       "      <th>2011-01-03</th>\n",
       "      <td>48</td>\n",
       "      <td>1</td>\n",
       "      <td>0</td>\n",
       "      <td>1</td>\n",
       "      <td>0</td>\n",
       "      <td>0</td>\n",
       "      <td>1</td>\n",
       "      <td>1</td>\n",
       "      <td>1</td>\n",
       "      <td>0.22</td>\n",
       "      <td>0.1970</td>\n",
       "      <td>0.44</td>\n",
       "      <td>0.3582</td>\n",
       "      <td>0</td>\n",
       "      <td>5</td>\n",
       "      <td>5</td>\n",
       "    </tr>\n",
       "    <tr>\n",
       "      <th>2011-01-03</th>\n",
       "      <td>49</td>\n",
       "      <td>1</td>\n",
       "      <td>0</td>\n",
       "      <td>1</td>\n",
       "      <td>1</td>\n",
       "      <td>0</td>\n",
       "      <td>1</td>\n",
       "      <td>1</td>\n",
       "      <td>1</td>\n",
       "      <td>0.20</td>\n",
       "      <td>0.1667</td>\n",
       "      <td>0.44</td>\n",
       "      <td>0.4179</td>\n",
       "      <td>0</td>\n",
       "      <td>2</td>\n",
       "      <td>2</td>\n",
       "    </tr>\n",
       "    <tr>\n",
       "      <th>2011-01-03</th>\n",
       "      <td>50</td>\n",
       "      <td>1</td>\n",
       "      <td>0</td>\n",
       "      <td>1</td>\n",
       "      <td>4</td>\n",
       "      <td>0</td>\n",
       "      <td>1</td>\n",
       "      <td>1</td>\n",
       "      <td>1</td>\n",
       "      <td>0.16</td>\n",
       "      <td>0.1364</td>\n",
       "      <td>0.47</td>\n",
       "      <td>0.3881</td>\n",
       "      <td>0</td>\n",
       "      <td>1</td>\n",
       "      <td>1</td>\n",
       "    </tr>\n",
       "    <tr>\n",
       "      <th>2011-01-03</th>\n",
       "      <td>51</td>\n",
       "      <td>1</td>\n",
       "      <td>0</td>\n",
       "      <td>1</td>\n",
       "      <td>5</td>\n",
       "      <td>0</td>\n",
       "      <td>1</td>\n",
       "      <td>1</td>\n",
       "      <td>1</td>\n",
       "      <td>0.16</td>\n",
       "      <td>0.1364</td>\n",
       "      <td>0.47</td>\n",
       "      <td>0.2836</td>\n",
       "      <td>0</td>\n",
       "      <td>3</td>\n",
       "      <td>3</td>\n",
       "    </tr>\n",
       "    <tr>\n",
       "      <th>2011-01-03</th>\n",
       "      <td>52</td>\n",
       "      <td>1</td>\n",
       "      <td>0</td>\n",
       "      <td>1</td>\n",
       "      <td>6</td>\n",
       "      <td>0</td>\n",
       "      <td>1</td>\n",
       "      <td>1</td>\n",
       "      <td>1</td>\n",
       "      <td>0.14</td>\n",
       "      <td>0.1061</td>\n",
       "      <td>0.50</td>\n",
       "      <td>0.3881</td>\n",
       "      <td>0</td>\n",
       "      <td>30</td>\n",
       "      <td>30</td>\n",
       "    </tr>\n",
       "  </tbody>\n",
       "</table>\n",
       "</div>"
      ],
      "text/plain": [
       "            instant  season  yr  mnth  hr  holiday  weekday  workingday  \\\n",
       "dteday                                                                    \n",
       "2011-01-03       48       1   0     1   0        0        1           1   \n",
       "2011-01-03       49       1   0     1   1        0        1           1   \n",
       "2011-01-03       50       1   0     1   4        0        1           1   \n",
       "2011-01-03       51       1   0     1   5        0        1           1   \n",
       "2011-01-03       52       1   0     1   6        0        1           1   \n",
       "\n",
       "            weathersit  temp   atemp   hum  windspeed  casual  registered  cnt  \n",
       "dteday                                                                          \n",
       "2011-01-03           1  0.22  0.1970  0.44     0.3582       0           5    5  \n",
       "2011-01-03           1  0.20  0.1667  0.44     0.4179       0           2    2  \n",
       "2011-01-03           1  0.16  0.1364  0.47     0.3881       0           1    1  \n",
       "2011-01-03           1  0.16  0.1364  0.47     0.2836       0           3    3  \n",
       "2011-01-03           1  0.14  0.1061  0.50     0.3881       0          30   30  "
      ]
     },
     "execution_count": 5,
     "metadata": {},
     "output_type": "execute_result"
    }
   ],
   "source": [
    "# Set datetime index \n",
    "raw_data = raw_data.set_index('dteday')\n",
    "\n",
    "# Define the reference dataset\n",
    "reference = raw_data.loc[start_date_0:end_date_0]\n",
    "\n",
    "print(reference.shape)\n",
    "reference.head()"
   ]
  },
  {
   "cell_type": "markdown",
   "metadata": {},
   "source": [
    "# MLflow Client"
   ]
  },
  {
   "cell_type": "markdown",
   "metadata": {},
   "source": [
    "## Set up MLFlow"
   ]
  },
  {
   "cell_type": "code",
   "execution_count": 6,
   "metadata": {
    "execution": {
     "iopub.execute_input": "2024-10-17T18:23:15.993476Z",
     "iopub.status.busy": "2024-10-17T18:23:15.993398Z",
     "iopub.status.idle": "2024-10-17T18:23:16.008155Z",
     "shell.execute_reply": "2024-10-17T18:23:16.007829Z",
     "shell.execute_reply.started": "2024-10-17T18:23:15.993467Z"
    }
   },
   "outputs": [
    {
     "name": "stdout",
     "output_type": "stream",
     "text": [
      "Client tracking uri: http://localhost:5001\n"
     ]
    }
   ],
   "source": [
    "# Set up MLFlow Client\n",
    "MLFLOW_TRACKING_URI = \"http://localhost:5001\"\n",
    "mlflow.set_tracking_uri(MLFLOW_TRACKING_URI)\n",
    "\n",
    "client = MlflowClient()\n",
    "print(f\"Client tracking uri: {client.tracking_uri}\")"
   ]
  },
  {
   "cell_type": "code",
   "execution_count": 7,
   "metadata": {
    "execution": {
     "iopub.execute_input": "2024-10-17T18:23:16.008900Z",
     "iopub.status.busy": "2024-10-17T18:23:16.008637Z",
     "iopub.status.idle": "2024-10-17T18:23:16.022659Z",
     "shell.execute_reply": "2024-10-17T18:23:16.022350Z",
     "shell.execute_reply.started": "2024-10-17T18:23:16.008884Z"
    }
   },
   "outputs": [
    {
     "data": {
      "text/plain": [
       "<mlflow.tracking.client.MlflowClient at 0x338bf0f90>"
      ]
     },
     "execution_count": 7,
     "metadata": {},
     "output_type": "execute_result"
    }
   ],
   "source": [
    "client"
   ]
  },
  {
   "cell_type": "markdown",
   "metadata": {},
   "source": [
    "## Create a new Experiment\n",
    "\n",
    "In order to group any distinct runs of a particular project or idea together, we can define an Experiment that will group each iteration (runs) together. \n",
    "Defining a unique name that is relevant to what we're working on helps with organization and reduces the amount of work (searching) to find our runs later on. "
   ]
  },
  {
   "cell_type": "code",
   "execution_count": 15,
   "metadata": {
    "execution": {
     "iopub.execute_input": "2024-10-17T18:26:54.433830Z",
     "iopub.status.busy": "2024-10-17T18:26:54.433147Z",
     "iopub.status.idle": "2024-10-17T18:26:54.466253Z",
     "shell.execute_reply": "2024-10-17T18:26:54.465857Z",
     "shell.execute_reply.started": "2024-10-17T18:26:54.433793Z"
    }
   },
   "outputs": [
    {
     "data": {
      "text/plain": [
       "<Experiment: artifact_location='mlflow-artifacts:/768586447343596636', creation_time=1729189028394, experiment_id='768586447343596636', last_update_time=1729189028394, lifecycle_stage='active', name='1-Train-K-Fold', tags={}>"
      ]
     },
     "execution_count": 15,
     "metadata": {},
     "output_type": "execute_result"
    }
   ],
   "source": [
    "# Get an experiment by name if it exists\n",
    "\n",
    "exp = client.get_experiment_by_name('1-Train-K-Fold')\n",
    "exp"
   ]
  },
  {
   "cell_type": "code",
   "execution_count": 16,
   "metadata": {
    "execution": {
     "iopub.execute_input": "2024-10-17T18:26:56.795990Z",
     "iopub.status.busy": "2024-10-17T18:26:56.795524Z",
     "iopub.status.idle": "2024-10-17T18:26:56.822136Z",
     "shell.execute_reply": "2024-10-17T18:26:56.821532Z",
     "shell.execute_reply.started": "2024-10-17T18:26:56.795960Z"
    },
    "scrolled": true
   },
   "outputs": [
    {
     "data": {
      "text/plain": [
       "'768586447343596636'"
      ]
     },
     "execution_count": 16,
     "metadata": {},
     "output_type": "execute_result"
    }
   ],
   "source": [
    "# Create a new experiment if it doesn't exist\n",
    "\n",
    "if exp:\n",
    "    experiment_id = exp.experiment_id\n",
    "else:\n",
    "    experiment_id = client.create_experiment('1-Train-K-Fold')\n",
    "    \n",
    "experiment_id"
   ]
  },
  {
   "cell_type": "code",
   "execution_count": 17,
   "metadata": {
    "execution": {
     "iopub.execute_input": "2024-10-17T18:26:58.363861Z",
     "iopub.status.busy": "2024-10-17T18:26:58.363318Z",
     "iopub.status.idle": "2024-10-17T18:26:58.396057Z",
     "shell.execute_reply": "2024-10-17T18:26:58.395729Z",
     "shell.execute_reply.started": "2024-10-17T18:26:58.363823Z"
    },
    "scrolled": true
   },
   "outputs": [
    {
     "name": "stdout",
     "output_type": "stream",
     "text": [
      "Name: 1-Train-K-Fold\n",
      "Experiment_id: 768586447343596636\n",
      "Artifact Location: mlflow-artifacts:/768586447343596636\n",
      "Tags: {}\n",
      "Lifecycle_stage: active\n"
     ]
    }
   ],
   "source": [
    "# Fetch experiment metadata information\n",
    "\n",
    "experiment = client.get_experiment(experiment_id)\n",
    "print(f\"Name: {experiment.name}\")\n",
    "print(f\"Experiment_id: {experiment.experiment_id}\")\n",
    "print(f\"Artifact Location: {experiment.artifact_location}\")\n",
    "print(f\"Tags: {experiment.tags}\")\n",
    "print(f\"Lifecycle_stage: {experiment.lifecycle_stage}\")"
   ]
  },
  {
   "cell_type": "markdown",
   "metadata": {},
   "source": [
    "# Metrics Tracking for K-Fold Experiments"
   ]
  },
  {
   "cell_type": "code",
   "execution_count": 18,
   "metadata": {
    "execution": {
     "iopub.execute_input": "2024-10-17T18:27:09.484422Z",
     "iopub.status.busy": "2024-10-17T18:27:09.483921Z",
     "iopub.status.idle": "2024-10-17T18:27:10.189445Z",
     "shell.execute_reply": "2024-10-17T18:27:10.189187Z",
     "shell.execute_reply.started": "2024-10-17T18:27:09.484391Z"
    },
    "id": "bTHU8eAqwgez",
    "pycharm": {
     "name": "#%%\n"
    },
    "scrolled": true
   },
   "outputs": [
    {
     "name": "stderr",
     "output_type": "stream",
     "text": [
      "2024/10/17 20:27:09 INFO mlflow.tracking._tracking_service.client: 🏃 View run rumbling-donkey-534 at: http://localhost:5001/#/experiments/768586447343596636/runs/7f9787646ce64d28bb3e1fd714f9119f.\n",
      "2024/10/17 20:27:09 INFO mlflow.tracking._tracking_service.client: 🧪 View experiment at: http://localhost:5001/#/experiments/768586447343596636.\n"
     ]
    },
    {
     "name": "stdout",
     "output_type": "stream",
     "text": [
      "Train period: 2011-01-02 00:00:00 - 2011-01-30 23:00:00\n",
      "X_train (reference) dataset shape:  (617, 10) (617,)\n",
      "Test period: 2011-01-31 00:00:00 - 2011-02-06 23:00:00\n",
      "X_test (current)) dataset shape:  (141, 10) (141,)\n",
      "Experiment id: 768586447343596636\n",
      "Run id: 7f9787646ce64d28bb3e1fd714f9119f\n",
      "Run name: rumbling-donkey-534\n",
      "MLFlow tracking uri: http://localhost:5001\n",
      "MLFlow artifact uri: mlflow-artifacts:/768586447343596636/7f9787646ce64d28bb3e1fd714f9119f/artifacts\n",
      "Train period: 2011-01-02 00:00:00 - 2011-02-06 23:00:00\n",
      "X_train (reference) dataset shape:  (782, 10) (782,)\n",
      "Test period: 2011-02-07 23:00:00 - 2011-02-13 23:00:00\n",
      "X_test (current)) dataset shape:  (139, 10) (139,)\n"
     ]
    },
    {
     "name": "stderr",
     "output_type": "stream",
     "text": [
      "2024/10/17 20:27:09 INFO mlflow.tracking._tracking_service.client: 🏃 View run nervous-croc-81 at: http://localhost:5001/#/experiments/768586447343596636/runs/c4c91c92fc02463f94393e59511b7d64.\n",
      "2024/10/17 20:27:09 INFO mlflow.tracking._tracking_service.client: 🧪 View experiment at: http://localhost:5001/#/experiments/768586447343596636.\n",
      "2024/10/17 20:27:09 INFO mlflow.tracking._tracking_service.client: 🏃 View run stylish-moth-683 at: http://localhost:5001/#/experiments/768586447343596636/runs/a99b61385f514624a6aa2330fb447db4.\n",
      "2024/10/17 20:27:09 INFO mlflow.tracking._tracking_service.client: 🧪 View experiment at: http://localhost:5001/#/experiments/768586447343596636.\n"
     ]
    },
    {
     "name": "stdout",
     "output_type": "stream",
     "text": [
      "Experiment id: 768586447343596636\n",
      "Run id: c4c91c92fc02463f94393e59511b7d64\n",
      "Run name: nervous-croc-81\n",
      "MLFlow tracking uri: http://localhost:5001\n",
      "MLFlow artifact uri: mlflow-artifacts:/768586447343596636/c4c91c92fc02463f94393e59511b7d64/artifacts\n",
      "Train period: 2011-01-02 00:00:00 - 2011-02-13 23:00:00\n",
      "X_train (reference) dataset shape:  (945, 10) (945,)\n",
      "Test period: 2011-02-14 23:00:00 - 2011-02-20 23:00:00\n",
      "X_test (current)) dataset shape:  (141, 10) (141,)\n",
      "Experiment id: 768586447343596636\n",
      "Run id: a99b61385f514624a6aa2330fb447db4\n",
      "Run name: stylish-moth-683\n",
      "MLFlow tracking uri: http://localhost:5001\n",
      "MLFlow artifact uri: mlflow-artifacts:/768586447343596636/a99b61385f514624a6aa2330fb447db4/artifacts\n",
      "Train period: 2011-01-02 00:00:00 - 2011-02-20 23:00:00\n",
      "X_train (reference) dataset shape:  (1110, 10) (1110,)\n",
      "Test period: 2011-02-21 00:00:00 - 2011-02-27 23:00:00\n",
      "X_test (current)) dataset shape:  (134, 10) (134,)\n"
     ]
    },
    {
     "name": "stderr",
     "output_type": "stream",
     "text": [
      "2024/10/17 20:27:10 INFO mlflow.tracking._tracking_service.client: 🏃 View run painted-crow-173 at: http://localhost:5001/#/experiments/768586447343596636/runs/da8260d85cc1403fa500a9e0389b4c7e.\n",
      "2024/10/17 20:27:10 INFO mlflow.tracking._tracking_service.client: 🧪 View experiment at: http://localhost:5001/#/experiments/768586447343596636.\n",
      "2024/10/17 20:27:10 INFO mlflow.tracking._tracking_service.client: 🏃 View run crawling-smelt-372 at: http://localhost:5001/#/experiments/768586447343596636/runs/226729987fd14c4ca02a6211cc8206bd.\n",
      "2024/10/17 20:27:10 INFO mlflow.tracking._tracking_service.client: 🧪 View experiment at: http://localhost:5001/#/experiments/768586447343596636.\n"
     ]
    },
    {
     "name": "stdout",
     "output_type": "stream",
     "text": [
      "Experiment id: 768586447343596636\n",
      "Run id: da8260d85cc1403fa500a9e0389b4c7e\n",
      "Run name: painted-crow-173\n",
      "MLFlow tracking uri: http://localhost:5001\n",
      "MLFlow artifact uri: mlflow-artifacts:/768586447343596636/da8260d85cc1403fa500a9e0389b4c7e/artifacts\n",
      "Train period: 2011-01-02 00:00:00 - 2011-02-27 23:00:00\n",
      "X_train (reference) dataset shape:  (1268, 10) (1268,)\n",
      "Test period: 2011-02-28 00:00:00 - 2011-03-06 23:00:00\n",
      "X_test (current)) dataset shape:  (143, 10) (143,)\n",
      "Experiment id: 768586447343596636\n",
      "Run id: 226729987fd14c4ca02a6211cc8206bd\n",
      "Run name: crawling-smelt-372\n",
      "MLFlow tracking uri: http://localhost:5001\n",
      "MLFlow artifact uri: mlflow-artifacts:/768586447343596636/226729987fd14c4ca02a6211cc8206bd/artifacts\n"
     ]
    }
   ],
   "source": [
    "# Set experiment\n",
    "mlflow.set_experiment('1-Train-K-Fold') # Create a new Experiment if it doesn't exist\n",
    "\n",
    "# Set experiment variables\n",
    "model_path = Path('../models/model.joblib')\n",
    "ref_end_data = end_date_0\n",
    "\n",
    "# Run model train for each batch (K-Fold)\n",
    "for k, date in enumerate(experiment_batches):\n",
    "\n",
    "    print(f\"Train period: {start_date_0} - {ref_end_data}\") \n",
    "    X_train = raw_data.loc[start_date_0:ref_end_data, numerical_features + categorical_features]\n",
    "    y_train = raw_data.loc[start_date_0:ref_end_data, target]\n",
    "    print(\"X_train (reference) dataset shape: \", X_train.shape, y_train.shape)\n",
    "    \n",
    "    print(f\"Test period: {date[0]} - {date[1]}\") \n",
    "    current = raw_data.loc[date[0]:date[1]]\n",
    "    X_test = current.loc[:, numerical_features + categorical_features]\n",
    "    y_test = current[target]\n",
    "    print(\"X_test (current)) dataset shape: \",  X_test.shape, y_test.shape)\n",
    "\n",
    "    # Train model\n",
    "    regressor = ensemble.RandomForestRegressor(random_state = 0, n_estimators = 50)\n",
    "    regressor.fit(X_train, y_train)\n",
    "\n",
    "    # Calculate metrics\n",
    "    preds = regressor.predict(X_test)\n",
    "    me = mean_squared_error(y_test, preds)\n",
    "    mae = mean_absolute_error(y_test, preds)\n",
    "    # print(me, mae)\n",
    "    \n",
    "    # Start a new MLflow Run\n",
    "    with mlflow.start_run() as run: \n",
    "        \n",
    "        # Show newly created run metadata info\n",
    "        print(\"Experiment id: {}\".format(run.info.experiment_id))\n",
    "        print(\"Run id: {}\".format(run.info.run_id))\n",
    "        print(\"Run name: {}\".format(run.info.run_name))\n",
    "        print('MLFlow tracking uri:', mlflow.get_tracking_uri())\n",
    "        print('MLFlow artifact uri:', mlflow.get_artifact_uri())\n",
    "        \n",
    "        # Log parameters\n",
    "        mlflow.log_param(\"begin\", date[0])\n",
    "        mlflow.log_param(\"end\", date[1])\n",
    "        \n",
    "        # Log metrics\n",
    "        mlflow.log_metric('me', round(me, 3))\n",
    "        mlflow.log_metric('mae', round(mae, 3))\n",
    "        \n",
    "        # Log model \n",
    "        mlflow.log_artifact(model_path)\n",
    "\n",
    "    # Update reference end date\n",
    "    ref_end_data = date[1]\n",
    "    "
   ]
  },
  {
   "cell_type": "markdown",
   "metadata": {},
   "source": [
    "# Nested Runs"
   ]
  },
  {
   "cell_type": "code",
   "execution_count": 19,
   "metadata": {
    "execution": {
     "iopub.execute_input": "2024-10-17T18:27:10.190315Z",
     "iopub.status.busy": "2024-10-17T18:27:10.190220Z",
     "iopub.status.idle": "2024-10-17T18:27:10.203958Z",
     "shell.execute_reply": "2024-10-17T18:27:10.203640Z",
     "shell.execute_reply.started": "2024-10-17T18:27:10.190305Z"
    }
   },
   "outputs": [
    {
     "name": "stdout",
     "output_type": "stream",
     "text": [
      "Client tracking uri: http://localhost:5001\n"
     ]
    }
   ],
   "source": [
    "# Set up MLFlow Client\n",
    "mlflow.set_tracking_uri(MLFLOW_TRACKING_URI)\n",
    "client = MlflowClient()\n",
    "print(f\"Client tracking uri: {client.tracking_uri}\")"
   ]
  },
  {
   "cell_type": "code",
   "execution_count": 20,
   "metadata": {
    "execution": {
     "iopub.execute_input": "2024-10-17T18:27:10.204420Z",
     "iopub.status.busy": "2024-10-17T18:27:10.204337Z",
     "iopub.status.idle": "2024-10-17T18:27:10.225596Z",
     "shell.execute_reply": "2024-10-17T18:27:10.225375Z",
     "shell.execute_reply.started": "2024-10-17T18:27:10.204411Z"
    }
   },
   "outputs": [
    {
     "name": "stderr",
     "output_type": "stream",
     "text": [
      "2024/10/17 20:27:10 INFO mlflow.tracking.fluent: Experiment with name '2-Nested-Runs' does not exist. Creating a new experiment.\n"
     ]
    },
    {
     "data": {
      "text/plain": [
       "<Experiment: artifact_location='mlflow-artifacts:/493439610552836833', creation_time=1729189630220, experiment_id='493439610552836833', last_update_time=1729189630220, lifecycle_stage='active', name='2-Nested-Runs', tags={}>"
      ]
     },
     "execution_count": 20,
     "metadata": {},
     "output_type": "execute_result"
    }
   ],
   "source": [
    "\n",
    "# Set experiment name\n",
    "mlflow.set_experiment('2-Nested-Runs')"
   ]
  },
  {
   "cell_type": "code",
   "execution_count": 21,
   "metadata": {
    "execution": {
     "iopub.execute_input": "2024-10-17T18:27:10.226647Z",
     "iopub.status.busy": "2024-10-17T18:27:10.226533Z",
     "iopub.status.idle": "2024-10-17T18:27:10.837341Z",
     "shell.execute_reply": "2024-10-17T18:27:10.837091Z",
     "shell.execute_reply.started": "2024-10-17T18:27:10.226636Z"
    },
    "scrolled": true
   },
   "outputs": [
    {
     "name": "stderr",
     "output_type": "stream",
     "text": [
      "2024/10/17 20:27:10 INFO mlflow.tracking._tracking_service.client: 🏃 View run 2011-02-06 23:00:00 at: http://localhost:5001/#/experiments/493439610552836833/runs/b25cdf13e6c44ab8bd03abb777195d69.\n",
      "2024/10/17 20:27:10 INFO mlflow.tracking._tracking_service.client: 🧪 View experiment at: http://localhost:5001/#/experiments/493439610552836833.\n"
     ]
    },
    {
     "name": "stdout",
     "output_type": "stream",
     "text": [
      "Train period: 2011-01-02 00:00:00 - 2011-01-30 23:00:00\n",
      "X_train (reference) dataset shape:  (617, 10) (617,)\n",
      "Test period: 2011-01-31 00:00:00 - 2011-02-06 23:00:00\n",
      "X_test (current)) dataset shape:  (141, 10) (141,)\n",
      "Experiment id: 493439610552836833\n",
      "Run id: ae98a2f437f94e7781c4275a9f3765c7\n",
      "Run name: bright-slug-522\n",
      "MLFlow tracking uri: http://localhost:5001\n",
      "MLFlow artifact uri: mlflow-artifacts:/493439610552836833/b25cdf13e6c44ab8bd03abb777195d69/artifacts\n",
      "Train period: 2011-01-02 00:00:00 - 2011-02-06 23:00:00\n",
      "X_train (reference) dataset shape:  (782, 10) (782,)\n",
      "Test period: 2011-02-07 23:00:00 - 2011-02-13 23:00:00\n",
      "X_test (current)) dataset shape:  (139, 10) (139,)\n"
     ]
    },
    {
     "name": "stderr",
     "output_type": "stream",
     "text": [
      "2024/10/17 20:27:10 INFO mlflow.tracking._tracking_service.client: 🏃 View run 2011-02-13 23:00:00 at: http://localhost:5001/#/experiments/493439610552836833/runs/67dbd75381644348bde01ccb6d04dae4.\n",
      "2024/10/17 20:27:10 INFO mlflow.tracking._tracking_service.client: 🧪 View experiment at: http://localhost:5001/#/experiments/493439610552836833.\n"
     ]
    },
    {
     "name": "stdout",
     "output_type": "stream",
     "text": [
      "Experiment id: 493439610552836833\n",
      "Run id: ae98a2f437f94e7781c4275a9f3765c7\n",
      "Run name: bright-slug-522\n",
      "MLFlow tracking uri: http://localhost:5001\n",
      "MLFlow artifact uri: mlflow-artifacts:/493439610552836833/67dbd75381644348bde01ccb6d04dae4/artifacts\n",
      "Train period: 2011-01-02 00:00:00 - 2011-02-13 23:00:00\n",
      "X_train (reference) dataset shape:  (945, 10) (945,)\n",
      "Test period: 2011-02-14 23:00:00 - 2011-02-20 23:00:00\n",
      "X_test (current)) dataset shape:  (141, 10) (141,)\n"
     ]
    },
    {
     "name": "stderr",
     "output_type": "stream",
     "text": [
      "2024/10/17 20:27:10 INFO mlflow.tracking._tracking_service.client: 🏃 View run 2011-02-20 23:00:00 at: http://localhost:5001/#/experiments/493439610552836833/runs/164705fff14f40ddb6565092aef28697.\n",
      "2024/10/17 20:27:10 INFO mlflow.tracking._tracking_service.client: 🧪 View experiment at: http://localhost:5001/#/experiments/493439610552836833.\n"
     ]
    },
    {
     "name": "stdout",
     "output_type": "stream",
     "text": [
      "Experiment id: 493439610552836833\n",
      "Run id: ae98a2f437f94e7781c4275a9f3765c7\n",
      "Run name: bright-slug-522\n",
      "MLFlow tracking uri: http://localhost:5001\n",
      "MLFlow artifact uri: mlflow-artifacts:/493439610552836833/164705fff14f40ddb6565092aef28697/artifacts\n",
      "Train period: 2011-01-02 00:00:00 - 2011-02-20 23:00:00\n",
      "X_train (reference) dataset shape:  (1110, 10) (1110,)\n",
      "Test period: 2011-02-21 00:00:00 - 2011-02-27 23:00:00\n",
      "X_test (current)) dataset shape:  (134, 10) (134,)\n"
     ]
    },
    {
     "name": "stderr",
     "output_type": "stream",
     "text": [
      "2024/10/17 20:27:10 INFO mlflow.tracking._tracking_service.client: 🏃 View run 2011-02-27 23:00:00 at: http://localhost:5001/#/experiments/493439610552836833/runs/657c14b5a0114d78b1362ec5aa582ed0.\n",
      "2024/10/17 20:27:10 INFO mlflow.tracking._tracking_service.client: 🧪 View experiment at: http://localhost:5001/#/experiments/493439610552836833.\n"
     ]
    },
    {
     "name": "stdout",
     "output_type": "stream",
     "text": [
      "Experiment id: 493439610552836833\n",
      "Run id: ae98a2f437f94e7781c4275a9f3765c7\n",
      "Run name: bright-slug-522\n",
      "MLFlow tracking uri: http://localhost:5001\n",
      "MLFlow artifact uri: mlflow-artifacts:/493439610552836833/657c14b5a0114d78b1362ec5aa582ed0/artifacts\n",
      "Train period: 2011-01-02 00:00:00 - 2011-02-27 23:00:00\n",
      "X_train (reference) dataset shape:  (1268, 10) (1268,)\n",
      "Test period: 2011-02-28 00:00:00 - 2011-03-06 23:00:00\n",
      "X_test (current)) dataset shape:  (143, 10) (143,)\n"
     ]
    },
    {
     "name": "stderr",
     "output_type": "stream",
     "text": [
      "2024/10/17 20:27:10 INFO mlflow.tracking._tracking_service.client: 🏃 View run 2011-03-06 23:00:00 at: http://localhost:5001/#/experiments/493439610552836833/runs/60f7a8ae48f84fa798a5a7c8845bb0b9.\n",
      "2024/10/17 20:27:10 INFO mlflow.tracking._tracking_service.client: 🧪 View experiment at: http://localhost:5001/#/experiments/493439610552836833.\n",
      "2024/10/17 20:27:10 INFO mlflow.tracking._tracking_service.client: 🏃 View run bright-slug-522 at: http://localhost:5001/#/experiments/493439610552836833/runs/ae98a2f437f94e7781c4275a9f3765c7.\n",
      "2024/10/17 20:27:10 INFO mlflow.tracking._tracking_service.client: 🧪 View experiment at: http://localhost:5001/#/experiments/493439610552836833.\n"
     ]
    },
    {
     "name": "stdout",
     "output_type": "stream",
     "text": [
      "Experiment id: 493439610552836833\n",
      "Run id: ae98a2f437f94e7781c4275a9f3765c7\n",
      "Run name: bright-slug-522\n",
      "MLFlow tracking uri: http://localhost:5001\n",
      "MLFlow artifact uri: mlflow-artifacts:/493439610552836833/60f7a8ae48f84fa798a5a7c8845bb0b9/artifacts\n"
     ]
    }
   ],
   "source": [
    "\n",
    "# Set experiment variables\n",
    "model_path = Path('../models/model.joblib')\n",
    "ref_end_data = end_date_0\n",
    "\n",
    "# Start a new Run (Parent Run)\n",
    "with mlflow.start_run() as run: \n",
    "    \n",
    "    # Update metrics with metrics for each Fold\n",
    "    metrics = {}\n",
    "\n",
    "    # Run model train for each batch (K-Fold)\n",
    "    for k, date in enumerate(experiment_batches):\n",
    "            \n",
    "        print(f\"Train period: {start_date_0} - {ref_end_data}\") \n",
    "        X_train = raw_data.loc[start_date_0:ref_end_data, numerical_features + categorical_features]\n",
    "        y_train = raw_data.loc[start_date_0:ref_end_data, target]\n",
    "        print(\"X_train (reference) dataset shape: \", X_train.shape, y_train.shape)\n",
    "        \n",
    "        print(f\"Test period: {date[0]} - {date[1]}\") \n",
    "        current = raw_data.loc[date[0]:date[1]]\n",
    "        X_test = current.loc[:, numerical_features + categorical_features]\n",
    "        y_test = current[target]\n",
    "        print(\"X_test (current)) dataset shape: \",  X_test.shape, y_test.shape)\n",
    "        \n",
    "        # Update reference end date\n",
    "        ref_end_data = date[1]\n",
    "\n",
    "        # Train model\n",
    "        regressor = ensemble.RandomForestRegressor(random_state = 0, n_estimators = 50)\n",
    "        regressor.fit(X_train, y_train)\n",
    "\n",
    "        # Calculate metrucs\n",
    "        preds = regressor.predict(X_test)\n",
    "        me = mean_squared_error(y_test, preds)\n",
    "        mae = mean_absolute_error(y_test, preds)\n",
    "        metrics.update({date[1]: {'me': me, 'mae': mae}})\n",
    "        \n",
    "        # Run a Child Run for each Fold \n",
    "        with mlflow.start_run(run_name=date[1], nested=True) as child_run:\n",
    "            \n",
    "            # Show newly created run metadata info\n",
    "            print(\"Experiment id: {}\".format(run.info.experiment_id))\n",
    "            print(\"Run id: {}\".format(run.info.run_id))\n",
    "            print(\"Run name: {}\".format(run.info.run_name))\n",
    "            print('MLFlow tracking uri:', mlflow.get_tracking_uri())\n",
    "            print('MLFlow artifact uri:', mlflow.get_artifact_uri())\n",
    "            \n",
    "            # Log parameters\n",
    "            mlflow.log_param(\"begin\", date[0])\n",
    "            mlflow.log_param(\"end\", date[1])\n",
    "            \n",
    "            # Log metrics\n",
    "            mlflow.log_metric('me', round(me, 3))\n",
    "            mlflow.log_metric('mae', round(mae, 3))\n",
    "        \n",
    "    # Save model\n",
    "    joblib.dump(regressor, model_path)\n",
    "\n",
    "    # Log the last batch model as the parent Run model\n",
    "    mlflow.log_artifact(model_path)\n",
    "    \n",
    "    # Log metrics\n",
    "    average_run_merics = pd.DataFrame.from_dict(metrics).T.mean().round(3).to_dict()\n",
    "    mlflow.log_metrics(average_run_merics)"
   ]
  },
  {
   "cell_type": "markdown",
   "metadata": {},
   "source": [
    "# Log metrics by steps or timestamps"
   ]
  },
  {
   "cell_type": "code",
   "execution_count": 23,
   "metadata": {
    "execution": {
     "iopub.execute_input": "2024-10-17T18:28:03.147650Z",
     "iopub.status.busy": "2024-10-17T18:28:03.147124Z",
     "iopub.status.idle": "2024-10-17T18:28:03.677393Z",
     "shell.execute_reply": "2024-10-17T18:28:03.677108Z",
     "shell.execute_reply.started": "2024-10-17T18:28:03.147615Z"
    },
    "scrolled": true
   },
   "outputs": [
    {
     "name": "stderr",
     "output_type": "stream",
     "text": [
      "2024/10/17 20:28:03 INFO mlflow.tracking.fluent: Experiment with name '3-Metrics-by-steps' does not exist. Creating a new experiment.\n"
     ]
    },
    {
     "name": "stdout",
     "output_type": "stream",
     "text": [
      "Client tracking uri: http://localhost:5001\n",
      "Train period: 2011-01-02 00:00:00 - 2011-01-30 23:00:00\n",
      "X_train (reference) dataset shape:  (617, 10) (617,)\n",
      "Test period: 2011-01-31 00:00:00 - 2011-02-06 23:00:00\n",
      "X_test (current)) dataset shape:  (141, 10) (141,)\n",
      "Train period: 2011-01-02 00:00:00 - 2011-02-06 23:00:00\n",
      "X_train (reference) dataset shape:  (782, 10) (782,)\n",
      "Test period: 2011-02-07 23:00:00 - 2011-02-13 23:00:00\n",
      "X_test (current)) dataset shape:  (139, 10) (139,)\n",
      "Train period: 2011-01-02 00:00:00 - 2011-02-13 23:00:00\n",
      "X_train (reference) dataset shape:  (945, 10) (945,)\n",
      "Test period: 2011-02-14 23:00:00 - 2011-02-20 23:00:00\n",
      "X_test (current)) dataset shape:  (141, 10) (141,)\n",
      "Train period: 2011-01-02 00:00:00 - 2011-02-20 23:00:00\n",
      "X_train (reference) dataset shape:  (1110, 10) (1110,)\n",
      "Test period: 2011-02-21 00:00:00 - 2011-02-27 23:00:00\n",
      "X_test (current)) dataset shape:  (134, 10) (134,)\n",
      "Train period: 2011-01-02 00:00:00 - 2011-02-27 23:00:00\n",
      "X_train (reference) dataset shape:  (1268, 10) (1268,)\n",
      "Test period: 2011-02-28 00:00:00 - 2011-03-06 23:00:00\n",
      "X_test (current)) dataset shape:  (143, 10) (143,)\n"
     ]
    },
    {
     "name": "stderr",
     "output_type": "stream",
     "text": [
      "2024/10/17 20:28:03 INFO mlflow.tracking._tracking_service.client: 🏃 View run wise-donkey-376 at: http://localhost:5001/#/experiments/831724629963108498/runs/4ca5a3572b20419197fc8073f30b2460.\n",
      "2024/10/17 20:28:03 INFO mlflow.tracking._tracking_service.client: 🧪 View experiment at: http://localhost:5001/#/experiments/831724629963108498.\n"
     ]
    }
   ],
   "source": [
    "import time\n",
    "import datetime\n",
    "\n",
    "# Set up MLFlow Client\n",
    "MLFLOW_TRACKING_URI = \"http://localhost:5001\"\n",
    "mlflow.set_tracking_uri(MLFLOW_TRACKING_URI)\n",
    "client = MlflowClient()\n",
    "print(f\"Client tracking uri: {client.tracking_uri}\")\n",
    "\n",
    "# Set experiment name\n",
    "mlflow.set_experiment('3-Metrics-by-steps')\n",
    "\n",
    "# Set experiment variables\n",
    "model_path = Path('../models/model.joblib')\n",
    "ref_end_data = end_date_0\n",
    "\n",
    "# Start a new MLflow Run\n",
    "with mlflow.start_run() as run: \n",
    "\n",
    "    # Run model train for each batch (K-Fold)\n",
    "    for k, date in enumerate(experiment_batches):\n",
    "\n",
    "        # Calculate timestamp\n",
    "        timestamp = time.mktime(datetime.datetime.strptime(date[1], \"%Y-%m-%d %H:%M:%S\").timetuple())\n",
    "    \n",
    "        print(f\"Train period: {start_date_0} - {ref_end_data}\") \n",
    "        X_train = raw_data.loc[start_date_0:ref_end_data, numerical_features + categorical_features]\n",
    "        y_train = raw_data.loc[start_date_0:ref_end_data, target]\n",
    "        print(\"X_train (reference) dataset shape: \", X_train.shape, y_train.shape)\n",
    "        \n",
    "        print(f\"Test period: {date[0]} - {date[1]}\") \n",
    "        current = raw_data.loc[date[0]:date[1]]\n",
    "        X_test = current.loc[:, numerical_features + categorical_features]\n",
    "        y_test = current[target]\n",
    "        print(\"X_test (current)) dataset shape: \",  X_test.shape, y_test.shape)\n",
    "        \n",
    "        # Update reference end date\n",
    "        ref_end_data = date[1]\n",
    "        \n",
    "        # Train model\n",
    "        regressor = ensemble.RandomForestRegressor(random_state = 0, n_estimators = 50)\n",
    "        regressor.fit(X_train, y_train)\n",
    "    \n",
    "        # Calculate metrics\n",
    "        preds = regressor.predict(X_test)\n",
    "        me = mean_squared_error(y_test, preds)\n",
    "        mae = mean_absolute_error(y_test, preds)\n",
    "        # print(me, mae)\n",
    "        \n",
    "        # Log metrics (use Client)\n",
    "        # >>> 'timestamp' - Time when this metric was calculated. Defaults to the current system time\n",
    "        # >>> 'step' -  Integer training step (iteration) at which was the metric calculated. Defaults to 0.\n",
    "        client.log_metric(run.info.run_id, 'me', round(me, 3), timestamp=int(timestamp)*1000)\n",
    "        client.log_metric(run.info.run_id, 'mae', round(mae, 3), step=k)\n",
    "\n",
    "    # Log model \n",
    "    mlflow.log_artifact(model_path)\n",
    "\n",
    "    # Log parameters\n",
    "    mlflow.log_param(\"begin\", date[0])\n",
    "    mlflow.log_param(\"end\", date[1])\n",
    "    "
   ]
  },
  {
   "cell_type": "code",
   "execution_count": null,
   "metadata": {},
   "outputs": [],
   "source": []
  }
 ],
 "metadata": {
  "colab": {
   "provenance": []
  },
  "kernelspec": {
   "display_name": "Python 3 (ipykernel)",
   "language": "python",
   "name": "python3"
  },
  "language_info": {
   "codemirror_mode": {
    "name": "ipython",
    "version": 3
   },
   "file_extension": ".py",
   "mimetype": "text/x-python",
   "name": "python",
   "nbconvert_exporter": "python",
   "pygments_lexer": "ipython3",
   "version": "3.11.6"
  },
  "toc": {
   "base_numbering": 1,
   "nav_menu": {},
   "number_sections": true,
   "sideBar": true,
   "skip_h1_title": false,
   "title_cell": "Table of Contents",
   "title_sidebar": "Contents",
   "toc_cell": false,
   "toc_position": {},
   "toc_section_display": true,
   "toc_window_display": false
  }
 },
 "nbformat": 4,
 "nbformat_minor": 4
}
